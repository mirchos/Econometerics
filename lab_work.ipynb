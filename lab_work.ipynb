{
 "cells": [
  {
   "cell_type": "markdown",
   "metadata": {
    "id": "2LDjNwV-L07C"
   },
   "source": [
    "# Аналитика данных с помощью `pandas` и `matplotlib`"
   ]
  },
  {
   "cell_type": "markdown",
   "metadata": {
    "id": "yahCEf27L8Xz"
   },
   "source": [
    "В этом задании вам предлагается выполнить анализ данных криптовалют с помощью библиотек pandas и matplotlib.\n",
    "Задание выглядит как лабораторная работа, в которой вам предстоит заполнить недостающие клетки и ответить на ряд вопросов.\n",
    " - [Официальная документация pandas](https://pandas.pydata.org/)\n",
    " - [Официальная документация matplotlib](https://matplotlib.org/index.html)"
   ]
  },
  {
   "cell_type": "markdown",
   "metadata": {
    "id": "OEDe7x8YRID0"
   },
   "source": [
    "## Внимание! Attention! Achtung!"
   ]
  },
  {
   "cell_type": "markdown",
   "metadata": {
    "id": "ZEmKA-7NR1Y9"
   },
   "source": [
    "**Данная лабораторная работа является блокирующей**, т.е. если лабораторная работа не выполнена, то оценка за курс - неуд.\n",
    "\n",
    "Лабораторная работа считается выполненной, если набран как минимум 1 балл."
   ]
  },
  {
   "cell_type": "markdown",
   "metadata": {
    "id": "N1ZbZ8dkR5q_"
   },
   "source": [
    "## Формат сдачи лабораторной работы"
   ]
  },
  {
   "cell_type": "markdown",
   "metadata": {
    "id": "tEwx7LLQR-h8"
   },
   "source": [
    "Данная лабораторная работа сдается так же, как и проект - заполняете данный ноутбук, отправляете его через GitHub с указанием проверяющего."
   ]
  },
  {
   "cell_type": "markdown",
   "metadata": {
    "id": "qKwaNCJKj7b8"
   },
   "source": [
    "**Ассистенты не будут запускать ячейки кода, а смотреть на выведенный результат и код. Если ячейка кода не запущена - балл не ставится, даже при правильно написанном коде.**"
   ]
  },
  {
   "cell_type": "markdown",
   "metadata": {
    "id": "dWNu1zPiL07Q"
   },
   "source": [
    "## 1. Данные (2 балла)"
   ]
  },
  {
   "cell_type": "markdown",
   "metadata": {
    "id": "Nh7axXM5MrlX"
   },
   "source": [
    "Скачиваем данные для работы:"
   ]
  },
  {
   "cell_type": "code",
   "execution_count": 1,
   "metadata": {
    "id": "bzRxn9yrMq79"
   },
   "outputs": [
    {
     "name": "stderr",
     "output_type": "stream",
     "text": [
      "bash: line 1: gdown: command not found\n"
     ]
    },
    {
     "ename": "CalledProcessError",
     "evalue": "Command 'b'gdown 1e-Q_15W7ExExQarKqgjrtoO-LHi9oJs3\\n'' returned non-zero exit status 127.",
     "output_type": "error",
     "traceback": [
      "\u001b[0;31m---------------------------------------------------------------------------\u001b[0m",
      "\u001b[0;31mCalledProcessError\u001b[0m                        Traceback (most recent call last)",
      "Cell \u001b[0;32mIn[1], line 1\u001b[0m\n\u001b[0;32m----> 1\u001b[0m \u001b[43mget_ipython\u001b[49m\u001b[43m(\u001b[49m\u001b[43m)\u001b[49m\u001b[38;5;241;43m.\u001b[39;49m\u001b[43mrun_cell_magic\u001b[49m\u001b[43m(\u001b[49m\u001b[38;5;124;43m'\u001b[39;49m\u001b[38;5;124;43mbash\u001b[39;49m\u001b[38;5;124;43m'\u001b[39;49m\u001b[43m,\u001b[49m\u001b[43m \u001b[49m\u001b[38;5;124;43m'\u001b[39;49m\u001b[38;5;124;43m'\u001b[39;49m\u001b[43m,\u001b[49m\u001b[43m \u001b[49m\u001b[38;5;124;43m'\u001b[39;49m\u001b[38;5;124;43mgdown 1e-Q_15W7ExExQarKqgjrtoO-LHi9oJs3\u001b[39;49m\u001b[38;5;130;43;01m\\n\u001b[39;49;00m\u001b[38;5;124;43m'\u001b[39;49m\u001b[43m)\u001b[49m\n",
      "File \u001b[0;32m~/opt/anaconda3/lib/python3.9/site-packages/IPython/core/interactiveshell.py:2430\u001b[0m, in \u001b[0;36mInteractiveShell.run_cell_magic\u001b[0;34m(self, magic_name, line, cell)\u001b[0m\n\u001b[1;32m   2428\u001b[0m \u001b[38;5;28;01mwith\u001b[39;00m \u001b[38;5;28mself\u001b[39m\u001b[38;5;241m.\u001b[39mbuiltin_trap:\n\u001b[1;32m   2429\u001b[0m     args \u001b[38;5;241m=\u001b[39m (magic_arg_s, cell)\n\u001b[0;32m-> 2430\u001b[0m     result \u001b[38;5;241m=\u001b[39m \u001b[43mfn\u001b[49m\u001b[43m(\u001b[49m\u001b[38;5;241;43m*\u001b[39;49m\u001b[43margs\u001b[49m\u001b[43m,\u001b[49m\u001b[43m \u001b[49m\u001b[38;5;241;43m*\u001b[39;49m\u001b[38;5;241;43m*\u001b[39;49m\u001b[43mkwargs\u001b[49m\u001b[43m)\u001b[49m\n\u001b[1;32m   2432\u001b[0m \u001b[38;5;66;03m# The code below prevents the output from being displayed\u001b[39;00m\n\u001b[1;32m   2433\u001b[0m \u001b[38;5;66;03m# when using magics with decodator @output_can_be_silenced\u001b[39;00m\n\u001b[1;32m   2434\u001b[0m \u001b[38;5;66;03m# when the last Python token in the expression is a ';'.\u001b[39;00m\n\u001b[1;32m   2435\u001b[0m \u001b[38;5;28;01mif\u001b[39;00m \u001b[38;5;28mgetattr\u001b[39m(fn, magic\u001b[38;5;241m.\u001b[39mMAGIC_OUTPUT_CAN_BE_SILENCED, \u001b[38;5;28;01mFalse\u001b[39;00m):\n",
      "File \u001b[0;32m~/opt/anaconda3/lib/python3.9/site-packages/IPython/core/magics/script.py:153\u001b[0m, in \u001b[0;36mScriptMagics._make_script_magic.<locals>.named_script_magic\u001b[0;34m(line, cell)\u001b[0m\n\u001b[1;32m    151\u001b[0m \u001b[38;5;28;01melse\u001b[39;00m:\n\u001b[1;32m    152\u001b[0m     line \u001b[38;5;241m=\u001b[39m script\n\u001b[0;32m--> 153\u001b[0m \u001b[38;5;28;01mreturn\u001b[39;00m \u001b[38;5;28;43mself\u001b[39;49m\u001b[38;5;241;43m.\u001b[39;49m\u001b[43mshebang\u001b[49m\u001b[43m(\u001b[49m\u001b[43mline\u001b[49m\u001b[43m,\u001b[49m\u001b[43m \u001b[49m\u001b[43mcell\u001b[49m\u001b[43m)\u001b[49m\n",
      "File \u001b[0;32m~/opt/anaconda3/lib/python3.9/site-packages/IPython/core/magics/script.py:305\u001b[0m, in \u001b[0;36mScriptMagics.shebang\u001b[0;34m(self, line, cell)\u001b[0m\n\u001b[1;32m    300\u001b[0m \u001b[38;5;28;01mif\u001b[39;00m args\u001b[38;5;241m.\u001b[39mraise_error \u001b[38;5;129;01mand\u001b[39;00m p\u001b[38;5;241m.\u001b[39mreturncode \u001b[38;5;241m!=\u001b[39m \u001b[38;5;241m0\u001b[39m:\n\u001b[1;32m    301\u001b[0m     \u001b[38;5;66;03m# If we get here and p.returncode is still None, we must have\u001b[39;00m\n\u001b[1;32m    302\u001b[0m     \u001b[38;5;66;03m# killed it but not yet seen its return code. We don't wait for it,\u001b[39;00m\n\u001b[1;32m    303\u001b[0m     \u001b[38;5;66;03m# in case it's stuck in uninterruptible sleep. -9 = SIGKILL\u001b[39;00m\n\u001b[1;32m    304\u001b[0m     rc \u001b[38;5;241m=\u001b[39m p\u001b[38;5;241m.\u001b[39mreturncode \u001b[38;5;129;01mor\u001b[39;00m \u001b[38;5;241m-\u001b[39m\u001b[38;5;241m9\u001b[39m\n\u001b[0;32m--> 305\u001b[0m     \u001b[38;5;28;01mraise\u001b[39;00m CalledProcessError(rc, cell)\n",
      "\u001b[0;31mCalledProcessError\u001b[0m: Command 'b'gdown 1e-Q_15W7ExExQarKqgjrtoO-LHi9oJs3\\n'' returned non-zero exit status 127."
     ]
    }
   ],
   "source": [
    "%%bash\n",
    "gdown 1e-Q_15W7ExExQarKqgjrtoO-LHi9oJs3"
   ]
  },
  {
   "cell_type": "markdown",
   "metadata": {
    "id": "rxz0pXGIL07S"
   },
   "source": [
    "Начнем с необходимых приготовлений."
   ]
  },
  {
   "cell_type": "code",
   "execution_count": 2,
   "metadata": {
    "id": "-G3lHlpmL07T"
   },
   "outputs": [
    {
     "ename": "ModuleNotFoundError",
     "evalue": "No module named 'ipywidgets'",
     "output_type": "error",
     "traceback": [
      "\u001b[0;31m---------------------------------------------------------------------------\u001b[0m",
      "\u001b[0;31mModuleNotFoundError\u001b[0m                       Traceback (most recent call last)",
      "Cell \u001b[0;32mIn[2], line 1\u001b[0m\n\u001b[0;32m----> 1\u001b[0m \u001b[38;5;28;01mimport\u001b[39;00m \u001b[38;5;21;01mipywidgets\u001b[39;00m  \u001b[38;5;66;03m# Библиотека для интерактивных контролов в jupyter notebook'е\u001b[39;00m\n\u001b[1;32m      2\u001b[0m \u001b[38;5;28;01mimport\u001b[39;00m \u001b[38;5;21;01mmatplotlib\u001b[39;00m\u001b[38;5;21;01m.\u001b[39;00m\u001b[38;5;21;01mpyplot\u001b[39;00m \u001b[38;5;28;01mas\u001b[39;00m \u001b[38;5;21;01mplt\u001b[39;00m\n\u001b[1;32m      3\u001b[0m \u001b[38;5;28;01mimport\u001b[39;00m \u001b[38;5;21;01mpandas\u001b[39;00m \u001b[38;5;28;01mas\u001b[39;00m \u001b[38;5;21;01mpd\u001b[39;00m\n",
      "\u001b[0;31mModuleNotFoundError\u001b[0m: No module named 'ipywidgets'"
     ]
    }
   ],
   "source": [
    "\n",
    "import ipywidgets  # Библиотека для интерактивных контролов в jupyter notebook'е\n",
    "import matplotlib.pyplot as plt\n",
    "import pandas as pd\n",
    "import numpy as np\n",
    "\n",
    "% matplotlib inline"
   ]
  },
  {
   "cell_type": "markdown",
   "metadata": {
    "id": "syVncWO5L07X"
   },
   "source": [
    "#### Загрузите заранее подготовленный датасет из файла `coins.csv`. Создайте объект типа `pandas.DataFrame` с именем `coins` и в качестве индекса выберите колонку с датой."
   ]
  },
  {
   "cell_type": "code",
   "execution_count": 3,
   "metadata": {
    "id": "3a-dnCG0L07Z"
   },
   "outputs": [
    {
     "ename": "NameError",
     "evalue": "name 'pd' is not defined",
     "output_type": "error",
     "traceback": [
      "\u001b[0;31m---------------------------------------------------------------------------\u001b[0m",
      "\u001b[0;31mNameError\u001b[0m                                 Traceback (most recent call last)",
      "Cell \u001b[0;32mIn[3], line 1\u001b[0m\n\u001b[0;32m----> 1\u001b[0m coins \u001b[38;5;241m=\u001b[39m \u001b[43mpd\u001b[49m\u001b[38;5;241m.\u001b[39mread_csv(\u001b[38;5;124m'\u001b[39m\u001b[38;5;124mcoins.csv\u001b[39m\u001b[38;5;124m'\u001b[39m, index_col\u001b[38;5;241m=\u001b[39m\u001b[38;5;124m'\u001b[39m\u001b[38;5;124mdate\u001b[39m\u001b[38;5;124m'\u001b[39m)\n\u001b[1;32m      2\u001b[0m coins\u001b[38;5;241m.\u001b[39mhead()\n",
      "\u001b[0;31mNameError\u001b[0m: name 'pd' is not defined"
     ]
    }
   ],
   "source": [
    "coins = pd.read_csv('coins.csv', index_col='date')\n",
    "coins.head()"
   ]
  },
  {
   "cell_type": "markdown",
   "metadata": {
    "id": "KVwDhn2bL07i"
   },
   "source": [
    "Поясним значения хранящиеся в колонках\n",
    " - date - дата измерений\n",
    " - name - полное название монеты\n",
    " - symbol - сокращенное название монеты\n",
    " - price - средняя цена монеты за торговый день в USD\n",
    " - txCount - количество транзакций в сети данной монеты\n",
    " - txVolume - объем монет переведенных между адресами в сети данной монеты\n",
    " - activeAddresses - количество адресов совершавших а данный день транзации в сети данной монеты\n",
    " - open - цена монеты в начале торгов данного дня\n",
    " - close - цена монеты в конце торгов данного дня\n",
    " - high - самая высокая цена данной монеты в течение данного торгового дня\n",
    " - low - самая низкая цена данной монеты в течение данного торгового дня\n",
    " - volume - объем торгов данной монетой на биржах в данный день\n",
    " - market - капитализация данной монеты в данный день"
   ]
  },
  {
   "cell_type": "markdown",
   "metadata": {
    "id": "_q8b6IndNKmV"
   },
   "source": [
    "Изучим полученные данные. Ответьте на следующие вопросы (вставляйте клетки с кодом и тектом ниже):"
   ]
  },
  {
   "cell_type": "markdown",
   "metadata": {
    "id": "7ud0R7PcL07k"
   },
   "source": [
    "### 1. Сколько всего различных монет представлено в датасете? (0.4 балла)"
   ]
  },
  {
   "cell_type": "code",
   "execution_count": 4,
   "metadata": {
    "id": "oN2d3V71L07m"
   },
   "outputs": [
    {
     "ename": "NameError",
     "evalue": "name 'coins' is not defined",
     "output_type": "error",
     "traceback": [
      "\u001b[0;31m---------------------------------------------------------------------------\u001b[0m",
      "\u001b[0;31mNameError\u001b[0m                                 Traceback (most recent call last)",
      "Cell \u001b[0;32mIn[4], line 1\u001b[0m\n\u001b[0;32m----> 1\u001b[0m \u001b[43mcoins\u001b[49m[\u001b[38;5;124m'\u001b[39m\u001b[38;5;124mname\u001b[39m\u001b[38;5;124m'\u001b[39m]\u001b[38;5;241m.\u001b[39mnunique()\n",
      "\u001b[0;31mNameError\u001b[0m: name 'coins' is not defined"
     ]
    }
   ],
   "source": [
    "coins['name'].nunique()"
   ]
  },
  {
   "cell_type": "markdown",
   "metadata": {
    "id": "TDffn2rLL07n"
   },
   "source": [
    "### 2. За какой период данные мы имеем? (0.4 балла)"
   ]
  },
  {
   "cell_type": "code",
   "execution_count": 5,
   "metadata": {
    "id": "7Ucmnjv1L07p"
   },
   "outputs": [
    {
     "ename": "NameError",
     "evalue": "name 'coins' is not defined",
     "output_type": "error",
     "traceback": [
      "\u001b[0;31m---------------------------------------------------------------------------\u001b[0m",
      "\u001b[0;31mNameError\u001b[0m                                 Traceback (most recent call last)",
      "Cell \u001b[0;32mIn[5], line 1\u001b[0m\n\u001b[0;32m----> 1\u001b[0m \u001b[43mcoins\u001b[49m\u001b[38;5;241m.\u001b[39mindex\u001b[38;5;241m.\u001b[39mmin(), coins\u001b[38;5;241m.\u001b[39mindex\u001b[38;5;241m.\u001b[39mmax()\n",
      "\u001b[0;31mNameError\u001b[0m: name 'coins' is not defined"
     ]
    }
   ],
   "source": [
    "coins.index.min(), coins.index.max()"
   ]
  },
  {
   "cell_type": "markdown",
   "metadata": {
    "id": "XFHJsy_5L07p"
   },
   "source": [
    "### 3. Есть ли пропуски в данных? Какой природы эти пропуски, чем они скорее всего вызваны? (0.5 балла)"
   ]
  },
  {
   "cell_type": "code",
   "execution_count": 6,
   "metadata": {
    "id": "D-nOmmFjL07r"
   },
   "outputs": [
    {
     "ename": "NameError",
     "evalue": "name 'coins' is not defined",
     "output_type": "error",
     "traceback": [
      "\u001b[0;31m---------------------------------------------------------------------------\u001b[0m",
      "\u001b[0;31mNameError\u001b[0m                                 Traceback (most recent call last)",
      "Cell \u001b[0;32mIn[6], line 1\u001b[0m\n\u001b[0;32m----> 1\u001b[0m \u001b[43mcoins\u001b[49m\u001b[38;5;241m.\u001b[39misna()\u001b[38;5;241m.\u001b[39msum()\n",
      "\u001b[0;31mNameError\u001b[0m: name 'coins' is not defined"
     ]
    }
   ],
   "source": [
    "coins.isna().sum()"
   ]
  },
  {
   "cell_type": "markdown",
   "metadata": {},
   "source": [
    "Больше всего пропусков в колонках связанных с транзакциями. Это может быть связано с тем, что не все монеты поддерживают транзакции."
   ]
  },
  {
   "cell_type": "code",
   "execution_count": 7,
   "metadata": {},
   "outputs": [
    {
     "ename": "NameError",
     "evalue": "name 'coins' is not defined",
     "output_type": "error",
     "traceback": [
      "\u001b[0;31m---------------------------------------------------------------------------\u001b[0m",
      "\u001b[0;31mNameError\u001b[0m                                 Traceback (most recent call last)",
      "Cell \u001b[0;32mIn[7], line 1\u001b[0m\n\u001b[0;32m----> 1\u001b[0m \u001b[43mcoins\u001b[49m[coins\u001b[38;5;241m.\u001b[39misna()\u001b[38;5;241m.\u001b[39many(axis\u001b[38;5;241m=\u001b[39m\u001b[38;5;241m1\u001b[39m)][\u001b[38;5;124m'\u001b[39m\u001b[38;5;124mname\u001b[39m\u001b[38;5;124m'\u001b[39m]\u001b[38;5;241m.\u001b[39munique()\n",
      "\u001b[0;31mNameError\u001b[0m: name 'coins' is not defined"
     ]
    }
   ],
   "source": [
    "coins[coins.isna().any(axis=1)]['name'].unique()"
   ]
  },
  {
   "cell_type": "markdown",
   "metadata": {},
   "source": [
    "Выведем монеты для которых есть пропуски. Видим, что это действительно монеты, которые либо не поддерживают транзакции, либо транзакции просто не учтены в датасете."
   ]
  },
  {
   "cell_type": "code",
   "execution_count": 8,
   "metadata": {},
   "outputs": [
    {
     "ename": "NameError",
     "evalue": "name 'coins' is not defined",
     "output_type": "error",
     "traceback": [
      "\u001b[0;31m---------------------------------------------------------------------------\u001b[0m",
      "\u001b[0;31mNameError\u001b[0m                                 Traceback (most recent call last)",
      "Cell \u001b[0;32mIn[8], line 1\u001b[0m\n\u001b[0;32m----> 1\u001b[0m \u001b[43mcoins\u001b[49m[coins[\u001b[38;5;124m'\u001b[39m\u001b[38;5;124mname\u001b[39m\u001b[38;5;124m'\u001b[39m] \u001b[38;5;241m==\u001b[39m \u001b[38;5;124m'\u001b[39m\u001b[38;5;124mLisk\u001b[39m\u001b[38;5;124m'\u001b[39m]\n",
      "\u001b[0;31mNameError\u001b[0m: name 'coins' is not defined"
     ]
    }
   ],
   "source": [
    "coins[coins['name'] == 'Lisk']"
   ]
  },
  {
   "cell_type": "markdown",
   "metadata": {},
   "source": []
  },
  {
   "cell_type": "markdown",
   "metadata": {
    "id": "Da-aXu_hL07s"
   },
   "source": [
    "### 4. У какой монеты и когда была самая высокая цена? (0.2 балла)"
   ]
  },
  {
   "cell_type": "code",
   "execution_count": 9,
   "metadata": {
    "id": "-D50115vL07t"
   },
   "outputs": [
    {
     "ename": "NameError",
     "evalue": "name 'coins' is not defined",
     "output_type": "error",
     "traceback": [
      "\u001b[0;31m---------------------------------------------------------------------------\u001b[0m",
      "\u001b[0;31mNameError\u001b[0m                                 Traceback (most recent call last)",
      "Cell \u001b[0;32mIn[9], line 1\u001b[0m\n\u001b[0;32m----> 1\u001b[0m \u001b[43mcoins\u001b[49m[coins[\u001b[38;5;124m'\u001b[39m\u001b[38;5;124mhigh\u001b[39m\u001b[38;5;124m'\u001b[39m] \u001b[38;5;241m==\u001b[39m coins[\u001b[38;5;124m'\u001b[39m\u001b[38;5;124mhigh\u001b[39m\u001b[38;5;124m'\u001b[39m]\u001b[38;5;241m.\u001b[39mmax()]\n",
      "\u001b[0;31mNameError\u001b[0m: name 'coins' is not defined"
     ]
    }
   ],
   "source": [
    "coins[coins['high'] == coins['high'].max()]"
   ]
  },
  {
   "cell_type": "markdown",
   "metadata": {},
   "source": [
    "Видим, что самая высокая цена была у биткоина в 17.12.2017"
   ]
  },
  {
   "cell_type": "markdown",
   "metadata": {
    "id": "3F9UdmukL07u"
   },
   "source": [
    "### 5. У какой монеты самая высокая и самая низкая средняя капитализация (среднее арифметическое капитализаций за все доступные дни)? Постройте круговую диаграмму с долями. (0.5 балла)"
   ]
  },
  {
   "cell_type": "code",
   "execution_count": 10,
   "metadata": {
    "id": "VeoJsuP6L07v"
   },
   "outputs": [
    {
     "ename": "NameError",
     "evalue": "name 'coins' is not defined",
     "output_type": "error",
     "traceback": [
      "\u001b[0;31m---------------------------------------------------------------------------\u001b[0m",
      "\u001b[0;31mNameError\u001b[0m                                 Traceback (most recent call last)",
      "Cell \u001b[0;32mIn[10], line 1\u001b[0m\n\u001b[0;32m----> 1\u001b[0m \u001b[43mcoins\u001b[49m\u001b[38;5;241m.\u001b[39mgroupby(\u001b[38;5;124m'\u001b[39m\u001b[38;5;124mname\u001b[39m\u001b[38;5;124m'\u001b[39m)[\u001b[38;5;124m'\u001b[39m\u001b[38;5;124mmarket\u001b[39m\u001b[38;5;124m'\u001b[39m]\u001b[38;5;241m.\u001b[39mmean()\u001b[38;5;241m.\u001b[39msort_values(ascending\u001b[38;5;241m=\u001b[39m\u001b[38;5;28;01mFalse\u001b[39;00m)\n",
      "\u001b[0;31mNameError\u001b[0m: name 'coins' is not defined"
     ]
    }
   ],
   "source": [
    "coins.groupby('name')['market'].mean().sort_values(ascending=False)"
   ]
  },
  {
   "cell_type": "code",
   "execution_count": 11,
   "metadata": {},
   "outputs": [
    {
     "ename": "NameError",
     "evalue": "name 'coins' is not defined",
     "output_type": "error",
     "traceback": [
      "\u001b[0;31m---------------------------------------------------------------------------\u001b[0m",
      "\u001b[0;31mNameError\u001b[0m                                 Traceback (most recent call last)",
      "Cell \u001b[0;32mIn[11], line 2\u001b[0m\n\u001b[1;32m      1\u001b[0m \u001b[38;5;66;03m#объединить все монеты с капитализацией меньше чем у binance coin в одну группу Others\u001b[39;00m\n\u001b[0;32m----> 2\u001b[0m pl_coins \u001b[38;5;241m=\u001b[39m \u001b[43mcoins\u001b[49m\u001b[38;5;241m.\u001b[39mgroupby(\u001b[38;5;124m'\u001b[39m\u001b[38;5;124mname\u001b[39m\u001b[38;5;124m'\u001b[39m)[\u001b[38;5;124m'\u001b[39m\u001b[38;5;124mmarket\u001b[39m\u001b[38;5;124m'\u001b[39m]\u001b[38;5;241m.\u001b[39mmean()\u001b[38;5;241m.\u001b[39msort_values(ascending\u001b[38;5;241m=\u001b[39m\u001b[38;5;28;01mFalse\u001b[39;00m)\n\u001b[1;32m      3\u001b[0m pl_coins[\u001b[38;5;124m'\u001b[39m\u001b[38;5;124mOthers\u001b[39m\u001b[38;5;124m'\u001b[39m] \u001b[38;5;241m=\u001b[39m pl_coins[pl_coins \u001b[38;5;241m<\u001b[39m pl_coins[\u001b[38;5;124m'\u001b[39m\u001b[38;5;124mBinance Coin\u001b[39m\u001b[38;5;124m'\u001b[39m]]\u001b[38;5;241m.\u001b[39msum()\n\u001b[1;32m      4\u001b[0m pl_coins \u001b[38;5;241m=\u001b[39m pl_coins[pl_coins \u001b[38;5;241m>\u001b[39m\u001b[38;5;241m=\u001b[39m pl_coins[\u001b[38;5;124m'\u001b[39m\u001b[38;5;124mBinance Coin\u001b[39m\u001b[38;5;124m'\u001b[39m]]\n",
      "\u001b[0;31mNameError\u001b[0m: name 'coins' is not defined"
     ]
    }
   ],
   "source": [
    "#объединить все монеты с капитализацией меньше чем у binance coin в одну группу Others\n",
    "pl_coins = coins.groupby('name')['market'].mean().sort_values(ascending=False)\n",
    "pl_coins['Others'] = pl_coins[pl_coins < pl_coins['Binance Coin']].sum()\n",
    "pl_coins = pl_coins[pl_coins >= pl_coins['Binance Coin']]"
   ]
  },
  {
   "cell_type": "code",
   "execution_count": 12,
   "metadata": {},
   "outputs": [
    {
     "ename": "NameError",
     "evalue": "name 'plt' is not defined",
     "output_type": "error",
     "traceback": [
      "\u001b[0;31m---------------------------------------------------------------------------\u001b[0m",
      "\u001b[0;31mNameError\u001b[0m                                 Traceback (most recent call last)",
      "Cell \u001b[0;32mIn[12], line 5\u001b[0m\n\u001b[1;32m      1\u001b[0m \u001b[38;5;28;01mdef\u001b[39;00m \u001b[38;5;21mmy_autopct\u001b[39m(pct):\n\u001b[1;32m      2\u001b[0m     \u001b[38;5;28;01mreturn\u001b[39;00m (\u001b[38;5;124m'\u001b[39m\u001b[38;5;132;01m%.2f\u001b[39;00m\u001b[38;5;124m'\u001b[39m \u001b[38;5;241m%\u001b[39m pct) \u001b[38;5;28;01mif\u001b[39;00m pct \u001b[38;5;241m>\u001b[39m \u001b[38;5;241m3\u001b[39m \u001b[38;5;28;01melse\u001b[39;00m \u001b[38;5;124m'\u001b[39m\u001b[38;5;124m'\u001b[39m\n\u001b[0;32m----> 5\u001b[0m fig \u001b[38;5;241m=\u001b[39m \u001b[43mplt\u001b[49m\u001b[38;5;241m.\u001b[39mfigure(figsize\u001b[38;5;241m=\u001b[39m(\u001b[38;5;241m15\u001b[39m, \u001b[38;5;241m15\u001b[39m))\n\u001b[1;32m      6\u001b[0m plt\u001b[38;5;241m.\u001b[39mpie(pl_coins, labels\u001b[38;5;241m=\u001b[39mpl_coins\u001b[38;5;241m.\u001b[39mindex, autopct\u001b[38;5;241m=\u001b[39mmy_autopct)\n\u001b[1;32m      7\u001b[0m plt\u001b[38;5;241m.\u001b[39mshow()\n",
      "\u001b[0;31mNameError\u001b[0m: name 'plt' is not defined"
     ]
    }
   ],
   "source": [
    "def my_autopct(pct):\n",
    "    return ('%.2f' % pct) if pct > 3 else ''\n",
    "\n",
    "\n",
    "fig = plt.figure(figsize=(15, 15))\n",
    "plt.pie(pl_coins, labels=pl_coins.index, autopct=my_autopct)\n",
    "plt.show()"
   ]
  },
  {
   "cell_type": "markdown",
   "metadata": {
    "id": "Q2uOSfUsL07w"
   },
   "source": [
    "## 2. Визуализация (1 балл)"
   ]
  },
  {
   "cell_type": "markdown",
   "metadata": {
    "id": "uwjJ-L7tL07w"
   },
   "source": [
    "Самая интересная часть работы аналитика состоит во внимательном вглядывании в правильно выбранные и построенные графики."
   ]
  },
  {
   "cell_type": "markdown",
   "metadata": {
    "id": "mtUf5gGiNa6z"
   },
   "source": [
    "**Реализуйте функцию для визуализации цен выбранной валюты за выбранный диапазон дат.**"
   ]
  },
  {
   "cell_type": "markdown",
   "metadata": {
    "id": "9qevVDaEL07x"
   },
   "source": [
    "На графике должны быть видны цены начала и конца продаж. А так же минимальная и максимальная цена за этот день.\n",
    "Подпишите график и оси координат. Добавьте сетку. Увеличьте размер изображения.\n",
    "Можете попробовать использовать `candlestick_ohlc` (`from mplfinance.original_flavor import candlestick_ohlc`), но можно и без него."
   ]
  },
  {
   "cell_type": "code",
   "execution_count": 13,
   "metadata": {
    "id": "mR_RvLetL07y",
    "scrolled": false
   },
   "outputs": [],
   "source": [
    "def plot_fancy_price_action(coins, symbol, start_date, end_date):\n",
    "    coin = coins[coins['symbol'] == symbol]\n",
    "    coin.index = pd.to_datetime(coin.index)\n",
    "    start_date = pd.to_datetime(start_date)\n",
    "    end_date = pd.to_datetime(end_date)\n",
    "    coin = coin[(coin.index >= start_date) & (coin.index <= end_date)]\n",
    "\n",
    "    fig = plt.figure(figsize=(15, 15))\n",
    "    ax = fig.add_subplot(111)\n",
    "    ax.set_title(f'Price action for VERI')\n",
    "    ax.set_xlabel('Date')\n",
    "    ax.set_ylabel('Price')\n",
    "    ax.grid()\n",
    "\n",
    "    ax.plot(coin.index, coin['open'], label='open', alpha=0.7)\n",
    "    ax.plot(coin.index, coin['close'], label='close', alpha=0.7)\n",
    "    ax.plot(coin.index, coin['high'], label='high', alpha=0.7)\n",
    "    ax.plot(coin.index, coin['low'], label='low', alpha=0.7)\n",
    "    ax.set_ylim(0, coin['high'].max() * 1.1)\n",
    "\n",
    "    ax.legend()\n",
    "    plt.show()"
   ]
  },
  {
   "cell_type": "markdown",
   "metadata": {
    "id": "C1F_4oSmL07z"
   },
   "source": [
    "Посмотрим, что получилось:"
   ]
  },
  {
   "cell_type": "code",
   "execution_count": 14,
   "metadata": {
    "id": "VIF6IvysL070"
   },
   "outputs": [
    {
     "ename": "NameError",
     "evalue": "name 'coins' is not defined",
     "output_type": "error",
     "traceback": [
      "\u001b[0;31m---------------------------------------------------------------------------\u001b[0m",
      "\u001b[0;31mNameError\u001b[0m                                 Traceback (most recent call last)",
      "Cell \u001b[0;32mIn[14], line 1\u001b[0m\n\u001b[0;32m----> 1\u001b[0m plot_fancy_price_action(coins\u001b[38;5;241m=\u001b[39m\u001b[43mcoins\u001b[49m, symbol\u001b[38;5;241m=\u001b[39m\u001b[38;5;124m'\u001b[39m\u001b[38;5;124mVERI\u001b[39m\u001b[38;5;124m'\u001b[39m, start_date\u001b[38;5;241m=\u001b[39m\u001b[38;5;124m'\u001b[39m\u001b[38;5;124m2013-06-01\u001b[39m\u001b[38;5;124m'\u001b[39m, end_date\u001b[38;5;241m=\u001b[39m\u001b[38;5;124m'\u001b[39m\u001b[38;5;124m2019-06-30\u001b[39m\u001b[38;5;124m'\u001b[39m)\n",
      "\u001b[0;31mNameError\u001b[0m: name 'coins' is not defined"
     ]
    }
   ],
   "source": [
    "plot_fancy_price_action(coins=coins, symbol='VERI', start_date='2013-06-01', end_date='2019-06-30')"
   ]
  },
  {
   "cell_type": "markdown",
   "metadata": {
    "id": "cPzieShSL070"
   },
   "source": [
    "Никакого датасаенса в этом задании нет. Просто аналитик должен уметь строить графики, либо знать готовые инструменты."
   ]
  },
  {
   "cell_type": "markdown",
   "metadata": {
    "id": "8eizRenYL071"
   },
   "source": [
    "## 3. Накачка и сброс (1 балл)"
   ]
  },
  {
   "cell_type": "markdown",
   "metadata": {
    "id": "WFgtlhMKNjtX"
   },
   "source": [
    "Криптовалютные биржи до сих пор остаются маргинальным местом, эдаким диким западом финансового мира. Как следствие, здесь процветают схемы относительно\n",
    "честного отъема денег. Одна из них - **pump'n'dump** (накачка и сброс). \n",
    "\n",
    "Она выглядит следуюшим образом. Несколько крупных игроков или много мелких договариваются вместе купить малоизвестную монету с низкой ценой и объемом торгов. Это приводит к мгновенному взлету цены (pump), далее приходят неопытные игроки в надежде успеть заработать на таком росте. В этот момент организаторы схемы начнают все продавать (dump). Весь процесс занимает от нескольких минут до нескольких часов."
   ]
  },
  {
   "cell_type": "markdown",
   "metadata": {
    "id": "EXsHpJmHNstO"
   },
   "source": [
    "Ваша задача -- **найти самый сильный pump'n'dump** монеты на заданном промежутке времени. Для этого для каждого дня определим число `pnd` равное отношению максимальной цены монеты в данный день к максимуму из цен открытия и закрытия в тот же день. Нужно найти день, когда `pnd` был максимален и величину `pnd`."
   ]
  },
  {
   "cell_type": "code",
   "execution_count": 107,
   "metadata": {
    "id": "rzA20Gm6L072"
   },
   "outputs": [],
   "source": [
    "def find_most_severe_pump_and_dump(coins, symbol, start_date, end_date):\n",
    "    coin = coins[coins['symbol'] == symbol]\n",
    "    coin.index = pd.to_datetime(coin.index)\n",
    "    start_date = pd.to_datetime(start_date)\n",
    "    end_date = pd.to_datetime(end_date)\n",
    "    coin = coin[(coin.index >= start_date) & (coin.index <= end_date)]\n",
    "\n",
    "    coin['pnd'] = coin['high'] / coin[['open', 'close']].max(axis=1)\n",
    "    max_pnd = coin['pnd'].max()\n",
    "    max_pnd_date = coin[coin['pnd'] == max_pnd].index[0]\n",
    "    return (max_pnd_date, max_pnd)"
   ]
  },
  {
   "cell_type": "code",
   "execution_count": 108,
   "metadata": {
    "id": "VZjM8FJ-L073"
   },
   "outputs": [
    {
     "name": "stdout",
     "output_type": "stream",
     "text": [
      "Max pnd for BTC was on 2017-11-29 00:00:00 and was equal to 1.1428940004366206\n"
     ]
    }
   ],
   "source": [
    "max_pnd_date, max_pnd = find_most_severe_pump_and_dump(coins, symbol='BTC', start_date='2017-06-01', end_date='2018-06-01')\n",
    "print(f'Max pnd for BTC was on {max_pnd_date} and was equal to {max_pnd}')"
   ]
  },
  {
   "cell_type": "markdown",
   "metadata": {
    "id": "nos0kiTFL073"
   },
   "source": [
    "Сравните эти значения для разных монет:"
   ]
  },
  {
   "cell_type": "code",
   "execution_count": 159,
   "metadata": {
    "id": "EXJgxg7HL074"
   },
   "outputs": [
    {
     "data": {
      "text/html": [
       "<div>\n",
       "<style scoped>\n",
       "    .dataframe tbody tr th:only-of-type {\n",
       "        vertical-align: middle;\n",
       "    }\n",
       "\n",
       "    .dataframe tbody tr th {\n",
       "        vertical-align: top;\n",
       "    }\n",
       "\n",
       "    .dataframe thead th {\n",
       "        text-align: right;\n",
       "    }\n",
       "</style>\n",
       "<table border=\"1\" class=\"dataframe\">\n",
       "  <thead>\n",
       "    <tr style=\"text-align: right;\">\n",
       "      <th></th>\n",
       "      <th>symbol</th>\n",
       "      <th>max_pnd_date</th>\n",
       "      <th>max_pnd</th>\n",
       "    </tr>\n",
       "  </thead>\n",
       "  <tbody>\n",
       "    <tr>\n",
       "      <th>26</th>\n",
       "      <td>VERI</td>\n",
       "      <td>2017-06-11</td>\n",
       "      <td>33.549254</td>\n",
       "    </tr>\n",
       "    <tr>\n",
       "      <th>4</th>\n",
       "      <td>DGB</td>\n",
       "      <td>2014-02-27</td>\n",
       "      <td>32.119149</td>\n",
       "    </tr>\n",
       "    <tr>\n",
       "      <th>27</th>\n",
       "      <td>FUN</td>\n",
       "      <td>2017-06-29</td>\n",
       "      <td>12.490562</td>\n",
       "    </tr>\n",
       "    <tr>\n",
       "      <th>46</th>\n",
       "      <td>TRX</td>\n",
       "      <td>2017-09-16</td>\n",
       "      <td>9.651010</td>\n",
       "    </tr>\n",
       "    <tr>\n",
       "      <th>34</th>\n",
       "      <td>BTM</td>\n",
       "      <td>2018-03-13</td>\n",
       "      <td>7.177933</td>\n",
       "    </tr>\n",
       "    <tr>\n",
       "      <th>...</th>\n",
       "      <td>...</td>\n",
       "      <td>...</td>\n",
       "      <td>...</td>\n",
       "    </tr>\n",
       "    <tr>\n",
       "      <th>63</th>\n",
       "      <td>CENNZ</td>\n",
       "      <td>2018-04-07</td>\n",
       "      <td>1.177753</td>\n",
       "    </tr>\n",
       "    <tr>\n",
       "      <th>38</th>\n",
       "      <td>BNB</td>\n",
       "      <td>2017-12-26</td>\n",
       "      <td>1.176080</td>\n",
       "    </tr>\n",
       "    <tr>\n",
       "      <th>42</th>\n",
       "      <td>NAS</td>\n",
       "      <td>2017-11-17</td>\n",
       "      <td>1.175824</td>\n",
       "    </tr>\n",
       "    <tr>\n",
       "      <th>9</th>\n",
       "      <td>USDT</td>\n",
       "      <td>2017-05-27</td>\n",
       "      <td>1.152381</td>\n",
       "    </tr>\n",
       "    <tr>\n",
       "      <th>65</th>\n",
       "      <td>CTXC</td>\n",
       "      <td>2018-04-24</td>\n",
       "      <td>1.142857</td>\n",
       "    </tr>\n",
       "  </tbody>\n",
       "</table>\n",
       "<p>66 rows × 3 columns</p>\n",
       "</div>"
      ],
      "text/plain": [
       "   symbol max_pnd_date    max_pnd\n",
       "26   VERI   2017-06-11  33.549254\n",
       "4     DGB   2014-02-27  32.119149\n",
       "27    FUN   2017-06-29  12.490562\n",
       "46    TRX   2017-09-16   9.651010\n",
       "34    BTM   2018-03-13   7.177933\n",
       "..    ...          ...        ...\n",
       "63  CENNZ   2018-04-07   1.177753\n",
       "38    BNB   2017-12-26   1.176080\n",
       "42    NAS   2017-11-17   1.175824\n",
       "9    USDT   2017-05-27   1.152381\n",
       "65   CTXC   2018-04-24   1.142857\n",
       "\n",
       "[66 rows x 3 columns]"
      ]
     },
     "execution_count": 159,
     "metadata": {},
     "output_type": "execute_result"
    }
   ],
   "source": [
    "pnd = pd.DataFrame(columns=['symbol', 'max_pnd_date', 'max_pnd'])\n",
    "for symbol in coins['symbol'].unique():\n",
    "    max_pnd_date, max_pnd = find_most_severe_pump_and_dump(coins, symbol=symbol, start_date='2013-06-01', end_date='2018-06-01')\n",
    "    #add to dataframe with concat\n",
    "    pnd = pnd.append({'symbol': symbol, 'max_pnd_date': max_pnd_date, 'max_pnd': max_pnd}, ignore_index=True)\n",
    "\n",
    "pnd = pnd.sort_values(by='max_pnd', ascending=False)\n",
    "pnd"
   ]
  },
  {
   "cell_type": "markdown",
   "metadata": {
    "id": "4I9QAGfGL074"
   },
   "source": [
    "## 4. Окупаемость инвестиций (1 балл)"
   ]
  },
  {
   "cell_type": "markdown",
   "metadata": {
    "id": "Ts7GdSZJL075"
   },
   "source": [
    "Вам нужно посчитать **окупаемость инвестиций (ROI)** в криптовалюты на заданном промежутке времени. \n",
    "\n",
    "Окупаемость определяется как отношение *изменения цены портфеля* к *исходной цене портфеля*. Цена портфеля - это суммарная стоимость (в USD) всех монет в портфеле.\n",
    "\n",
    "`investments` - словарь, в котором ключи - это названия монет, значения - это сумма вложений в эту монету (в USD)."
   ]
  },
  {
   "cell_type": "code",
   "execution_count": 115,
   "metadata": {
    "id": "RwDtgKjhL076"
   },
   "outputs": [],
   "source": [
    "def compute_roi(coins, investments, start_date, end_date):\n",
    "    start_date = pd.to_datetime(start_date)\n",
    "    end_date = pd.to_datetime(end_date)\n",
    "    coins.index = pd.to_datetime(coins.index)\n",
    "    coins = coins[(coins.index >= start_date) & (coins.index <= end_date)]\n",
    "\n",
    "    portfolio = pd.DataFrame(columns=['date', 'portfolio_value'])\n",
    "    for date in coins.index.unique():\n",
    "        portfolio_value = 0\n",
    "        for symbol, amount in investments.items():\n",
    "            coin = coins[(coins['symbol'] == symbol) & (coins.index == date)]\n",
    "            if len(coin) == 0:\n",
    "                continue\n",
    "            portfolio_value += amount * coin['close'].values[0]\n",
    "        portfolio = portfolio.append({'date': date, 'portfolio_value': portfolio_value}, ignore_index=True)\n",
    "\n",
    "    portfolio['portfolio_value_change'] = portfolio['portfolio_value'].pct_change()\n",
    "    portfolio['portfolio_value_change'].fillna(0, inplace=True)\n",
    "    portfolio['portfolio_value_change'].replace([np.inf, -np.inf], 0, inplace=True)\n",
    "    portfolio['portfolio_value_change'] += 1\n",
    "    portfolio['portfolio_value_change'] = portfolio['portfolio_value_change'].cumprod()\n",
    "    portfolio['portfolio_value_change'] -= 1\n",
    "\n",
    "    print(f'Portfolio value change: {portfolio[\"portfolio_value_change\"].values[-1]}')\n",
    "    return portfolio"
   ]
  },
  {
   "cell_type": "code",
   "execution_count": 116,
   "metadata": {
    "id": "oWW8XBrIL076"
   },
   "outputs": [
    {
     "name": "stdout",
     "output_type": "stream",
     "text": [
      "Portfolio value change: 0.09957478940177644\n"
     ]
    },
    {
     "data": {
      "text/html": [
       "<div>\n",
       "<style scoped>\n",
       "    .dataframe tbody tr th:only-of-type {\n",
       "        vertical-align: middle;\n",
       "    }\n",
       "\n",
       "    .dataframe tbody tr th {\n",
       "        vertical-align: top;\n",
       "    }\n",
       "\n",
       "    .dataframe thead th {\n",
       "        text-align: right;\n",
       "    }\n",
       "</style>\n",
       "<table border=\"1\" class=\"dataframe\">\n",
       "  <thead>\n",
       "    <tr style=\"text-align: right;\">\n",
       "      <th></th>\n",
       "      <th>date</th>\n",
       "      <th>portfolio_value</th>\n",
       "      <th>portfolio_value_change</th>\n",
       "    </tr>\n",
       "  </thead>\n",
       "  <tbody>\n",
       "    <tr>\n",
       "      <th>0</th>\n",
       "      <td>2018-04-04</td>\n",
       "      <td>6913045.0</td>\n",
       "      <td>0.000000</td>\n",
       "    </tr>\n",
       "    <tr>\n",
       "      <th>1</th>\n",
       "      <td>2018-04-05</td>\n",
       "      <td>6871035.0</td>\n",
       "      <td>-0.006077</td>\n",
       "    </tr>\n",
       "    <tr>\n",
       "      <th>2</th>\n",
       "      <td>2018-04-06</td>\n",
       "      <td>6692900.0</td>\n",
       "      <td>-0.031845</td>\n",
       "    </tr>\n",
       "    <tr>\n",
       "      <th>3</th>\n",
       "      <td>2018-04-07</td>\n",
       "      <td>6969220.0</td>\n",
       "      <td>0.008126</td>\n",
       "    </tr>\n",
       "    <tr>\n",
       "      <th>4</th>\n",
       "      <td>2018-04-08</td>\n",
       "      <td>7082355.0</td>\n",
       "      <td>0.024491</td>\n",
       "    </tr>\n",
       "    <tr>\n",
       "      <th>5</th>\n",
       "      <td>2018-04-09</td>\n",
       "      <td>6828225.0</td>\n",
       "      <td>-0.012270</td>\n",
       "    </tr>\n",
       "    <tr>\n",
       "      <th>6</th>\n",
       "      <td>2018-04-10</td>\n",
       "      <td>6891890.0</td>\n",
       "      <td>-0.003060</td>\n",
       "    </tr>\n",
       "    <tr>\n",
       "      <th>7</th>\n",
       "      <td>2018-04-11</td>\n",
       "      <td>7027465.0</td>\n",
       "      <td>0.016551</td>\n",
       "    </tr>\n",
       "    <tr>\n",
       "      <th>8</th>\n",
       "      <td>2018-04-12</td>\n",
       "      <td>7953920.0</td>\n",
       "      <td>0.150567</td>\n",
       "    </tr>\n",
       "    <tr>\n",
       "      <th>9</th>\n",
       "      <td>2018-04-13</td>\n",
       "      <td>7958635.0</td>\n",
       "      <td>0.151249</td>\n",
       "    </tr>\n",
       "    <tr>\n",
       "      <th>10</th>\n",
       "      <td>2018-04-14</td>\n",
       "      <td>8049385.0</td>\n",
       "      <td>0.164376</td>\n",
       "    </tr>\n",
       "    <tr>\n",
       "      <th>11</th>\n",
       "      <td>2018-04-15</td>\n",
       "      <td>8395130.0</td>\n",
       "      <td>0.214390</td>\n",
       "    </tr>\n",
       "    <tr>\n",
       "      <th>12</th>\n",
       "      <td>2018-04-16</td>\n",
       "      <td>8122840.0</td>\n",
       "      <td>0.175002</td>\n",
       "    </tr>\n",
       "    <tr>\n",
       "      <th>13</th>\n",
       "      <td>2018-04-17</td>\n",
       "      <td>7968555.0</td>\n",
       "      <td>0.152684</td>\n",
       "    </tr>\n",
       "    <tr>\n",
       "      <th>14</th>\n",
       "      <td>2018-04-18</td>\n",
       "      <td>8233420.0</td>\n",
       "      <td>0.190998</td>\n",
       "    </tr>\n",
       "    <tr>\n",
       "      <th>15</th>\n",
       "      <td>2018-04-19</td>\n",
       "      <td>8367460.0</td>\n",
       "      <td>0.210387</td>\n",
       "    </tr>\n",
       "    <tr>\n",
       "      <th>16</th>\n",
       "      <td>2018-04-20</td>\n",
       "      <td>8923600.0</td>\n",
       "      <td>0.290835</td>\n",
       "    </tr>\n",
       "    <tr>\n",
       "      <th>17</th>\n",
       "      <td>2018-04-21</td>\n",
       "      <td>8970045.0</td>\n",
       "      <td>0.297553</td>\n",
       "    </tr>\n",
       "    <tr>\n",
       "      <th>18</th>\n",
       "      <td>2018-04-22</td>\n",
       "      <td>8875845.0</td>\n",
       "      <td>0.283927</td>\n",
       "    </tr>\n",
       "    <tr>\n",
       "      <th>19</th>\n",
       "      <td>2018-04-23</td>\n",
       "      <td>9007005.0</td>\n",
       "      <td>0.302900</td>\n",
       "    </tr>\n",
       "    <tr>\n",
       "      <th>20</th>\n",
       "      <td>2018-04-24</td>\n",
       "      <td>9780390.0</td>\n",
       "      <td>0.414773</td>\n",
       "    </tr>\n",
       "    <tr>\n",
       "      <th>21</th>\n",
       "      <td>2018-04-25</td>\n",
       "      <td>8918120.0</td>\n",
       "      <td>0.290042</td>\n",
       "    </tr>\n",
       "    <tr>\n",
       "      <th>22</th>\n",
       "      <td>2018-04-26</td>\n",
       "      <td>9358350.0</td>\n",
       "      <td>0.353723</td>\n",
       "    </tr>\n",
       "    <tr>\n",
       "      <th>23</th>\n",
       "      <td>2018-04-27</td>\n",
       "      <td>9060005.0</td>\n",
       "      <td>0.310566</td>\n",
       "    </tr>\n",
       "    <tr>\n",
       "      <th>24</th>\n",
       "      <td>2018-04-28</td>\n",
       "      <td>9424630.0</td>\n",
       "      <td>0.363311</td>\n",
       "    </tr>\n",
       "    <tr>\n",
       "      <th>25</th>\n",
       "      <td>2018-04-29</td>\n",
       "      <td>9495895.0</td>\n",
       "      <td>0.373620</td>\n",
       "    </tr>\n",
       "    <tr>\n",
       "      <th>26</th>\n",
       "      <td>2018-04-30</td>\n",
       "      <td>9314790.0</td>\n",
       "      <td>0.347422</td>\n",
       "    </tr>\n",
       "    <tr>\n",
       "      <th>27</th>\n",
       "      <td>2018-05-01</td>\n",
       "      <td>9193255.0</td>\n",
       "      <td>0.329842</td>\n",
       "    </tr>\n",
       "    <tr>\n",
       "      <th>28</th>\n",
       "      <td>2018-05-02</td>\n",
       "      <td>9311710.0</td>\n",
       "      <td>0.346977</td>\n",
       "    </tr>\n",
       "    <tr>\n",
       "      <th>29</th>\n",
       "      <td>2018-05-03</td>\n",
       "      <td>9824590.0</td>\n",
       "      <td>0.421167</td>\n",
       "    </tr>\n",
       "    <tr>\n",
       "      <th>30</th>\n",
       "      <td>2018-05-04</td>\n",
       "      <td>9785155.0</td>\n",
       "      <td>0.415462</td>\n",
       "    </tr>\n",
       "    <tr>\n",
       "      <th>31</th>\n",
       "      <td>2018-05-05</td>\n",
       "      <td>9947030.0</td>\n",
       "      <td>0.438878</td>\n",
       "    </tr>\n",
       "    <tr>\n",
       "      <th>32</th>\n",
       "      <td>2018-05-06</td>\n",
       "      <td>9740700.0</td>\n",
       "      <td>0.409032</td>\n",
       "    </tr>\n",
       "    <tr>\n",
       "      <th>33</th>\n",
       "      <td>2018-05-07</td>\n",
       "      <td>9455450.0</td>\n",
       "      <td>0.367769</td>\n",
       "    </tr>\n",
       "    <tr>\n",
       "      <th>34</th>\n",
       "      <td>2018-05-08</td>\n",
       "      <td>9314630.0</td>\n",
       "      <td>0.347399</td>\n",
       "    </tr>\n",
       "    <tr>\n",
       "      <th>35</th>\n",
       "      <td>2018-05-09</td>\n",
       "      <td>9403710.0</td>\n",
       "      <td>0.360285</td>\n",
       "    </tr>\n",
       "    <tr>\n",
       "      <th>36</th>\n",
       "      <td>2018-05-10</td>\n",
       "      <td>9118875.0</td>\n",
       "      <td>0.319082</td>\n",
       "    </tr>\n",
       "    <tr>\n",
       "      <th>37</th>\n",
       "      <td>2018-05-11</td>\n",
       "      <td>8510050.0</td>\n",
       "      <td>0.231013</td>\n",
       "    </tr>\n",
       "    <tr>\n",
       "      <th>38</th>\n",
       "      <td>2018-05-12</td>\n",
       "      <td>8575830.0</td>\n",
       "      <td>0.240529</td>\n",
       "    </tr>\n",
       "    <tr>\n",
       "      <th>39</th>\n",
       "      <td>2018-05-13</td>\n",
       "      <td>8796235.0</td>\n",
       "      <td>0.272411</td>\n",
       "    </tr>\n",
       "    <tr>\n",
       "      <th>40</th>\n",
       "      <td>2018-05-14</td>\n",
       "      <td>8790645.0</td>\n",
       "      <td>0.271602</td>\n",
       "    </tr>\n",
       "    <tr>\n",
       "      <th>41</th>\n",
       "      <td>2018-05-15</td>\n",
       "      <td>8580320.0</td>\n",
       "      <td>0.241178</td>\n",
       "    </tr>\n",
       "    <tr>\n",
       "      <th>42</th>\n",
       "      <td>2018-05-16</td>\n",
       "      <td>8438465.0</td>\n",
       "      <td>0.220658</td>\n",
       "    </tr>\n",
       "    <tr>\n",
       "      <th>43</th>\n",
       "      <td>2018-05-17</td>\n",
       "      <td>8160705.0</td>\n",
       "      <td>0.180479</td>\n",
       "    </tr>\n",
       "    <tr>\n",
       "      <th>44</th>\n",
       "      <td>2018-05-18</td>\n",
       "      <td>8319000.0</td>\n",
       "      <td>0.203377</td>\n",
       "    </tr>\n",
       "    <tr>\n",
       "      <th>45</th>\n",
       "      <td>2018-05-19</td>\n",
       "      <td>8314840.0</td>\n",
       "      <td>0.202775</td>\n",
       "    </tr>\n",
       "    <tr>\n",
       "      <th>46</th>\n",
       "      <td>2018-05-20</td>\n",
       "      <td>8583100.0</td>\n",
       "      <td>0.241580</td>\n",
       "    </tr>\n",
       "    <tr>\n",
       "      <th>47</th>\n",
       "      <td>2018-05-21</td>\n",
       "      <td>8486245.0</td>\n",
       "      <td>0.227570</td>\n",
       "    </tr>\n",
       "    <tr>\n",
       "      <th>48</th>\n",
       "      <td>2018-05-22</td>\n",
       "      <td>8106120.0</td>\n",
       "      <td>0.172583</td>\n",
       "    </tr>\n",
       "    <tr>\n",
       "      <th>49</th>\n",
       "      <td>2018-05-23</td>\n",
       "      <td>7617475.0</td>\n",
       "      <td>0.101899</td>\n",
       "    </tr>\n",
       "    <tr>\n",
       "      <th>50</th>\n",
       "      <td>2018-05-24</td>\n",
       "      <td>7648645.0</td>\n",
       "      <td>0.106408</td>\n",
       "    </tr>\n",
       "    <tr>\n",
       "      <th>51</th>\n",
       "      <td>2018-05-25</td>\n",
       "      <td>7539860.0</td>\n",
       "      <td>0.090671</td>\n",
       "    </tr>\n",
       "    <tr>\n",
       "      <th>52</th>\n",
       "      <td>2018-05-26</td>\n",
       "      <td>7415020.0</td>\n",
       "      <td>0.072613</td>\n",
       "    </tr>\n",
       "    <tr>\n",
       "      <th>53</th>\n",
       "      <td>2018-05-27</td>\n",
       "      <td>7427215.0</td>\n",
       "      <td>0.074377</td>\n",
       "    </tr>\n",
       "    <tr>\n",
       "      <th>54</th>\n",
       "      <td>2018-05-28</td>\n",
       "      <td>7191790.0</td>\n",
       "      <td>0.040322</td>\n",
       "    </tr>\n",
       "    <tr>\n",
       "      <th>55</th>\n",
       "      <td>2018-05-29</td>\n",
       "      <td>7532375.0</td>\n",
       "      <td>0.089589</td>\n",
       "    </tr>\n",
       "    <tr>\n",
       "      <th>56</th>\n",
       "      <td>2018-05-30</td>\n",
       "      <td>7465285.0</td>\n",
       "      <td>0.079884</td>\n",
       "    </tr>\n",
       "    <tr>\n",
       "      <th>57</th>\n",
       "      <td>2018-05-31</td>\n",
       "      <td>7553205.0</td>\n",
       "      <td>0.092602</td>\n",
       "    </tr>\n",
       "    <tr>\n",
       "      <th>58</th>\n",
       "      <td>2018-06-01</td>\n",
       "      <td>7601410.0</td>\n",
       "      <td>0.099575</td>\n",
       "    </tr>\n",
       "  </tbody>\n",
       "</table>\n",
       "</div>"
      ],
      "text/plain": [
       "         date  portfolio_value  portfolio_value_change\n",
       "0  2018-04-04        6913045.0                0.000000\n",
       "1  2018-04-05        6871035.0               -0.006077\n",
       "2  2018-04-06        6692900.0               -0.031845\n",
       "3  2018-04-07        6969220.0                0.008126\n",
       "4  2018-04-08        7082355.0                0.024491\n",
       "5  2018-04-09        6828225.0               -0.012270\n",
       "6  2018-04-10        6891890.0               -0.003060\n",
       "7  2018-04-11        7027465.0                0.016551\n",
       "8  2018-04-12        7953920.0                0.150567\n",
       "9  2018-04-13        7958635.0                0.151249\n",
       "10 2018-04-14        8049385.0                0.164376\n",
       "11 2018-04-15        8395130.0                0.214390\n",
       "12 2018-04-16        8122840.0                0.175002\n",
       "13 2018-04-17        7968555.0                0.152684\n",
       "14 2018-04-18        8233420.0                0.190998\n",
       "15 2018-04-19        8367460.0                0.210387\n",
       "16 2018-04-20        8923600.0                0.290835\n",
       "17 2018-04-21        8970045.0                0.297553\n",
       "18 2018-04-22        8875845.0                0.283927\n",
       "19 2018-04-23        9007005.0                0.302900\n",
       "20 2018-04-24        9780390.0                0.414773\n",
       "21 2018-04-25        8918120.0                0.290042\n",
       "22 2018-04-26        9358350.0                0.353723\n",
       "23 2018-04-27        9060005.0                0.310566\n",
       "24 2018-04-28        9424630.0                0.363311\n",
       "25 2018-04-29        9495895.0                0.373620\n",
       "26 2018-04-30        9314790.0                0.347422\n",
       "27 2018-05-01        9193255.0                0.329842\n",
       "28 2018-05-02        9311710.0                0.346977\n",
       "29 2018-05-03        9824590.0                0.421167\n",
       "30 2018-05-04        9785155.0                0.415462\n",
       "31 2018-05-05        9947030.0                0.438878\n",
       "32 2018-05-06        9740700.0                0.409032\n",
       "33 2018-05-07        9455450.0                0.367769\n",
       "34 2018-05-08        9314630.0                0.347399\n",
       "35 2018-05-09        9403710.0                0.360285\n",
       "36 2018-05-10        9118875.0                0.319082\n",
       "37 2018-05-11        8510050.0                0.231013\n",
       "38 2018-05-12        8575830.0                0.240529\n",
       "39 2018-05-13        8796235.0                0.272411\n",
       "40 2018-05-14        8790645.0                0.271602\n",
       "41 2018-05-15        8580320.0                0.241178\n",
       "42 2018-05-16        8438465.0                0.220658\n",
       "43 2018-05-17        8160705.0                0.180479\n",
       "44 2018-05-18        8319000.0                0.203377\n",
       "45 2018-05-19        8314840.0                0.202775\n",
       "46 2018-05-20        8583100.0                0.241580\n",
       "47 2018-05-21        8486245.0                0.227570\n",
       "48 2018-05-22        8106120.0                0.172583\n",
       "49 2018-05-23        7617475.0                0.101899\n",
       "50 2018-05-24        7648645.0                0.106408\n",
       "51 2018-05-25        7539860.0                0.090671\n",
       "52 2018-05-26        7415020.0                0.072613\n",
       "53 2018-05-27        7427215.0                0.074377\n",
       "54 2018-05-28        7191790.0                0.040322\n",
       "55 2018-05-29        7532375.0                0.089589\n",
       "56 2018-05-30        7465285.0                0.079884\n",
       "57 2018-05-31        7553205.0                0.092602\n",
       "58 2018-06-01        7601410.0                0.099575"
      ]
     },
     "execution_count": 116,
     "metadata": {},
     "output_type": "execute_result"
    }
   ],
   "source": [
    "compute_roi(coins, investments={'BTC': 1000, 'LTC': 500}, start_date='2018-04-04', end_date='2018-06-01')"
   ]
  },
  {
   "cell_type": "code",
   "execution_count": 117,
   "metadata": {
    "id": "UQDAuP_QL077"
   },
   "outputs": [
    {
     "name": "stdout",
     "output_type": "stream",
     "text": [
      "Portfolio value change: 58.09510130606281\n"
     ]
    },
    {
     "data": {
      "text/html": [
       "<div>\n",
       "<style scoped>\n",
       "    .dataframe tbody tr th:only-of-type {\n",
       "        vertical-align: middle;\n",
       "    }\n",
       "\n",
       "    .dataframe tbody tr th {\n",
       "        vertical-align: top;\n",
       "    }\n",
       "\n",
       "    .dataframe thead th {\n",
       "        text-align: right;\n",
       "    }\n",
       "</style>\n",
       "<table border=\"1\" class=\"dataframe\">\n",
       "  <thead>\n",
       "    <tr style=\"text-align: right;\">\n",
       "      <th></th>\n",
       "      <th>date</th>\n",
       "      <th>portfolio_value</th>\n",
       "      <th>portfolio_value_change</th>\n",
       "    </tr>\n",
       "  </thead>\n",
       "  <tbody>\n",
       "    <tr>\n",
       "      <th>0</th>\n",
       "      <td>2013-05-28</td>\n",
       "      <td>130545.0</td>\n",
       "      <td>0.000000</td>\n",
       "    </tr>\n",
       "    <tr>\n",
       "      <th>1</th>\n",
       "      <td>2013-05-29</td>\n",
       "      <td>133850.0</td>\n",
       "      <td>0.025317</td>\n",
       "    </tr>\n",
       "    <tr>\n",
       "      <th>2</th>\n",
       "      <td>2013-05-30</td>\n",
       "      <td>130285.0</td>\n",
       "      <td>-0.001992</td>\n",
       "    </tr>\n",
       "    <tr>\n",
       "      <th>3</th>\n",
       "      <td>2013-05-31</td>\n",
       "      <td>130480.0</td>\n",
       "      <td>-0.000498</td>\n",
       "    </tr>\n",
       "    <tr>\n",
       "      <th>4</th>\n",
       "      <td>2013-06-01</td>\n",
       "      <td>130715.0</td>\n",
       "      <td>0.001302</td>\n",
       "    </tr>\n",
       "    <tr>\n",
       "      <th>...</th>\n",
       "      <td>...</td>\n",
       "      <td>...</td>\n",
       "      <td>...</td>\n",
       "    </tr>\n",
       "    <tr>\n",
       "      <th>1831</th>\n",
       "      <td>2018-06-02</td>\n",
       "      <td>7705105.0</td>\n",
       "      <td>58.022598</td>\n",
       "    </tr>\n",
       "    <tr>\n",
       "      <th>1832</th>\n",
       "      <td>2018-06-03</td>\n",
       "      <td>7783000.0</td>\n",
       "      <td>58.619288</td>\n",
       "    </tr>\n",
       "    <tr>\n",
       "      <th>1833</th>\n",
       "      <td>2018-06-04</td>\n",
       "      <td>7574420.0</td>\n",
       "      <td>57.021525</td>\n",
       "    </tr>\n",
       "    <tr>\n",
       "      <th>1834</th>\n",
       "      <td>2018-06-05</td>\n",
       "      <td>7694610.0</td>\n",
       "      <td>57.942204</td>\n",
       "    </tr>\n",
       "    <tr>\n",
       "      <th>1835</th>\n",
       "      <td>2018-06-06</td>\n",
       "      <td>7714570.0</td>\n",
       "      <td>58.095101</td>\n",
       "    </tr>\n",
       "  </tbody>\n",
       "</table>\n",
       "<p>1836 rows × 3 columns</p>\n",
       "</div>"
      ],
      "text/plain": [
       "           date  portfolio_value  portfolio_value_change\n",
       "0    2013-05-28         130545.0                0.000000\n",
       "1    2013-05-29         133850.0                0.025317\n",
       "2    2013-05-30         130285.0               -0.001992\n",
       "3    2013-05-31         130480.0               -0.000498\n",
       "4    2013-06-01         130715.0                0.001302\n",
       "...         ...              ...                     ...\n",
       "1831 2018-06-02        7705105.0               58.022598\n",
       "1832 2018-06-03        7783000.0               58.619288\n",
       "1833 2018-06-04        7574420.0               57.021525\n",
       "1834 2018-06-05        7694610.0               57.942204\n",
       "1835 2018-06-06        7714570.0               58.095101\n",
       "\n",
       "[1836 rows x 3 columns]"
      ]
     },
     "execution_count": 117,
     "metadata": {},
     "output_type": "execute_result"
    }
   ],
   "source": [
    "compute_roi(coins, investments={'BTC': 1000, 'LTC': 500}, start_date='2013-05-28', end_date='2018-06-06')"
   ]
  },
  {
   "cell_type": "markdown",
   "metadata": {
    "id": "Xz7CvTFqL078"
   },
   "source": [
    "## 5. Технический анализ (1 балл)"
   ]
  },
  {
   "cell_type": "markdown",
   "metadata": {
    "id": "NFsh0yEqL078"
   },
   "source": [
    "**Технический анализ** - это способ предсказания поведения графика по некоторым вспомогательным величинам построенным по исходному графику. Один из простейших методов технического анализа - **[границы Боллинджера](https://en.wikipedia.org/wiki/Bollinger_Bands)**. Кто-то верит, что график касаясь границы от него должен отражаться.\n",
    "\n",
    "Границы считаются очень просто: \n",
    "\n",
    "$$(MA \\pm K\\sigma),$$\n",
    "\n",
    "где `MA` - скользящее среднее за `N` дней, а $\\sigma$ - скользящее стандартное отклонение за `N` дней."
   ]
  },
  {
   "cell_type": "markdown",
   "metadata": {
    "id": "Mo4GLdibL079"
   },
   "source": [
    "Нарисуйте **график цены**, **скользящее среднее** и **границы Боллинджера** c параметрами `N (window) = 21`, `K (width) = 2`.\n",
    "\n",
    "Тут вам поможет функция `rolling` для подсчёта среднего и стандартного отклонения по скользящему окну.\n",
    "\n",
    "Не забудьте подписать график и оси, отрисовать легенду и выбрать для нее лучшее расположение."
   ]
  },
  {
   "cell_type": "code",
   "execution_count": 118,
   "metadata": {
    "id": "zf4zMAGkL079"
   },
   "outputs": [],
   "source": [
    "def plot_bollinger_bands(coins, symbol, window, width):\n",
    "    coin = coins[coins['symbol'] == symbol]\n",
    "    coin['MA'] = coin['close'].rolling(window=window).mean()\n",
    "    coin['std'] = coin['close'].rolling(window=window).std()\n",
    "    coin['upper'] = coin['MA'] + width * coin['std']\n",
    "    coin['lower'] = coin['MA'] - width * coin['std']\n",
    "\n",
    "    plt.figure(figsize=(15, 7))\n",
    "    plt.plot(coin.index, coin['close'], label='close')\n",
    "    plt.plot(coin.index, coin['MA'], label='MA')\n",
    "    plt.plot(coin.index, coin['upper'], label='upper')\n",
    "    plt.plot(coin.index, coin['lower'], label='lower')\n",
    "    plt.legend(loc='best')\n",
    "    plt.xlabel('Date')\n",
    "    plt.ylabel('Price')\n",
    "    plt.title(f'{symbol} Bollinger Bands')\n",
    "    plt.show()"
   ]
  },
  {
   "cell_type": "code",
   "execution_count": 119,
   "metadata": {
    "id": "dWBsySLJL07-"
   },
   "outputs": [
    {
     "name": "stderr",
     "output_type": "stream",
     "text": [
      "/var/folders/_q/h4h3ghz564s22rz24b7hmy440000gn/T/ipykernel_13621/4010865533.py:3: SettingWithCopyWarning: \n",
      "A value is trying to be set on a copy of a slice from a DataFrame.\n",
      "Try using .loc[row_indexer,col_indexer] = value instead\n",
      "\n",
      "See the caveats in the documentation: https://pandas.pydata.org/pandas-docs/stable/user_guide/indexing.html#returning-a-view-versus-a-copy\n",
      "  coin['MA'] = coin['close'].rolling(window=window).mean()\n",
      "/var/folders/_q/h4h3ghz564s22rz24b7hmy440000gn/T/ipykernel_13621/4010865533.py:4: SettingWithCopyWarning: \n",
      "A value is trying to be set on a copy of a slice from a DataFrame.\n",
      "Try using .loc[row_indexer,col_indexer] = value instead\n",
      "\n",
      "See the caveats in the documentation: https://pandas.pydata.org/pandas-docs/stable/user_guide/indexing.html#returning-a-view-versus-a-copy\n",
      "  coin['std'] = coin['close'].rolling(window=window).std()\n",
      "/var/folders/_q/h4h3ghz564s22rz24b7hmy440000gn/T/ipykernel_13621/4010865533.py:5: SettingWithCopyWarning: \n",
      "A value is trying to be set on a copy of a slice from a DataFrame.\n",
      "Try using .loc[row_indexer,col_indexer] = value instead\n",
      "\n",
      "See the caveats in the documentation: https://pandas.pydata.org/pandas-docs/stable/user_guide/indexing.html#returning-a-view-versus-a-copy\n",
      "  coin['upper'] = coin['MA'] + width * coin['std']\n",
      "/var/folders/_q/h4h3ghz564s22rz24b7hmy440000gn/T/ipykernel_13621/4010865533.py:6: SettingWithCopyWarning: \n",
      "A value is trying to be set on a copy of a slice from a DataFrame.\n",
      "Try using .loc[row_indexer,col_indexer] = value instead\n",
      "\n",
      "See the caveats in the documentation: https://pandas.pydata.org/pandas-docs/stable/user_guide/indexing.html#returning-a-view-versus-a-copy\n",
      "  coin['lower'] = coin['MA'] - width * coin['std']\n"
     ]
    },
    {
     "data": {
      "image/png": "[encoded data removed]",
      "text/plain": [
       "<Figure size 1080x504 with 1 Axes>"
      ]
     },
     "metadata": {
      "needs_background": "light"
     },
     "output_type": "display_data"
    }
   ],
   "source": [
    "plot_bollinger_bands(coins=coins, symbol='EOS', window=21, width=2)  # тут должен появиться график"
   ]
  },
  {
   "cell_type": "markdown",
   "metadata": {
    "id": "pJAYp_pUL07_"
   },
   "source": [
    "**Сделайте вывод о том, выполнялось ли правило Боллинджера:**"
   ]
  },
  {
   "cell_type": "markdown",
   "metadata": {
    "id": "k7NsxSsUL07_"
   },
   "source": [
    "**Ваш ответ тут**\n",
    "Как видно из графика гипотеза Боллинджера выполняется, т.к. цена касается границы от нее отражается и 95% значений лежит внутри границ."
   ]
  },
  {
   "cell_type": "markdown",
   "metadata": {
    "id": "41k4GlWGL08A"
   },
   "source": [
    "## 6. Капитализация как индикатор (1 балл)"
   ]
  },
  {
   "cell_type": "markdown",
   "metadata": {
    "id": "sONehy4zL08A"
   },
   "source": [
    "Многие люди, которые торгуют криптовалютой, любят смотреть на [капитализацию](https://academy.binance.com/ru/articles/crypto-market-capitalization-explained). Давайте поймём почему."
   ]
  },
  {
   "cell_type": "markdown",
   "metadata": {
    "id": "4spBUSr5L08B"
   },
   "source": [
    "**Нарисуйте еще два графика:**\n",
    "1. общая капитализация биткойна (BTC), эфира (ETH), еос (EOS), биткойн кэша (BCH), стеллара (XLM) и лайткойна (LTC)\n",
    "2. доли капитализаций этих монет от общей капитализации рынка. \n",
    "\n",
    "При этом используйте данные начиная с 2017-07-01."
   ]
  },
  {
   "cell_type": "code",
   "execution_count": 133,
   "metadata": {
    "id": "xHMMSJg6L08B",
    "scrolled": false
   },
   "outputs": [],
   "source": [
    "def plot_coins_capitalizations(coins, symbols, start_date):\n",
    "    coins.index = pd.to_datetime(coins.index)\n",
    "    coins = coins[coins.index >= start_date]\n",
    "    coins = coins[coins['symbol'].isin(symbols)]\n",
    "    coins = coins.pivot(columns='symbol', values='market')\n",
    "    coins.plot(figsize=(15, 7))\n",
    "    plt.xlabel('Date')\n",
    "    plt.ylabel('Market Cap')\n",
    "    plt.title('Coins capitalizations')\n",
    "    plt.show()\n",
    "\n",
    "    coins = coins.div(coins.sum(axis=1), axis=0)\n",
    "    coins.plot(figsize=(15, 7))\n",
    "    plt.xlabel('Date')\n",
    "    plt.ylabel('Market share')\n",
    "    plt.title('Сapitalization share')\n",
    "    plt.show()"
   ]
  },
  {
   "cell_type": "code",
   "execution_count": 134,
   "metadata": {
    "id": "jOD_z5hYL08C"
   },
   "outputs": [
    {
     "data": {
      "image/png": "[encoded data removed]",
      "text/plain": [
       "<Figure size 1080x504 with 1 Axes>"
      ]
     },
     "metadata": {
      "needs_background": "light"
     },
     "output_type": "display_data"
    },
    {
     "data": {
      "image/png": "[encoded data removed]",
      "text/plain": [
       "<Figure size 1080x504 with 1 Axes>"
      ]
     },
     "metadata": {
      "needs_background": "light"
     },
     "output_type": "display_data"
    }
   ],
   "source": [
    "plot_coins_capitalizations(\n",
    "    coins=coins,\n",
    "    symbols=('BTC', 'ETH', 'EOS', 'BCH', 'XLM', 'LTC'),\n",
    "    start_date='2017-07-01'\n",
    ")"
   ]
  },
  {
   "cell_type": "markdown",
   "metadata": {
    "id": "A_qkmlioL08C"
   },
   "source": [
    "Проанализируйте зависимость доли капитализации альткойнов (остальных монет, кроме биткойна) от доли капитализации биткойна. Как выдумаете, в чём причина такой зависимости?"
   ]
  },
  {
   "cell_type": "markdown",
   "metadata": {
    "id": "RzJXy2cjL08D"
   },
   "source": [
    "**Ваш ответ тут**\n",
    "Видно, что доля капитализации альткойнов растет, когда доля капитализации биткойна падает. Это связано с тем, что альткойны торгуются в парах с биткойном, поэтому когда биткойн падает, то альткойны падают еще сильнее, т.к. их цена в биткойнах падает. Поэтому доля капитализации альткойнов растет, когда доля капитализации биткойна падает."
   ]
  },
  {
   "cell_type": "markdown",
   "metadata": {
    "id": "5TtUAu7PL08E"
   },
   "source": [
    "## 7. Корреляции монет (1 балл)"
   ]
  },
  {
   "cell_type": "markdown",
   "metadata": {
    "id": "ii_8rp4YL08E"
   },
   "source": [
    "Теперь нужно подробнее посмотреть на корреляции средних долей капитализаций монет. При этом будем смотреть на среднее сглаженное за последние `window` дней до дня `date` с коэффициентом сглаживания `alpha` для набора монет `symbols`.\n",
    "\n",
    "Реализуйте функцию, которая будет возвращать квадратный `DataFrame` с числом строк и столбцов, равным числу рассматриваемых монет и со значениями корреляций:"
   ]
  },
  {
   "cell_type": "code",
   "execution_count": 136,
   "metadata": {
    "id": "lxZQQuBxL08E"
   },
   "outputs": [],
   "source": [
    "def calc_coins_correlations(coins, date, symbols, window, alpha):\n",
    "    coins.index = pd.to_datetime(coins.index)\n",
    "    date = pd.to_datetime(date)\n",
    "    coins = coins[coins['symbol'].isin(symbols)]\n",
    "    coins = coins.pivot(columns='symbol', values='market')\n",
    "    coins = coins[coins.index <= date]\n",
    "    coins = coins.rolling(window=window).mean()\n",
    "    coins = coins.dropna()\n",
    "    coins = coins.div(coins.sum(axis=1), axis=0)\n",
    "    coins = coins.ewm(alpha=alpha).mean()\n",
    "    return coins.corr()"
   ]
  },
  {
   "cell_type": "code",
   "execution_count": 137,
   "metadata": {
    "id": "L8iBTKhuL08F"
   },
   "outputs": [
    {
     "name": "stderr",
     "output_type": "stream",
     "text": [
      "/var/folders/_q/h4h3ghz564s22rz24b7hmy440000gn/T/ipykernel_13621/971260993.py:5: FutureWarning: this method is deprecated in favour of `Styler.format(precision=..)`\n",
      "  correlations.style.background_gradient(cmap='coolwarm').set_precision(2)\n"
     ]
    },
    {
     "data": {
      "text/html": [
       "<style type=\"text/css\">\n",
       "#T_98d55_row0_col0, #T_98d55_row1_col1, #T_98d55_row2_col2, #T_98d55_row3_col3, #T_98d55_row4_col4, #T_98d55_row5_col5, #T_98d55_row6_col6 {\n",
       "  background-color: #b40426;\n",
       "  color: #f1f1f1;\n",
       "}\n",
       "#T_98d55_row0_col1 {\n",
       "  background-color: #dfdbd9;\n",
       "  color: #000000;\n",
       "}\n",
       "#T_98d55_row0_col2 {\n",
       "  background-color: #455cce;\n",
       "  color: #f1f1f1;\n",
       "}\n",
       "#T_98d55_row0_col3, #T_98d55_row5_col3 {\n",
       "  background-color: #f59f80;\n",
       "  color: #000000;\n",
       "}\n",
       "#T_98d55_row0_col4 {\n",
       "  background-color: #ef886b;\n",
       "  color: #f1f1f1;\n",
       "}\n",
       "#T_98d55_row0_col5 {\n",
       "  background-color: #f18f71;\n",
       "  color: #f1f1f1;\n",
       "}\n",
       "#T_98d55_row0_col6 {\n",
       "  background-color: #cb3e38;\n",
       "  color: #f1f1f1;\n",
       "}\n",
       "#T_98d55_row1_col0 {\n",
       "  background-color: #f7ba9f;\n",
       "  color: #000000;\n",
       "}\n",
       "#T_98d55_row1_col2 {\n",
       "  background-color: #c5d6f2;\n",
       "  color: #000000;\n",
       "}\n",
       "#T_98d55_row1_col3 {\n",
       "  background-color: #d8dce2;\n",
       "  color: #000000;\n",
       "}\n",
       "#T_98d55_row1_col4 {\n",
       "  background-color: #96b7ff;\n",
       "  color: #000000;\n",
       "}\n",
       "#T_98d55_row1_col5 {\n",
       "  background-color: #bcd2f7;\n",
       "  color: #000000;\n",
       "}\n",
       "#T_98d55_row1_col6 {\n",
       "  background-color: #e8d6cc;\n",
       "  color: #000000;\n",
       "}\n",
       "#T_98d55_row2_col0, #T_98d55_row2_col3, #T_98d55_row2_col4, #T_98d55_row2_col5, #T_98d55_row2_col6, #T_98d55_row4_col1, #T_98d55_row6_col2 {\n",
       "  background-color: #3b4cc0;\n",
       "  color: #f1f1f1;\n",
       "}\n",
       "#T_98d55_row2_col1 {\n",
       "  background-color: #6687ed;\n",
       "  color: #f1f1f1;\n",
       "}\n",
       "#T_98d55_row3_col0 {\n",
       "  background-color: #f39577;\n",
       "  color: #000000;\n",
       "}\n",
       "#T_98d55_row3_col1 {\n",
       "  background-color: #a6c4fe;\n",
       "  color: #000000;\n",
       "}\n",
       "#T_98d55_row3_col2 {\n",
       "  background-color: #5e7de7;\n",
       "  color: #f1f1f1;\n",
       "}\n",
       "#T_98d55_row3_col4 {\n",
       "  background-color: #f7a688;\n",
       "  color: #000000;\n",
       "}\n",
       "#T_98d55_row3_col5 {\n",
       "  background-color: #f6a586;\n",
       "  color: #000000;\n",
       "}\n",
       "#T_98d55_row3_col6 {\n",
       "  background-color: #d44e41;\n",
       "  color: #f1f1f1;\n",
       "}\n",
       "#T_98d55_row4_col0 {\n",
       "  background-color: #ee8468;\n",
       "  color: #f1f1f1;\n",
       "}\n",
       "#T_98d55_row4_col2 {\n",
       "  background-color: #4f69d9;\n",
       "  color: #f1f1f1;\n",
       "}\n",
       "#T_98d55_row4_col3 {\n",
       "  background-color: #f7ac8e;\n",
       "  color: #000000;\n",
       "}\n",
       "#T_98d55_row4_col5 {\n",
       "  background-color: #f7bca1;\n",
       "  color: #000000;\n",
       "}\n",
       "#T_98d55_row4_col6, #T_98d55_row5_col6 {\n",
       "  background-color: #de614d;\n",
       "  color: #f1f1f1;\n",
       "}\n",
       "#T_98d55_row5_col0 {\n",
       "  background-color: #ed8366;\n",
       "  color: #f1f1f1;\n",
       "}\n",
       "#T_98d55_row5_col1 {\n",
       "  background-color: #89acfd;\n",
       "  color: #000000;\n",
       "}\n",
       "#T_98d55_row5_col2 {\n",
       "  background-color: #6e90f2;\n",
       "  color: #f1f1f1;\n",
       "}\n",
       "#T_98d55_row5_col4 {\n",
       "  background-color: #f7b093;\n",
       "  color: #000000;\n",
       "}\n",
       "#T_98d55_row6_col0 {\n",
       "  background-color: #cc403a;\n",
       "  color: #f1f1f1;\n",
       "}\n",
       "#T_98d55_row6_col1 {\n",
       "  background-color: #a9c6fd;\n",
       "  color: #000000;\n",
       "}\n",
       "#T_98d55_row6_col3 {\n",
       "  background-color: #d85646;\n",
       "  color: #f1f1f1;\n",
       "}\n",
       "#T_98d55_row6_col4 {\n",
       "  background-color: #e16751;\n",
       "  color: #f1f1f1;\n",
       "}\n",
       "#T_98d55_row6_col5 {\n",
       "  background-color: #e46e56;\n",
       "  color: #f1f1f1;\n",
       "}\n",
       "</style>\n",
       "<table id=\"T_98d55_\">\n",
       "  <thead>\n",
       "    <tr>\n",
       "      <th class=\"index_name level0\" >symbol</th>\n",
       "      <th class=\"col_heading level0 col0\" >ADA</th>\n",
       "      <th class=\"col_heading level0 col1\" >BCH</th>\n",
       "      <th class=\"col_heading level0 col2\" >BTC</th>\n",
       "      <th class=\"col_heading level0 col3\" >EOS</th>\n",
       "      <th class=\"col_heading level0 col4\" >ETH</th>\n",
       "      <th class=\"col_heading level0 col5\" >LTC</th>\n",
       "      <th class=\"col_heading level0 col6\" >XLM</th>\n",
       "    </tr>\n",
       "    <tr>\n",
       "      <th class=\"index_name level0\" >symbol</th>\n",
       "      <th class=\"blank col0\" >&nbsp;</th>\n",
       "      <th class=\"blank col1\" >&nbsp;</th>\n",
       "      <th class=\"blank col2\" >&nbsp;</th>\n",
       "      <th class=\"blank col3\" >&nbsp;</th>\n",
       "      <th class=\"blank col4\" >&nbsp;</th>\n",
       "      <th class=\"blank col5\" >&nbsp;</th>\n",
       "      <th class=\"blank col6\" >&nbsp;</th>\n",
       "    </tr>\n",
       "  </thead>\n",
       "  <tbody>\n",
       "    <tr>\n",
       "      <th id=\"T_98d55_level0_row0\" class=\"row_heading level0 row0\" >ADA</th>\n",
       "      <td id=\"T_98d55_row0_col0\" class=\"data row0 col0\" >1.00</td>\n",
       "      <td id=\"T_98d55_row0_col1\" class=\"data row0 col1\" >0.35</td>\n",
       "      <td id=\"T_98d55_row0_col2\" class=\"data row0 col2\" >-0.89</td>\n",
       "      <td id=\"T_98d55_row0_col3\" class=\"data row0 col3\" >0.54</td>\n",
       "      <td id=\"T_98d55_row0_col4\" class=\"data row0 col4\" >0.62</td>\n",
       "      <td id=\"T_98d55_row0_col5\" class=\"data row0 col5\" >0.63</td>\n",
       "      <td id=\"T_98d55_row0_col6\" class=\"data row0 col6\" >0.87</td>\n",
       "    </tr>\n",
       "    <tr>\n",
       "      <th id=\"T_98d55_level0_row1\" class=\"row_heading level0 row1\" >BCH</th>\n",
       "      <td id=\"T_98d55_row1_col0\" class=\"data row1 col0\" >0.35</td>\n",
       "      <td id=\"T_98d55_row1_col1\" class=\"data row1 col1\" >1.00</td>\n",
       "      <td id=\"T_98d55_row1_col2\" class=\"data row1 col2\" >-0.15</td>\n",
       "      <td id=\"T_98d55_row1_col3\" class=\"data row1 col3\" >0.10</td>\n",
       "      <td id=\"T_98d55_row1_col4\" class=\"data row1 col4\" >-0.33</td>\n",
       "      <td id=\"T_98d55_row1_col5\" class=\"data row1 col5\" >-0.01</td>\n",
       "      <td id=\"T_98d55_row1_col6\" class=\"data row1 col6\" >0.11</td>\n",
       "    </tr>\n",
       "    <tr>\n",
       "      <th id=\"T_98d55_level0_row2\" class=\"row_heading level0 row2\" >BTC</th>\n",
       "      <td id=\"T_98d55_row2_col0\" class=\"data row2 col0\" >-0.89</td>\n",
       "      <td id=\"T_98d55_row2_col1\" class=\"data row2 col1\" >-0.15</td>\n",
       "      <td id=\"T_98d55_row2_col2\" class=\"data row2 col2\" >1.00</td>\n",
       "      <td id=\"T_98d55_row2_col3\" class=\"data row2 col3\" >-0.74</td>\n",
       "      <td id=\"T_98d55_row2_col4\" class=\"data row2 col4\" >-0.83</td>\n",
       "      <td id=\"T_98d55_row2_col5\" class=\"data row2 col5\" >-0.65</td>\n",
       "      <td id=\"T_98d55_row2_col6\" class=\"data row2 col6\" >-0.97</td>\n",
       "    </tr>\n",
       "    <tr>\n",
       "      <th id=\"T_98d55_level0_row3\" class=\"row_heading level0 row3\" >EOS</th>\n",
       "      <td id=\"T_98d55_row3_col0\" class=\"data row3 col0\" >0.54</td>\n",
       "      <td id=\"T_98d55_row3_col1\" class=\"data row3 col1\" >0.10</td>\n",
       "      <td id=\"T_98d55_row3_col2\" class=\"data row3 col2\" >-0.74</td>\n",
       "      <td id=\"T_98d55_row3_col3\" class=\"data row3 col3\" >1.00</td>\n",
       "      <td id=\"T_98d55_row3_col4\" class=\"data row3 col4\" >0.48</td>\n",
       "      <td id=\"T_98d55_row3_col5\" class=\"data row3 col5\" >0.54</td>\n",
       "      <td id=\"T_98d55_row3_col6\" class=\"data row3 col6\" >0.82</td>\n",
       "    </tr>\n",
       "    <tr>\n",
       "      <th id=\"T_98d55_level0_row4\" class=\"row_heading level0 row4\" >ETH</th>\n",
       "      <td id=\"T_98d55_row4_col0\" class=\"data row4 col0\" >0.62</td>\n",
       "      <td id=\"T_98d55_row4_col1\" class=\"data row4 col1\" >-0.33</td>\n",
       "      <td id=\"T_98d55_row4_col2\" class=\"data row4 col2\" >-0.83</td>\n",
       "      <td id=\"T_98d55_row4_col3\" class=\"data row4 col3\" >0.48</td>\n",
       "      <td id=\"T_98d55_row4_col4\" class=\"data row4 col4\" >1.00</td>\n",
       "      <td id=\"T_98d55_row4_col5\" class=\"data row4 col5\" >0.43</td>\n",
       "      <td id=\"T_98d55_row4_col6\" class=\"data row4 col6\" >0.75</td>\n",
       "    </tr>\n",
       "    <tr>\n",
       "      <th id=\"T_98d55_level0_row5\" class=\"row_heading level0 row5\" >LTC</th>\n",
       "      <td id=\"T_98d55_row5_col0\" class=\"data row5 col0\" >0.63</td>\n",
       "      <td id=\"T_98d55_row5_col1\" class=\"data row5 col1\" >-0.01</td>\n",
       "      <td id=\"T_98d55_row5_col2\" class=\"data row5 col2\" >-0.65</td>\n",
       "      <td id=\"T_98d55_row5_col3\" class=\"data row5 col3\" >0.54</td>\n",
       "      <td id=\"T_98d55_row5_col4\" class=\"data row5 col4\" >0.43</td>\n",
       "      <td id=\"T_98d55_row5_col5\" class=\"data row5 col5\" >1.00</td>\n",
       "      <td id=\"T_98d55_row5_col6\" class=\"data row5 col6\" >0.75</td>\n",
       "    </tr>\n",
       "    <tr>\n",
       "      <th id=\"T_98d55_level0_row6\" class=\"row_heading level0 row6\" >XLM</th>\n",
       "      <td id=\"T_98d55_row6_col0\" class=\"data row6 col0\" >0.87</td>\n",
       "      <td id=\"T_98d55_row6_col1\" class=\"data row6 col1\" >0.11</td>\n",
       "      <td id=\"T_98d55_row6_col2\" class=\"data row6 col2\" >-0.97</td>\n",
       "      <td id=\"T_98d55_row6_col3\" class=\"data row6 col3\" >0.82</td>\n",
       "      <td id=\"T_98d55_row6_col4\" class=\"data row6 col4\" >0.75</td>\n",
       "      <td id=\"T_98d55_row6_col5\" class=\"data row6 col5\" >0.75</td>\n",
       "      <td id=\"T_98d55_row6_col6\" class=\"data row6 col6\" >1.00</td>\n",
       "    </tr>\n",
       "  </tbody>\n",
       "</table>\n"
      ],
      "text/plain": [
       "<pandas.io.formats.style.Styler at 0x7f82dac7bfd0>"
      ]
     },
     "execution_count": 137,
     "metadata": {},
     "output_type": "execute_result"
    }
   ],
   "source": [
    "correlations = calc_coins_correlations(coins, date=\"2018-06-06\",\n",
    "                                       symbols=['BTC', 'ETH', 'EOS', 'BCH', 'XLM', 'LTC', 'ADA'],\n",
    "                                       window=21, alpha=0.1)\n",
    "# Теперь посмотрим на эти корреляции следующим образом:\n",
    "correlations.style.background_gradient(cmap='coolwarm').set_precision(2)"
   ]
  },
  {
   "cell_type": "markdown",
   "metadata": {
    "id": "QbBg3mgjL08F"
   },
   "source": [
    "Довольно интересно ещё взглянуть на 2017-12-27:"
   ]
  },
  {
   "cell_type": "code",
   "execution_count": 138,
   "metadata": {
    "id": "IJrYVdA0L08G"
   },
   "outputs": [
    {
     "name": "stderr",
     "output_type": "stream",
     "text": [
      "/var/folders/_q/h4h3ghz564s22rz24b7hmy440000gn/T/ipykernel_13621/950888474.py:5: FutureWarning: this method is deprecated in favour of `Styler.format(precision=..)`\n",
      "  correlations.style.background_gradient(cmap='coolwarm').set_precision(2)\n"
     ]
    },
    {
     "data": {
      "text/html": [
       "<style type=\"text/css\">\n",
       "#T_1f0fa_row0_col0, #T_1f0fa_row1_col1, #T_1f0fa_row2_col2, #T_1f0fa_row3_col3, #T_1f0fa_row4_col4, #T_1f0fa_row5_col5, #T_1f0fa_row6_col6 {\n",
       "  background-color: #b40426;\n",
       "  color: #f1f1f1;\n",
       "}\n",
       "#T_1f0fa_row0_col1 {\n",
       "  background-color: #f7b99e;\n",
       "  color: #000000;\n",
       "}\n",
       "#T_1f0fa_row0_col2 {\n",
       "  background-color: #84a7fc;\n",
       "  color: #f1f1f1;\n",
       "}\n",
       "#T_1f0fa_row0_col3 {\n",
       "  background-color: #cf453c;\n",
       "  color: #f1f1f1;\n",
       "}\n",
       "#T_1f0fa_row0_col4 {\n",
       "  background-color: #6b8df0;\n",
       "  color: #f1f1f1;\n",
       "}\n",
       "#T_1f0fa_row0_col5 {\n",
       "  background-color: #f39577;\n",
       "  color: #000000;\n",
       "}\n",
       "#T_1f0fa_row0_col6, #T_1f0fa_row6_col0 {\n",
       "  background-color: #ba162b;\n",
       "  color: #f1f1f1;\n",
       "}\n",
       "#T_1f0fa_row1_col0 {\n",
       "  background-color: #f2cab5;\n",
       "  color: #000000;\n",
       "}\n",
       "#T_1f0fa_row1_col2, #T_1f0fa_row1_col5, #T_1f0fa_row3_col4, #T_1f0fa_row4_col0, #T_1f0fa_row4_col1, #T_1f0fa_row4_col3, #T_1f0fa_row4_col6 {\n",
       "  background-color: #3b4cc0;\n",
       "  color: #f1f1f1;\n",
       "}\n",
       "#T_1f0fa_row1_col3 {\n",
       "  background-color: #d85646;\n",
       "  color: #f1f1f1;\n",
       "}\n",
       "#T_1f0fa_row1_col4 {\n",
       "  background-color: #3d50c3;\n",
       "  color: #f1f1f1;\n",
       "}\n",
       "#T_1f0fa_row1_col6 {\n",
       "  background-color: #f6a283;\n",
       "  color: #000000;\n",
       "}\n",
       "#T_1f0fa_row2_col0, #T_1f0fa_row2_col4 {\n",
       "  background-color: #bcd2f7;\n",
       "  color: #000000;\n",
       "}\n",
       "#T_1f0fa_row2_col1 {\n",
       "  background-color: #a7c5fe;\n",
       "  color: #000000;\n",
       "}\n",
       "#T_1f0fa_row2_col3 {\n",
       "  background-color: #c7d7f0;\n",
       "  color: #000000;\n",
       "}\n",
       "#T_1f0fa_row2_col5 {\n",
       "  background-color: #8db0fe;\n",
       "  color: #000000;\n",
       "}\n",
       "#T_1f0fa_row2_col6 {\n",
       "  background-color: #dbdcde;\n",
       "  color: #000000;\n",
       "}\n",
       "#T_1f0fa_row3_col0 {\n",
       "  background-color: #d44e41;\n",
       "  color: #f1f1f1;\n",
       "}\n",
       "#T_1f0fa_row3_col1 {\n",
       "  background-color: #d95847;\n",
       "  color: #f1f1f1;\n",
       "}\n",
       "#T_1f0fa_row3_col2 {\n",
       "  background-color: #6485ec;\n",
       "  color: #f1f1f1;\n",
       "}\n",
       "#T_1f0fa_row3_col5 {\n",
       "  background-color: #cbd8ee;\n",
       "  color: #000000;\n",
       "}\n",
       "#T_1f0fa_row3_col6 {\n",
       "  background-color: #c32e31;\n",
       "  color: #f1f1f1;\n",
       "}\n",
       "#T_1f0fa_row4_col2 {\n",
       "  background-color: #5470de;\n",
       "  color: #f1f1f1;\n",
       "}\n",
       "#T_1f0fa_row4_col5 {\n",
       "  background-color: #bad0f8;\n",
       "  color: #000000;\n",
       "}\n",
       "#T_1f0fa_row5_col0 {\n",
       "  background-color: #ee8669;\n",
       "  color: #f1f1f1;\n",
       "}\n",
       "#T_1f0fa_row5_col1 {\n",
       "  background-color: #94b6ff;\n",
       "  color: #000000;\n",
       "}\n",
       "#T_1f0fa_row5_col2 {\n",
       "  background-color: #779af7;\n",
       "  color: #f1f1f1;\n",
       "}\n",
       "#T_1f0fa_row5_col3 {\n",
       "  background-color: #f1cdba;\n",
       "  color: #000000;\n",
       "}\n",
       "#T_1f0fa_row5_col4 {\n",
       "  background-color: #ead5c9;\n",
       "  color: #000000;\n",
       "}\n",
       "#T_1f0fa_row5_col6 {\n",
       "  background-color: #f7a889;\n",
       "  color: #000000;\n",
       "}\n",
       "#T_1f0fa_row6_col1 {\n",
       "  background-color: #f59c7d;\n",
       "  color: #000000;\n",
       "}\n",
       "#T_1f0fa_row6_col2 {\n",
       "  background-color: #9dbdff;\n",
       "  color: #000000;\n",
       "}\n",
       "#T_1f0fa_row6_col3 {\n",
       "  background-color: #c12b30;\n",
       "  color: #f1f1f1;\n",
       "}\n",
       "#T_1f0fa_row6_col4 {\n",
       "  background-color: #4f69d9;\n",
       "  color: #f1f1f1;\n",
       "}\n",
       "#T_1f0fa_row6_col5 {\n",
       "  background-color: #f5c2aa;\n",
       "  color: #000000;\n",
       "}\n",
       "</style>\n",
       "<table id=\"T_1f0fa_\">\n",
       "  <thead>\n",
       "    <tr>\n",
       "      <th class=\"index_name level0\" >symbol</th>\n",
       "      <th class=\"col_heading level0 col0\" >ADA</th>\n",
       "      <th class=\"col_heading level0 col1\" >BCH</th>\n",
       "      <th class=\"col_heading level0 col2\" >BTC</th>\n",
       "      <th class=\"col_heading level0 col3\" >EOS</th>\n",
       "      <th class=\"col_heading level0 col4\" >ETH</th>\n",
       "      <th class=\"col_heading level0 col5\" >LTC</th>\n",
       "      <th class=\"col_heading level0 col6\" >XLM</th>\n",
       "    </tr>\n",
       "    <tr>\n",
       "      <th class=\"index_name level0\" >symbol</th>\n",
       "      <th class=\"blank col0\" >&nbsp;</th>\n",
       "      <th class=\"blank col1\" >&nbsp;</th>\n",
       "      <th class=\"blank col2\" >&nbsp;</th>\n",
       "      <th class=\"blank col3\" >&nbsp;</th>\n",
       "      <th class=\"blank col4\" >&nbsp;</th>\n",
       "      <th class=\"blank col5\" >&nbsp;</th>\n",
       "      <th class=\"blank col6\" >&nbsp;</th>\n",
       "    </tr>\n",
       "  </thead>\n",
       "  <tbody>\n",
       "    <tr>\n",
       "      <th id=\"T_1f0fa_level0_row0\" class=\"row_heading level0 row0\" >ADA</th>\n",
       "      <td id=\"T_1f0fa_row0_col0\" class=\"data row0 col0\" >1.00</td>\n",
       "      <td id=\"T_1f0fa_row0_col1\" class=\"data row0 col1\" >0.37</td>\n",
       "      <td id=\"T_1f0fa_row0_col2\" class=\"data row0 col2\" >0.02</td>\n",
       "      <td id=\"T_1f0fa_row0_col3\" class=\"data row0 col3\" >0.85</td>\n",
       "      <td id=\"T_1f0fa_row0_col4\" class=\"data row0 col4\" >-0.60</td>\n",
       "      <td id=\"T_1f0fa_row0_col5\" class=\"data row0 col5\" >0.67</td>\n",
       "      <td id=\"T_1f0fa_row0_col6\" class=\"data row0 col6\" >0.97</td>\n",
       "    </tr>\n",
       "    <tr>\n",
       "      <th id=\"T_1f0fa_level0_row1\" class=\"row_heading level0 row1\" >BCH</th>\n",
       "      <td id=\"T_1f0fa_row1_col0\" class=\"data row1 col0\" >0.37</td>\n",
       "      <td id=\"T_1f0fa_row1_col1\" class=\"data row1 col1\" >1.00</td>\n",
       "      <td id=\"T_1f0fa_row1_col2\" class=\"data row1 col2\" >-0.26</td>\n",
       "      <td id=\"T_1f0fa_row1_col3\" class=\"data row1 col3\" >0.79</td>\n",
       "      <td id=\"T_1f0fa_row1_col4\" class=\"data row1 col4\" >-0.88</td>\n",
       "      <td id=\"T_1f0fa_row1_col5\" class=\"data row1 col5\" >-0.37</td>\n",
       "      <td id=\"T_1f0fa_row1_col6\" class=\"data row1 col6\" >0.52</td>\n",
       "    </tr>\n",
       "    <tr>\n",
       "      <th id=\"T_1f0fa_level0_row2\" class=\"row_heading level0 row2\" >BTC</th>\n",
       "      <td id=\"T_1f0fa_row2_col0\" class=\"data row2 col0\" >0.02</td>\n",
       "      <td id=\"T_1f0fa_row2_col1\" class=\"data row2 col1\" >-0.26</td>\n",
       "      <td id=\"T_1f0fa_row2_col2\" class=\"data row2 col2\" >1.00</td>\n",
       "      <td id=\"T_1f0fa_row2_col3\" class=\"data row2 col3\" >-0.09</td>\n",
       "      <td id=\"T_1f0fa_row2_col4\" class=\"data row2 col4\" >-0.16</td>\n",
       "      <td id=\"T_1f0fa_row2_col5\" class=\"data row2 col5\" >-0.03</td>\n",
       "      <td id=\"T_1f0fa_row2_col6\" class=\"data row2 col6\" >0.11</td>\n",
       "    </tr>\n",
       "    <tr>\n",
       "      <th id=\"T_1f0fa_level0_row3\" class=\"row_heading level0 row3\" >EOS</th>\n",
       "      <td id=\"T_1f0fa_row3_col0\" class=\"data row3 col0\" >0.85</td>\n",
       "      <td id=\"T_1f0fa_row3_col1\" class=\"data row3 col1\" >0.79</td>\n",
       "      <td id=\"T_1f0fa_row3_col2\" class=\"data row3 col2\" >-0.09</td>\n",
       "      <td id=\"T_1f0fa_row3_col3\" class=\"data row3 col3\" >1.00</td>\n",
       "      <td id=\"T_1f0fa_row3_col4\" class=\"data row3 col4\" >-0.90</td>\n",
       "      <td id=\"T_1f0fa_row3_col5\" class=\"data row3 col5\" >0.22</td>\n",
       "      <td id=\"T_1f0fa_row3_col6\" class=\"data row3 col6\" >0.93</td>\n",
       "    </tr>\n",
       "    <tr>\n",
       "      <th id=\"T_1f0fa_level0_row4\" class=\"row_heading level0 row4\" >ETH</th>\n",
       "      <td id=\"T_1f0fa_row4_col0\" class=\"data row4 col0\" >-0.60</td>\n",
       "      <td id=\"T_1f0fa_row4_col1\" class=\"data row4 col1\" >-0.88</td>\n",
       "      <td id=\"T_1f0fa_row4_col2\" class=\"data row4 col2\" >-0.16</td>\n",
       "      <td id=\"T_1f0fa_row4_col3\" class=\"data row4 col3\" >-0.90</td>\n",
       "      <td id=\"T_1f0fa_row4_col4\" class=\"data row4 col4\" >1.00</td>\n",
       "      <td id=\"T_1f0fa_row4_col5\" class=\"data row4 col5\" >0.15</td>\n",
       "      <td id=\"T_1f0fa_row4_col6\" class=\"data row4 col6\" >-0.76</td>\n",
       "    </tr>\n",
       "    <tr>\n",
       "      <th id=\"T_1f0fa_level0_row5\" class=\"row_heading level0 row5\" >LTC</th>\n",
       "      <td id=\"T_1f0fa_row5_col0\" class=\"data row5 col0\" >0.67</td>\n",
       "      <td id=\"T_1f0fa_row5_col1\" class=\"data row5 col1\" >-0.37</td>\n",
       "      <td id=\"T_1f0fa_row5_col2\" class=\"data row5 col2\" >-0.03</td>\n",
       "      <td id=\"T_1f0fa_row5_col3\" class=\"data row5 col3\" >0.22</td>\n",
       "      <td id=\"T_1f0fa_row5_col4\" class=\"data row5 col4\" >0.15</td>\n",
       "      <td id=\"T_1f0fa_row5_col5\" class=\"data row5 col5\" >1.00</td>\n",
       "      <td id=\"T_1f0fa_row5_col6\" class=\"data row5 col6\" >0.49</td>\n",
       "    </tr>\n",
       "    <tr>\n",
       "      <th id=\"T_1f0fa_level0_row6\" class=\"row_heading level0 row6\" >XLM</th>\n",
       "      <td id=\"T_1f0fa_row6_col0\" class=\"data row6 col0\" >0.97</td>\n",
       "      <td id=\"T_1f0fa_row6_col1\" class=\"data row6 col1\" >0.52</td>\n",
       "      <td id=\"T_1f0fa_row6_col2\" class=\"data row6 col2\" >0.11</td>\n",
       "      <td id=\"T_1f0fa_row6_col3\" class=\"data row6 col3\" >0.93</td>\n",
       "      <td id=\"T_1f0fa_row6_col4\" class=\"data row6 col4\" >-0.76</td>\n",
       "      <td id=\"T_1f0fa_row6_col5\" class=\"data row6 col5\" >0.49</td>\n",
       "      <td id=\"T_1f0fa_row6_col6\" class=\"data row6 col6\" >1.00</td>\n",
       "    </tr>\n",
       "  </tbody>\n",
       "</table>\n"
      ],
      "text/plain": [
       "<pandas.io.formats.style.Styler at 0x7f82fcd39af0>"
      ]
     },
     "execution_count": 138,
     "metadata": {},
     "output_type": "execute_result"
    }
   ],
   "source": [
    "correlations = calc_coins_correlations(coins, date=\"2017-12-27\",\n",
    "                                       symbols=['BTC', 'ETH', 'EOS', 'BCH', 'XLM', 'LTC', 'ADA'],\n",
    "                                       window=21, alpha=0.1)\n",
    "# Теперь посмотрим на эти корреляции следующим образом:\n",
    "correlations.style.background_gradient(cmap='coolwarm').set_precision(2)"
   ]
  },
  {
   "cell_type": "markdown",
   "metadata": {
    "id": "D4kyPV0CL08G"
   },
   "source": [
    "## 8. Анализ одной стратегии (2 балла)"
   ]
  },
  {
   "cell_type": "markdown",
   "metadata": {
    "id": "Y8rQ5WIML08H"
   },
   "source": [
    "Разберем один мечтательный пример. Посмотрим какую прибыль могла бы нам принести хрестоматийная торговая стратегия, основанная на скользящих средних.\n",
    "\n",
    "Стратегия выглядит следующим образом: мы строим две скользящие среднии для графика цены. С маленьким окном (ведущее скользящее среднее) и с бОльшим окном (запаздывающее скользящее среднее). **Мы покупаем, когда ведущее среднее становится больше запаздывающего, и продаем в противном случае.**\n",
    "\n",
    "Посмотрим на пример:"
   ]
  },
  {
   "cell_type": "code",
   "execution_count": null,
   "metadata": {
    "id": "gEPEQGSTL08H",
    "outputId": "d4bbd2f4-ba46-45d9-c930-35daf6ae0a48"
   },
   "outputs": [
    {
     "data": {
      "image/png": "[encoded data removed]",
      "text/plain": [
       "<Figure size 1152x648 with 1 Axes>"
      ]
     },
     "metadata": {
      "needs_background": "light"
     },
     "output_type": "display_data"
    }
   ],
   "source": [
    "def plot_moving_averages(coins, symbol, leading_window, lagging_window, start_date, end_date):\n",
    "    coin = coins[coins['symbol'] == symbol][start_date:end_date]\n",
    "    price = coin['price']\n",
    "    leading_mean = price.rolling(window=leading_window).mean()\n",
    "    lagging_mean = price.rolling(window=lagging_window).mean()\n",
    "\n",
    "    fig = plt.figure(figsize=(16, 9))\n",
    "    ax = fig.add_subplot(111)\n",
    "\n",
    "    ax.set_title('Price action for {}'.format(symbol))\n",
    "    ax.plot(leading_mean, color='green', label='MA{}'.format(leading_window))\n",
    "    ax.plot(lagging_mean, color='red', label='MA{}'.format(lagging_window))\n",
    "    ax.plot(price, color='blue', label='price')\n",
    "    ax.set_xlabel('Date')\n",
    "    ax.set_ylabel('Price')\n",
    "    ax.legend(loc='best')\n",
    "    ax.grid(True)\n",
    "    plt.show()\n",
    "\n",
    "\n",
    "plot_moving_averages(\n",
    "    coins=coins,\n",
    "    symbol='BTC',\n",
    "    leading_window=21,\n",
    "    lagging_window=50,\n",
    "    start_date='2017-05-01',\n",
    "    end_date='2018-08-01')"
   ]
  },
  {
   "cell_type": "markdown",
   "metadata": {
    "id": "pK6shsqJL08I"
   },
   "source": [
    "Видно, что скользящее среднее с бОльшим окном медленнее реагирует на изменение цены. Именно на этой идее и основана торговая стратегия/\n",
    "\n",
    "\n",
    "**Реализуйте функцию**, которая строит два графика. На правом будут изображены цена и скользящие средние. На левом - во сколько раз изменится размер вложений при использовании нашей стратегии и при обычном инвестировании (купили и держим, смотрим как растет цена наших купленных валют).\n",
    "\n",
    "Иными словами сравниваем 2 подхода:\n",
    "- сразу в начальный момент времени купить крипты на все деньги - обычное инвестирование\n",
    "- ждать подходящих моментов и покупать только в них равными порциями - стратегия\n",
    "\n",
    "Считайте, что суммарное количество вложенных денег в обоих подходах одинаковое."
   ]
  },
  {
   "cell_type": "markdown",
   "metadata": {
    "id": "AcdF_qkJQ2Xy"
   },
   "source": [
    ">**Примечания:**\n",
    ">- Давайте использовать только цены закрытия. При этом, чтобы узнать цены за вчерашний день, стоит использовать метод `shift(1)` у `Series`.\n",
    ">- Отношение цен закрытия за сегодня и за вчера - это **multiplier** за сегодняшний день. При этом давайте строить графики накопления для multiplier-ов. Т.е. если мы смотрим на 3 дня и в первый день multiplier = 1.5, во второй - 0.5 и в третий - 2, то график будет выглядеть так: (1.5, 1.5 * 0.5, 1.5 * 0.5 * 2).\n",
    ">- При использовании нашей новой стратегии мы будем либо покупать, если ведущее среднее становится больше запаздующего на некоторый `threshold` (при этом лучше разницу сперва поделить на цену), либо оставлять всё как есть. При этом, конечно, нужно, принимая решения за сегодняшний день, смотреть только на статистику из прошлого."
   ]
  },
  {
   "cell_type": "code",
   "execution_count": 151,
   "metadata": {
    "id": "gp86AGWyL08I",
    "scrolled": false
   },
   "outputs": [],
   "source": [
    "def plot_moving_averages_strategy(coins, symbol, lead_window, lag_window, threshold, start_date, end_date):\n",
    "    coins.index = pd.to_datetime(coins.index)\n",
    "    start_date = pd.to_datetime(start_date)\n",
    "    end_date = pd.to_datetime(end_date)\n",
    "    #Если ведущее среднее больше запаздывающего на threshold то обновляем multiplier\n",
    "    lagging_mean = coins[coins['symbol'] == symbol]['price'].rolling(window=lag_window).mean()\n",
    "    leading_mean = coins[coins['symbol'] == symbol]['price'].rolling(window=lead_window).mean()\n",
    "    multiplier = 1\n",
    "    multiplier_list = []\n",
    "    for i in range(len(coins[coins['symbol'] == symbol][start_date:end_date])):\n",
    "        if leading_mean[i] > lagging_mean[i] + threshold:\n",
    "            multiplier = multiplier * coins[coins['symbol'] == symbol][start_date:end_date]['price'][i] / coins[coins['symbol'] == symbol][start_date:end_date]['price'][i-1]\n",
    "        multiplier_list.append(multiplier)\n",
    "\n",
    "    fig = plt.figure(figsize=(8, 4))\n",
    "    ax = fig.add_subplot(111)\n",
    "\n",
    "    ax.set_title('Price action for {}'.format(symbol))\n",
    "\n",
    "    #make x as dates from start_date to end_date\n",
    "    x = coins[coins['symbol'] == symbol][start_date:end_date].index\n",
    "    ax.plot(x, multiplier_list, color='green', label='Multiplier')\n",
    "    ax.set_xlabel('Date')\n",
    "    ax.set_ylabel('Multiplier')\n",
    "    ax.legend(loc='best')\n",
    "    ax.grid(True)"
   ]
  },
  {
   "cell_type": "code",
   "execution_count": 152,
   "metadata": {},
   "outputs": [
    {
     "data": {
      "image/png": "[encoded data removed]",
      "text/plain": [
       "<Figure size 576x288 with 1 Axes>"
      ]
     },
     "metadata": {
      "needs_background": "light"
     },
     "output_type": "display_data"
    }
   ],
   "source": [
    "plot_moving_averages_strategy(\n",
    "    coins=coins,\n",
    "    symbol='BTC',\n",
    "    lead_window=21,\n",
    "    lag_window=50,\n",
    "    threshold=0.01,\n",
    "    start_date='2017-05-01',\n",
    "    end_date='2018-08-01')"
   ]
  },
  {
   "cell_type": "code",
   "execution_count": 160,
   "metadata": {
    "id": "m2CDc_kkL08J"
   },
   "outputs": [
    {
     "data": {
      "application/vnd.jupyter.widget-view+json": {
       "model_id": "a4a99bdbb0b644aab787b6a6f6d84aa1",
       "version_major": 2,
       "version_minor": 0
      },
      "text/plain": [
       "interactive(children=(Dropdown(description='symbol', layout=Layout(width='700px'), options=('BTC', 'ETH', 'EOS…"
      ]
     },
     "metadata": {},
     "output_type": "display_data"
    },
    {
     "data": {
      "text/plain": [
       "<function __main__.plot_moving_averages_strategy(coins, symbol, lead_window, lag_window, threshold, start_date, end_date)>"
      ]
     },
     "execution_count": 160,
     "metadata": {},
     "output_type": "execute_result"
    }
   ],
   "source": [
    "# Теперь на основе реализованной функции сделаем интерактивные графики и поизучаем, что получилось:\n",
    "import ipywidgets\n",
    "symbol_selector = ipywidgets.Dropdown(\n",
    "    options=('BTC', 'ETH', 'EOS', 'BCH', 'XLM', 'LTC', 'ADA'),\n",
    "    index=0,\n",
    "    value='BTC',\n",
    "    layout={'width': '700px'},\n",
    "    continuous_update=False\n",
    ")\n",
    "\n",
    "lead_window_slider = ipywidgets.IntSlider(\n",
    "    value=21,\n",
    "    min=1,\n",
    "    max=200,\n",
    "    step=1,\n",
    "    layout={'width': '700px'},\n",
    "    continuous_update=False)\n",
    "\n",
    "lag_window_slider = ipywidgets.IntSlider(\n",
    "    value=50,\n",
    "    min=1,\n",
    "    max=200,\n",
    "    layout={'width': '700px'},\n",
    "    step=1, continuous_update=False)\n",
    "\n",
    "threshold_slider = ipywidgets.FloatSlider(\n",
    "    min=0,\n",
    "    max=0.20,\n",
    "    step=0.001,\n",
    "    value=0.025,\n",
    "    layout={'width': '700px'},\n",
    "    continuous_update=False)\n",
    "\n",
    "start_date_slider = ipywidgets.SelectionSlider(\n",
    "    options=pd.date_range('2013-04-28', '2018-06-06', freq='D'),\n",
    "    index=0,\n",
    "    value=pd.Timestamp('2017-05-01'),\n",
    "    layout={'width': '700px'},\n",
    "    continuous_update=False\n",
    ")\n",
    "\n",
    "end_date_slider = ipywidgets.SelectionSlider(\n",
    "    options=pd.date_range('2013-04-28', '2018-06-06', freq='D'),\n",
    "    index=0,\n",
    "    value=pd.Timestamp('2018-01-01'),\n",
    "    layout={'width': '700px'},\n",
    "    continuous_update=False\n",
    ")\n",
    "\n",
    "ipywidgets.interact(\n",
    "    plot_moving_averages_strategy,\n",
    "    coins=ipywidgets.fixed(coins),\n",
    "    symbol=symbol_selector,\n",
    "    lead_window=lead_window_slider,\n",
    "    lag_window=lag_window_slider,\n",
    "    threshold=threshold_slider,\n",
    "    start_date=start_date_slider,\n",
    "    end_date=end_date_slider\n",
    ")"
   ]
  },
  {
   "cell_type": "markdown",
   "metadata": {
    "id": "M0nDeThDL08K"
   },
   "source": [
    "Попробуйте разные значения параметров для разных монет и сделайте выводы о применимости такой модели:"
   ]
  },
  {
   "cell_type": "markdown",
   "metadata": {
    "id": "48-ixm47L08K"
   },
   "source": [
    "**Ваш ответ тут**"
   ]
  },
  {
   "cell_type": "markdown",
   "metadata": {
    "id": "ln30vuzhL08L"
   },
   "source": [
    "## 9. Отказ от ответственности "
   ]
  },
  {
   "cell_type": "markdown",
   "metadata": {
    "id": "TJsrHxbTT7ZH"
   },
   "source": [
    "Все примеры разобранных здесь стратегий являются игрушечными и не подходят для реальной торговли на бирже. Без серьезной подготовки вас там съедят с потрохами."
   ]
  }
 ],
 "metadata": {
  "colab": {
   "provenance": []
  },
  "kernelspec": {
   "display_name": "Python 3 (ipykernel)",
   "language": "python",
   "name": "python3"
  },
  "language_info": {
   "codemirror_mode": {
    "name": "ipython",
    "version": 3
   },
   "file_extension": ".py",
   "mimetype": "text/x-python",
   "name": "python",
   "nbconvert_exporter": "python",
   "pygments_lexer": "ipython3",
   "version": "3.9.16"
  }
 },
 "nbformat": 4,
 "nbformat_minor": 1
}
