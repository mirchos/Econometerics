{
 "cells": [
  {
   "cell_type": "markdown",
   "id": "5be65e8e",
   "metadata": {},
   "source": [
    "# Контрольная работа\n",
    "Мурпаизов Бабур"
   ]
  },
  {
   "cell_type": "code",
   "execution_count": 44,
   "id": "cfde7a4d",
   "metadata": {},
   "outputs": [],
   "source": [
    "import pandas as pd\n",
    "import numpy as np\n",
    "import statsmodels.formula.api as smf\n",
    "import statsmodels.api as sm\n",
    "import seaborn as sns"
   ]
  },
  {
   "cell_type": "markdown",
   "id": "8f91dcc4",
   "metadata": {},
   "source": [
    "Выгрузим данные"
   ]
  },
  {
   "cell_type": "code",
   "execution_count": 45,
   "id": "ea528de2",
   "metadata": {},
   "outputs": [
    {
     "data": {
      "text/html": [
       "<div>\n",
       "<style scoped>\n",
       "    .dataframe tbody tr th:only-of-type {\n",
       "        vertical-align: middle;\n",
       "    }\n",
       "\n",
       "    .dataframe tbody tr th {\n",
       "        vertical-align: top;\n",
       "    }\n",
       "\n",
       "    .dataframe thead th {\n",
       "        text-align: right;\n",
       "    }\n",
       "</style>\n",
       "<table border=\"1\" class=\"dataframe\">\n",
       "  <thead>\n",
       "    <tr style=\"text-align: right;\">\n",
       "      <th></th>\n",
       "      <th>longitude</th>\n",
       "      <th>latitude</th>\n",
       "      <th>housing_median_age</th>\n",
       "      <th>total_rooms</th>\n",
       "      <th>total_bedrooms</th>\n",
       "      <th>population</th>\n",
       "      <th>households</th>\n",
       "      <th>median_income</th>\n",
       "      <th>median_house_value</th>\n",
       "      <th>ocean_proximity</th>\n",
       "    </tr>\n",
       "  </thead>\n",
       "  <tbody>\n",
       "    <tr>\n",
       "      <th>0</th>\n",
       "      <td>-122.23</td>\n",
       "      <td>37.88</td>\n",
       "      <td>41.0</td>\n",
       "      <td>880.0</td>\n",
       "      <td>129.0</td>\n",
       "      <td>322.0</td>\n",
       "      <td>126.0</td>\n",
       "      <td>8.3252</td>\n",
       "      <td>452600.0</td>\n",
       "      <td>NEAR BAY</td>\n",
       "    </tr>\n",
       "    <tr>\n",
       "      <th>1</th>\n",
       "      <td>-122.22</td>\n",
       "      <td>37.86</td>\n",
       "      <td>21.0</td>\n",
       "      <td>7099.0</td>\n",
       "      <td>1106.0</td>\n",
       "      <td>2401.0</td>\n",
       "      <td>1138.0</td>\n",
       "      <td>8.3014</td>\n",
       "      <td>358500.0</td>\n",
       "      <td>NEAR BAY</td>\n",
       "    </tr>\n",
       "    <tr>\n",
       "      <th>2</th>\n",
       "      <td>-122.24</td>\n",
       "      <td>37.85</td>\n",
       "      <td>52.0</td>\n",
       "      <td>1467.0</td>\n",
       "      <td>190.0</td>\n",
       "      <td>496.0</td>\n",
       "      <td>177.0</td>\n",
       "      <td>7.2574</td>\n",
       "      <td>352100.0</td>\n",
       "      <td>NEAR BAY</td>\n",
       "    </tr>\n",
       "    <tr>\n",
       "      <th>3</th>\n",
       "      <td>-122.25</td>\n",
       "      <td>37.85</td>\n",
       "      <td>52.0</td>\n",
       "      <td>1274.0</td>\n",
       "      <td>235.0</td>\n",
       "      <td>558.0</td>\n",
       "      <td>219.0</td>\n",
       "      <td>5.6431</td>\n",
       "      <td>341300.0</td>\n",
       "      <td>NEAR BAY</td>\n",
       "    </tr>\n",
       "    <tr>\n",
       "      <th>4</th>\n",
       "      <td>-122.25</td>\n",
       "      <td>37.85</td>\n",
       "      <td>52.0</td>\n",
       "      <td>1627.0</td>\n",
       "      <td>280.0</td>\n",
       "      <td>565.0</td>\n",
       "      <td>259.0</td>\n",
       "      <td>3.8462</td>\n",
       "      <td>342200.0</td>\n",
       "      <td>NEAR BAY</td>\n",
       "    </tr>\n",
       "  </tbody>\n",
       "</table>\n",
       "</div>"
      ],
      "text/plain": [
       "   longitude  latitude  housing_median_age  total_rooms  total_bedrooms  \\\n",
       "0    -122.23     37.88                41.0        880.0           129.0   \n",
       "1    -122.22     37.86                21.0       7099.0          1106.0   \n",
       "2    -122.24     37.85                52.0       1467.0           190.0   \n",
       "3    -122.25     37.85                52.0       1274.0           235.0   \n",
       "4    -122.25     37.85                52.0       1627.0           280.0   \n",
       "\n",
       "   population  households  median_income  median_house_value ocean_proximity  \n",
       "0       322.0       126.0         8.3252            452600.0        NEAR BAY  \n",
       "1      2401.0      1138.0         8.3014            358500.0        NEAR BAY  \n",
       "2       496.0       177.0         7.2574            352100.0        NEAR BAY  \n",
       "3       558.0       219.0         5.6431            341300.0        NEAR BAY  \n",
       "4       565.0       259.0         3.8462            342200.0        NEAR BAY  "
      ]
     },
     "execution_count": 45,
     "metadata": {},
     "output_type": "execute_result"
    }
   ],
   "source": [
    "df = pd.read_csv('/Users/babur/Downloads/Econometrica-master/python-notebooks/data-csv/californigaHousingPrice.csv')\n",
    "df.head()"
   ]
  },
  {
   "cell_type": "code",
   "execution_count": 46,
   "id": "be814c58",
   "metadata": {},
   "outputs": [
    {
     "data": {
      "text/plain": [
       "array(['NEAR BAY', '<1H OCEAN', 'INLAND', 'NEAR OCEAN', 'ISLAND'],\n",
       "      dtype=object)"
      ]
     },
     "execution_count": 46,
     "metadata": {},
     "output_type": "execute_result"
    }
   ],
   "source": [
    "df[\"ocean_proximity\"].unique()"
   ]
  },
  {
   "cell_type": "markdown",
   "id": "e0022c2b",
   "metadata": {},
   "source": [
    "Видим что колонка ocean_proximity категориальный признак\n",
    "\n",
    "Заменим значения на 1, 2, 3, 4, 5"
   ]
  },
  {
   "cell_type": "code",
   "execution_count": 47,
   "id": "8a6731e8",
   "metadata": {},
   "outputs": [
    {
     "data": {
      "text/html": [
       "<div>\n",
       "<style scoped>\n",
       "    .dataframe tbody tr th:only-of-type {\n",
       "        vertical-align: middle;\n",
       "    }\n",
       "\n",
       "    .dataframe tbody tr th {\n",
       "        vertical-align: top;\n",
       "    }\n",
       "\n",
       "    .dataframe thead th {\n",
       "        text-align: right;\n",
       "    }\n",
       "</style>\n",
       "<table border=\"1\" class=\"dataframe\">\n",
       "  <thead>\n",
       "    <tr style=\"text-align: right;\">\n",
       "      <th></th>\n",
       "      <th>longitude</th>\n",
       "      <th>latitude</th>\n",
       "      <th>housing_median_age</th>\n",
       "      <th>total_rooms</th>\n",
       "      <th>total_bedrooms</th>\n",
       "      <th>population</th>\n",
       "      <th>households</th>\n",
       "      <th>median_income</th>\n",
       "      <th>median_house_value</th>\n",
       "      <th>ocean_proximity</th>\n",
       "    </tr>\n",
       "  </thead>\n",
       "  <tbody>\n",
       "    <tr>\n",
       "      <th>0</th>\n",
       "      <td>-122.23</td>\n",
       "      <td>37.88</td>\n",
       "      <td>41.0</td>\n",
       "      <td>880.0</td>\n",
       "      <td>129.0</td>\n",
       "      <td>322.0</td>\n",
       "      <td>126.0</td>\n",
       "      <td>8.3252</td>\n",
       "      <td>452600.0</td>\n",
       "      <td>1</td>\n",
       "    </tr>\n",
       "    <tr>\n",
       "      <th>1</th>\n",
       "      <td>-122.22</td>\n",
       "      <td>37.86</td>\n",
       "      <td>21.0</td>\n",
       "      <td>7099.0</td>\n",
       "      <td>1106.0</td>\n",
       "      <td>2401.0</td>\n",
       "      <td>1138.0</td>\n",
       "      <td>8.3014</td>\n",
       "      <td>358500.0</td>\n",
       "      <td>1</td>\n",
       "    </tr>\n",
       "    <tr>\n",
       "      <th>2</th>\n",
       "      <td>-122.24</td>\n",
       "      <td>37.85</td>\n",
       "      <td>52.0</td>\n",
       "      <td>1467.0</td>\n",
       "      <td>190.0</td>\n",
       "      <td>496.0</td>\n",
       "      <td>177.0</td>\n",
       "      <td>7.2574</td>\n",
       "      <td>352100.0</td>\n",
       "      <td>1</td>\n",
       "    </tr>\n",
       "    <tr>\n",
       "      <th>3</th>\n",
       "      <td>-122.25</td>\n",
       "      <td>37.85</td>\n",
       "      <td>52.0</td>\n",
       "      <td>1274.0</td>\n",
       "      <td>235.0</td>\n",
       "      <td>558.0</td>\n",
       "      <td>219.0</td>\n",
       "      <td>5.6431</td>\n",
       "      <td>341300.0</td>\n",
       "      <td>1</td>\n",
       "    </tr>\n",
       "    <tr>\n",
       "      <th>4</th>\n",
       "      <td>-122.25</td>\n",
       "      <td>37.85</td>\n",
       "      <td>52.0</td>\n",
       "      <td>1627.0</td>\n",
       "      <td>280.0</td>\n",
       "      <td>565.0</td>\n",
       "      <td>259.0</td>\n",
       "      <td>3.8462</td>\n",
       "      <td>342200.0</td>\n",
       "      <td>1</td>\n",
       "    </tr>\n",
       "    <tr>\n",
       "      <th>5</th>\n",
       "      <td>-122.25</td>\n",
       "      <td>37.85</td>\n",
       "      <td>52.0</td>\n",
       "      <td>919.0</td>\n",
       "      <td>213.0</td>\n",
       "      <td>413.0</td>\n",
       "      <td>193.0</td>\n",
       "      <td>4.0368</td>\n",
       "      <td>269700.0</td>\n",
       "      <td>1</td>\n",
       "    </tr>\n",
       "    <tr>\n",
       "      <th>6</th>\n",
       "      <td>-122.25</td>\n",
       "      <td>37.84</td>\n",
       "      <td>52.0</td>\n",
       "      <td>2535.0</td>\n",
       "      <td>489.0</td>\n",
       "      <td>1094.0</td>\n",
       "      <td>514.0</td>\n",
       "      <td>3.6591</td>\n",
       "      <td>299200.0</td>\n",
       "      <td>1</td>\n",
       "    </tr>\n",
       "    <tr>\n",
       "      <th>7</th>\n",
       "      <td>-122.25</td>\n",
       "      <td>37.84</td>\n",
       "      <td>52.0</td>\n",
       "      <td>3104.0</td>\n",
       "      <td>687.0</td>\n",
       "      <td>1157.0</td>\n",
       "      <td>647.0</td>\n",
       "      <td>3.1200</td>\n",
       "      <td>241400.0</td>\n",
       "      <td>1</td>\n",
       "    </tr>\n",
       "    <tr>\n",
       "      <th>8</th>\n",
       "      <td>-122.26</td>\n",
       "      <td>37.84</td>\n",
       "      <td>42.0</td>\n",
       "      <td>2555.0</td>\n",
       "      <td>665.0</td>\n",
       "      <td>1206.0</td>\n",
       "      <td>595.0</td>\n",
       "      <td>2.0804</td>\n",
       "      <td>226700.0</td>\n",
       "      <td>1</td>\n",
       "    </tr>\n",
       "    <tr>\n",
       "      <th>9</th>\n",
       "      <td>-122.25</td>\n",
       "      <td>37.84</td>\n",
       "      <td>52.0</td>\n",
       "      <td>3549.0</td>\n",
       "      <td>707.0</td>\n",
       "      <td>1551.0</td>\n",
       "      <td>714.0</td>\n",
       "      <td>3.6912</td>\n",
       "      <td>261100.0</td>\n",
       "      <td>1</td>\n",
       "    </tr>\n",
       "  </tbody>\n",
       "</table>\n",
       "</div>"
      ],
      "text/plain": [
       "   longitude  latitude  housing_median_age  total_rooms  total_bedrooms  \\\n",
       "0    -122.23     37.88                41.0        880.0           129.0   \n",
       "1    -122.22     37.86                21.0       7099.0          1106.0   \n",
       "2    -122.24     37.85                52.0       1467.0           190.0   \n",
       "3    -122.25     37.85                52.0       1274.0           235.0   \n",
       "4    -122.25     37.85                52.0       1627.0           280.0   \n",
       "5    -122.25     37.85                52.0        919.0           213.0   \n",
       "6    -122.25     37.84                52.0       2535.0           489.0   \n",
       "7    -122.25     37.84                52.0       3104.0           687.0   \n",
       "8    -122.26     37.84                42.0       2555.0           665.0   \n",
       "9    -122.25     37.84                52.0       3549.0           707.0   \n",
       "\n",
       "   population  households  median_income  median_house_value  ocean_proximity  \n",
       "0       322.0       126.0         8.3252            452600.0                1  \n",
       "1      2401.0      1138.0         8.3014            358500.0                1  \n",
       "2       496.0       177.0         7.2574            352100.0                1  \n",
       "3       558.0       219.0         5.6431            341300.0                1  \n",
       "4       565.0       259.0         3.8462            342200.0                1  \n",
       "5       413.0       193.0         4.0368            269700.0                1  \n",
       "6      1094.0       514.0         3.6591            299200.0                1  \n",
       "7      1157.0       647.0         3.1200            241400.0                1  \n",
       "8      1206.0       595.0         2.0804            226700.0                1  \n",
       "9      1551.0       714.0         3.6912            261100.0                1  "
      ]
     },
     "execution_count": 47,
     "metadata": {},
     "output_type": "execute_result"
    }
   ],
   "source": [
    "cleanup_nums = {\"ocean_proximity\": {\"NEAR BAY\": 1, \"<1H OCEAN\": 2, \"INLAND\": 3, \"NEAR OCEAN\": 4, \"ISLAND\": 5}}\n",
    "df = df.replace(cleanup_nums)\n",
    "df.head(10)"
   ]
  },
  {
   "cell_type": "markdown",
   "id": "0e473113",
   "metadata": {},
   "source": [
    "Для набора данных 'californigaHousingPrice' рассмотрим регрессию **median_income на log(median_house_value) & log(ocean_proximity).**\n",
    "\n",
    "Спецификация: $medianincome=\\beta_0+\\beta_1\\log(medianhousevalue)+\\beta_2\\log(oceanproximity)+u$\n",
    "\n",
    "Подгоним модель и найдем параметры регрессии"
   ]
  },
  {
   "cell_type": "code",
   "execution_count": 48,
   "id": "b495921f",
   "metadata": {},
   "outputs": [
    {
     "data": {
      "text/plain": [
       "Intercept             1.425\n",
       "median_house_value    0.000\n",
       "ocean_proximity       0.037\n",
       "dtype: float64"
      ]
     },
     "execution_count": 48,
     "metadata": {},
     "output_type": "execute_result"
    }
   ],
   "source": [
    "# Подгонка модели\n",
    "income_eq = smf.ols(formula='median_income~median_house_value+ocean_proximity', data=df).fit()\n",
    "income_eq.params.round(3)"
   ]
  },
  {
   "cell_type": "markdown",
   "id": "e8aafed2",
   "metadata": {},
   "source": [
    "Вычислим основные параметры регрессии: TSS, ESS, RSS"
   ]
  },
  {
   "cell_type": "code",
   "execution_count": 49,
   "id": "7f78e4b6",
   "metadata": {},
   "outputs": [
    {
     "name": "stdout",
     "output_type": "stream",
     "text": [
      "TSS = 74492.808\n",
      "ESS = 35287.828\n",
      "RSS = 39204.981\n"
     ]
    }
   ],
   "source": [
    "TSS = income_eq.centered_tss\n",
    "ESS = income_eq.ess\n",
    "RSS = income_eq.ssr\n",
    "print(\"TSS =\", TSS.round(3))\n",
    "print(\"ESS =\", ESS.round(3))\n",
    "print(\"RSS =\", RSS.round(3))"
   ]
  },
  {
   "cell_type": "markdown",
   "id": "77e64004",
   "metadata": {},
   "source": [
    "Вычислим $R^2$ и $R^2_{adj}$"
   ]
  },
  {
   "cell_type": "code",
   "execution_count": 50,
   "id": "918b6eb9",
   "metadata": {},
   "outputs": [
    {
     "name": "stdout",
     "output_type": "stream",
     "text": [
      "R2 = 0.474\n",
      "R2_adj = 0.474\n"
     ]
    }
   ],
   "source": [
    "R2 = income_eq.rsquared\n",
    "R2_adj = income_eq.rsquared_adj\n",
    "print(\"R2 =\", R2.round(3))\n",
    "print(\"R2_adj =\", R2_adj.round(3))"
   ]
  },
  {
   "cell_type": "markdown",
   "id": "01cdc968",
   "metadata": {},
   "source": [
    "Вычислим стандартрую ошибку регрессии"
   ]
  },
  {
   "cell_type": "code",
   "execution_count": 51,
   "id": "70e1cc42",
   "metadata": {},
   "outputs": [
    {
     "name": "stdout",
     "output_type": "stream",
     "text": [
      "s = 1.378\n"
     ]
    }
   ],
   "source": [
    "n = len(df[\"median_income\"])\n",
    "k = 2\n",
    "s = np.sqrt(RSS / (n - k - 1))\n",
    "print(\"s =\", s.round(3))"
   ]
  },
  {
   "cell_type": "markdown",
   "id": "f518b13a",
   "metadata": {},
   "source": [
    "Спецификация: $medianincome=1.425+0*\\log(medianhousevalue)+0.037*\\log(oceanproximity)+u$"
   ]
  },
  {
   "cell_type": "markdown",
   "id": "0789b6d6",
   "metadata": {},
   "source": [
    "### Интерпретация модели\n",
    "1) При изменение 𝑚𝑒𝑑𝑖𝑎𝑛ℎ𝑜𝑢𝑠𝑒𝑣𝑎𝑙𝑢𝑒 𝑚𝑒𝑑𝑖𝑎𝑛𝑖𝑛𝑐𝑜𝑚𝑒 не меняется\n",
    "2) При изменение 𝑜𝑐𝑒𝑎𝑛𝑝𝑟𝑜𝑥𝑖𝑚𝑖𝑡𝑦 𝑚𝑒𝑑𝑖𝑎𝑛𝑖𝑛𝑐𝑜𝑚𝑒 увеличивается на 00.037%"
   ]
  },
  {
   "cell_type": "markdown",
   "id": "0f6fdc66",
   "metadata": {},
   "source": [
    "Значимые коэффиценты - **ocean_proximity**"
   ]
  },
  {
   "cell_type": "markdown",
   "id": "06972a7c",
   "metadata": {},
   "source": [
    "### Построим графики линии тренда для различных наборов значений"
   ]
  },
  {
   "cell_type": "code",
   "execution_count": 52,
   "id": "fd17ddd2",
   "metadata": {},
   "outputs": [
    {
     "data": {
      "text/plain": [
       "<Axes: xlabel='median_income', ylabel='ocean_proximity'>"
      ]
     },
     "execution_count": 52,
     "metadata": {},
     "output_type": "execute_result"
    },
    {
     "data": {
      "image/png": "[encoded data removed]",
      "text/plain": [
       "<Figure size 640x480 with 1 Axes>"
      ]
     },
     "metadata": {},
     "output_type": "display_data"
    }
   ],
   "source": [
    "sns.regplot(data=df, x='median_income', y=np.log(df['ocean_proximity']), ci=None, line_kws={\"color\": \"b\"}, color = \"r\")"
   ]
  },
  {
   "cell_type": "code",
   "execution_count": 53,
   "id": "1e376e15",
   "metadata": {},
   "outputs": [
    {
     "data": {
      "text/plain": [
       "<Axes: xlabel='median_income', ylabel='median_house_value'>"
      ]
     },
     "execution_count": 53,
     "metadata": {},
     "output_type": "execute_result"
    },
    {
     "data": {
      "image/png": "[encoded data removed]",
      "text/plain": [
       "<Figure size 640x480 with 1 Axes>"
      ]
     },
     "metadata": {},
     "output_type": "display_data"
    }
   ],
   "source": [
    "sns.regplot(data=df, x='median_income', y=np.log(df['median_house_value']), ci=None, line_kws={\"color\": \"b\"}, color = \"r\")"
   ]
  },
  {
   "cell_type": "markdown",
   "id": "a8827ca9",
   "metadata": {},
   "source": [
    "Рассмотрим регрессию без константы"
   ]
  },
  {
   "cell_type": "code",
   "execution_count": 54,
   "id": "79d856cb",
   "metadata": {},
   "outputs": [
    {
     "data": {
      "text/plain": [
       "Intercept             1.425\n",
       "median_house_value    0.000\n",
       "ocean_proximity       0.037\n",
       "dtype: float64"
      ]
     },
     "execution_count": 54,
     "metadata": {},
     "output_type": "execute_result"
    }
   ],
   "source": [
    "income_eq2 = smf.ols(formula='median_income~median_house_value+ocean_proximity', data=df).fit()\n",
    "income_eq2.params.round(3)"
   ]
  },
  {
   "cell_type": "markdown",
   "id": "85618e40",
   "metadata": {},
   "source": [
    "Вычислим $R^2$"
   ]
  },
  {
   "cell_type": "code",
   "execution_count": 55,
   "id": "74e20374",
   "metadata": {},
   "outputs": [
    {
     "name": "stdout",
     "output_type": "stream",
     "text": [
      "R2 = 0.474\n"
     ]
    }
   ],
   "source": [
    "R2 = income_eq2.rsquared\n",
    "print(\"R2 =\", R2.round(3))"
   ]
  },
  {
   "cell_type": "markdown",
   "id": "f9a8b35c",
   "metadata": {},
   "source": [
    "Сравним с предыдущем значением $R^2$ = 0.474"
   ]
  },
  {
   "cell_type": "markdown",
   "id": "a074e566",
   "metadata": {},
   "source": [
    "Видим что значения одинаковые, значит переменная отклика так же объясняется предикторной переменной"
   ]
  }
 ],
 "metadata": {
  "kernelspec": {
   "display_name": "Python 3 (ipykernel)",
   "language": "python",
   "name": "python3"
  },
  "language_info": {
   "codemirror_mode": {
    "name": "ipython",
    "version": 3
   },
   "file_extension": ".py",
   "mimetype": "text/x-python",
   "name": "python",
   "nbconvert_exporter": "python",
   "pygments_lexer": "ipython3",
   "version": "3.9.16"
  }
 },
 "nbformat": 4,
 "nbformat_minor": 5
}
