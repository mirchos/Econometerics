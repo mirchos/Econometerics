{
 "cells": [
  {
   "cell_type": "markdown",
   "id": "5c3894a4",
   "metadata": {},
   "source": [
    "# Контрольная работа\n",
    "Сафонов Глеб"
   ]
  },
  {
   "cell_type": "code",
   "execution_count": 1,
   "id": "402593c9",
   "metadata": {},
   "outputs": [],
   "source": [
    "import pandas as pd\n",
    "import numpy as np\n",
    "import statsmodels.formula.api as smf\n",
    "import statsmodels.api as sm"
   ]
  },
  {
   "cell_type": "markdown",
   "id": "3b5a7293",
   "metadata": {},
   "source": [
    "## Задача 1"
   ]
  },
  {
   "cell_type": "code",
   "execution_count": 2,
   "id": "08e49983",
   "metadata": {},
   "outputs": [
    {
     "data": {
      "text/plain": [
       "Intercept    3151.38\n",
       "age             3.61\n",
       "smsa          -62.83\n",
       "dtype: float64"
      ]
     },
     "execution_count": 2,
     "metadata": {},
     "output_type": "execute_result"
    }
   ],
   "source": [
    "df_sleep = pd.read_csv('https://raw.githubusercontent.com/artamonoff/Econometrica/master/python-notebooks/data-csv/sleep75.csv')\n",
    "# специфицируем модель через формулу\n",
    "sleep_eq1 = smf.ols(formula='sleep~age+smsa', data=df_sleep).fit()\n",
    "# Коэффициенты модели с округлением\n",
    "sleep_eq1.params.round(2)"
   ]
  },
  {
   "cell_type": "markdown",
   "id": "b18c51ad",
   "metadata": {},
   "source": [
    "## Задача 2"
   ]
  },
  {
   "cell_type": "markdown",
   "id": "5c328451",
   "metadata": {},
   "source": [
    "Вычислим $R^2$ и $R^2_{adj}$"
   ]
  },
  {
   "cell_type": "code",
   "execution_count": 6,
   "id": "0a793268",
   "metadata": {},
   "outputs": [
    {
     "name": "stdout",
     "output_type": "stream",
     "text": [
      "R2 = 0.118\n",
      "R2_adj = 0.114\n"
     ]
    }
   ],
   "source": [
    "df_wage = pd.read_csv('https://raw.githubusercontent.com/artamonoff/Econometrica/master/python-notebooks/data-csv/wage2.csv')\n",
    "# специфицируем модель через формулу\n",
    "wage_eq1 = smf.ols(formula='np.log(wage)~age+south+urban+married', data=df_wage).fit()\n",
    "R2 = wage_eq1.rsquared\n",
    "R2_adj = wage_eq1.rsquared_adj\n",
    "print(\"R2 =\", R2.round(3))\n",
    "print(\"R2_adj =\", R2_adj.round(3))"
   ]
  },
  {
   "cell_type": "code",
   "execution_count": 8,
   "id": "b1a9dc05",
   "metadata": {},
   "outputs": [
    {
     "data": {
      "text/plain": [
       "Intercept    5.89\n",
       "age          0.02\n",
       "south       -0.15\n",
       "urban        0.18\n",
       "married      0.20\n",
       "dtype: float64"
      ]
     },
     "execution_count": 8,
     "metadata": {},
     "output_type": "execute_result"
    }
   ],
   "source": [
    "# Коэффициенты модели с округлением\n",
    "wage_eq1.params.round(2)"
   ]
  },
  {
   "cell_type": "markdown",
   "id": "97094046",
   "metadata": {},
   "source": [
    "## Задача 3"
   ]
  },
  {
   "cell_type": "markdown",
   "id": "6622d67a",
   "metadata": {},
   "source": [
    "Вычислим TSS, ESS, RSS"
   ]
  },
  {
   "cell_type": "code",
   "execution_count": 9,
   "id": "41800671",
   "metadata": {},
   "outputs": [
    {
     "data": {
      "text/plain": [
       "Intercept         -1.94\n",
       "np.log(capital)    0.51\n",
       "np.log(wage)       0.88\n",
       "dtype: float64"
      ]
     },
     "execution_count": 9,
     "metadata": {},
     "output_type": "execute_result"
    }
   ],
   "source": [
    "df_labour = pd.read_csv('https://raw.githubusercontent.com/artamonoff/Econometrica/master/python-notebooks/data-csv/Labour.csv')\n",
    "# Подгонка модели\n",
    "output_eq1 = smf.ols(formula='np.log(output)~np.log(capital)+np.log(wage)', data=df_labour).fit()\n",
    "output_eq1.params.round(2)"
   ]
  },
  {
   "cell_type": "code",
   "execution_count": 10,
   "id": "553754dd",
   "metadata": {},
   "outputs": [
    {
     "name": "stdout",
     "output_type": "stream",
     "text": [
      "TSS = 797.67\n",
      "ESS = 487.23\n",
      "RSS = 310.43\n"
     ]
    }
   ],
   "source": [
    "TSS = output_eq1.centered_tss\n",
    "ESS = output_eq1.ess\n",
    "RSS = output_eq1.ssr\n",
    "print(\"TSS =\", TSS.round(2))\n",
    "print(\"ESS =\", ESS.round(2))\n",
    "print(\"RSS =\", RSS.round(2))"
   ]
  },
  {
   "cell_type": "markdown",
   "id": "84bd845e",
   "metadata": {},
   "source": [
    "## Задача 4"
   ]
  },
  {
   "cell_type": "code",
   "execution_count": 11,
   "id": "e8fd5aff",
   "metadata": {},
   "outputs": [
    {
     "data": {
      "text/plain": [
       "Intercept    3494.22\n",
       "totwrk         -0.17\n",
       "age             2.81\n",
       "male           86.91\n",
       "smsa          -75.29\n",
       "dtype: float64"
      ]
     },
     "execution_count": 11,
     "metadata": {},
     "output_type": "execute_result"
    }
   ],
   "source": [
    "# специфицируем модель через формулу\n",
    "sleep_eq2 = smf.ols(formula='sleep~totwrk+age+male+smsa', data=df_sleep).fit()\n",
    "# Коэффициенты модели с округлением\n",
    "sleep_eq2.params.round(2)"
   ]
  },
  {
   "cell_type": "markdown",
   "id": "31049c8c",
   "metadata": {},
   "source": [
    "Для наблюдения с номером 3 найдем фактическое значение зависимой переменной, предсказанное значение и остаток"
   ]
  },
  {
   "cell_type": "code",
   "execution_count": 16,
   "id": "dac289a5",
   "metadata": {},
   "outputs": [
    {
     "name": "stdout",
     "output_type": "stream",
     "text": [
      "Фактичечкое = 3083\n",
      "Предсказанное = 2943.58\n",
      "Остаток = 139.42\n"
     ]
    }
   ],
   "source": [
    "# Фактичечкое\n",
    "fact = df_sleep[\"sleep\"][3].round(3)\n",
    "# Предсказанное\n",
    "pred = sleep_eq2.fittedvalues[3].round(3)\n",
    "# Остаток\n",
    "resid = sleep_eq2.resid[3].round(3)\n",
    "print(\"Фактичечкое =\", fact)\n",
    "print(\"Предсказанное =\", pred)\n",
    "print(\"Остаток =\", resid)"
   ]
  },
  {
   "cell_type": "markdown",
   "id": "4320aa6f",
   "metadata": {},
   "source": [
    "## Задача 5"
   ]
  },
  {
   "cell_type": "markdown",
   "id": "40d2a273",
   "metadata": {},
   "source": [
    "Для набора данных 'Labour' рассмотрим линейную регрессию **log(output) на log(capital), labour, wage**\n",
    "\n",
    "Оценим регрессию на данных"
   ]
  },
  {
   "cell_type": "code",
   "execution_count": 17,
   "id": "f3aed899",
   "metadata": {},
   "outputs": [
    {
     "data": {
      "text/plain": [
       "Intercept          0.58\n",
       "np.log(capital)    0.44\n",
       "labour             0.00\n",
       "wage               0.02\n",
       "dtype: float64"
      ]
     },
     "execution_count": 17,
     "metadata": {},
     "output_type": "execute_result"
    }
   ],
   "source": [
    "# Подгонка модели\n",
    "labour_eq = smf.ols(formula='np.log(output)~np.log(capital)+labour+wage', data=df_labour).fit()\n",
    "labour_eq.params.round(2)"
   ]
  },
  {
   "cell_type": "markdown",
   "id": "2f3ae253",
   "metadata": {},
   "source": [
    "Для некоторых наблюдений найдем фактическое значение зависимой переменной, предсказанное значение и остатки."
   ]
  },
  {
   "cell_type": "code",
   "execution_count": 18,
   "id": "dad19a29",
   "metadata": {},
   "outputs": [
    {
     "data": {
      "text/html": [
       "<div>\n",
       "<style scoped>\n",
       "    .dataframe tbody tr th:only-of-type {\n",
       "        vertical-align: middle;\n",
       "    }\n",
       "\n",
       "    .dataframe tbody tr th {\n",
       "        vertical-align: top;\n",
       "    }\n",
       "\n",
       "    .dataframe thead th {\n",
       "        text-align: right;\n",
       "    }\n",
       "</style>\n",
       "<table border=\"1\" class=\"dataframe\">\n",
       "  <thead>\n",
       "    <tr style=\"text-align: right;\">\n",
       "      <th></th>\n",
       "      <th>i</th>\n",
       "      <th>Факт</th>\n",
       "      <th>Fitted</th>\n",
       "      <th>Остаток</th>\n",
       "    </tr>\n",
       "  </thead>\n",
       "  <tbody>\n",
       "    <tr>\n",
       "      <th>5</th>\n",
       "      <td>6</td>\n",
       "      <td>6.174079</td>\n",
       "      <td>7.298163</td>\n",
       "      <td>-1.124085</td>\n",
       "    </tr>\n",
       "    <tr>\n",
       "      <th>36</th>\n",
       "      <td>37</td>\n",
       "      <td>1.399213</td>\n",
       "      <td>2.000322</td>\n",
       "      <td>-0.601109</td>\n",
       "    </tr>\n",
       "    <tr>\n",
       "      <th>67</th>\n",
       "      <td>68</td>\n",
       "      <td>1.586001</td>\n",
       "      <td>2.168943</td>\n",
       "      <td>-0.582942</td>\n",
       "    </tr>\n",
       "    <tr>\n",
       "      <th>138</th>\n",
       "      <td>139</td>\n",
       "      <td>0.337593</td>\n",
       "      <td>1.205367</td>\n",
       "      <td>-0.867774</td>\n",
       "    </tr>\n",
       "    <tr>\n",
       "      <th>364</th>\n",
       "      <td>365</td>\n",
       "      <td>1.727330</td>\n",
       "      <td>1.432167</td>\n",
       "      <td>0.295163</td>\n",
       "    </tr>\n",
       "    <tr>\n",
       "      <th>478</th>\n",
       "      <td>479</td>\n",
       "      <td>1.547772</td>\n",
       "      <td>1.934992</td>\n",
       "      <td>-0.387220</td>\n",
       "    </tr>\n",
       "  </tbody>\n",
       "</table>\n",
       "</div>"
      ],
      "text/plain": [
       "       i      Факт    Fitted   Остаток\n",
       "5      6  6.174079  7.298163 -1.124085\n",
       "36    37  1.399213  2.000322 -0.601109\n",
       "67    68  1.586001  2.168943 -0.582942\n",
       "138  139  0.337593  1.205367 -0.867774\n",
       "364  365  1.727330  1.432167  0.295163\n",
       "478  479  1.547772  1.934992 -0.387220"
      ]
     },
     "execution_count": 18,
     "metadata": {},
     "output_type": "execute_result"
    }
   ],
   "source": [
    "ind = np.array([6, 37, 68, 139, 365, 479])-1\n",
    "df = pd.DataFrame({'i': ind + 1, 'Факт': np.log(df_labour[\"output\"][ind]), 'Fitted': labour_eq.predict()[ind], 'Остаток': np.log(df_labour[\"output\"][ind]) - labour_eq.predict()[ind]})\n",
    "df"
   ]
  },
  {
   "cell_type": "markdown",
   "id": "2763b9ce",
   "metadata": {},
   "source": [
    "Вычислим TSS, ESS, RSS"
   ]
  },
  {
   "cell_type": "code",
   "execution_count": 21,
   "id": "b8fbd164",
   "metadata": {},
   "outputs": [
    {
     "name": "stdout",
     "output_type": "stream",
     "text": [
      "TSS = 797.667\n",
      "ESS = 522.54\n",
      "RSS = 275.128\n"
     ]
    }
   ],
   "source": [
    "TSS = labour_eq.centered_tss\n",
    "ESS = labour_eq.ess\n",
    "RSS = labour_eq.ssr\n",
    "print(\"TSS =\", TSS.round(3))\n",
    "print(\"ESS =\", ESS.round(3))\n",
    "print(\"RSS =\", RSS.round(3))"
   ]
  },
  {
   "cell_type": "markdown",
   "id": "1c0405d1",
   "metadata": {},
   "source": [
    "Вычислим $R^2$ и $R^2_{adj}$"
   ]
  },
  {
   "cell_type": "code",
   "execution_count": 22,
   "id": "a06f76aa",
   "metadata": {},
   "outputs": [
    {
     "name": "stdout",
     "output_type": "stream",
     "text": [
      "R2 = 0.655\n",
      "R2_adj = 0.653\n"
     ]
    }
   ],
   "source": [
    "R2 = labour_eq.rsquared\n",
    "R2_adj = labour_eq.rsquared_adj\n",
    "print(\"R2 =\", R2.round(3))\n",
    "print(\"R2_adj =\", R2_adj.round(3))"
   ]
  },
  {
   "cell_type": "markdown",
   "id": "75d03cf7",
   "metadata": {},
   "source": [
    "Спецификация: $\\log(output)=0.58+0.44*\\log(capital)+0*labour+0.02*wage+u$"
   ]
  },
  {
   "cell_type": "markdown",
   "id": "720d53a9",
   "metadata": {},
   "source": [
    "### Интерпретация модели\n",
    "1) При увеличении капитала на 1%, выпуск увеличивается на 0.44%\n",
    "2) При увеличении числа рабочих на 1, выпуск не меняется"
   ]
  }
 ],
 "metadata": {
  "kernelspec": {
   "display_name": "Python 3 (ipykernel)",
   "language": "python",
   "name": "python3"
  },
  "language_info": {
   "codemirror_mode": {
    "name": "ipython",
    "version": 3
   },
   "file_extension": ".py",
   "mimetype": "text/x-python",
   "name": "python",
   "nbconvert_exporter": "python",
   "pygments_lexer": "ipython3",
   "version": "3.9.16"
  }
 },
 "nbformat": 4,
 "nbformat_minor": 5
}
