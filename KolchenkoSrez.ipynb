{
 "cells": [
  {
   "cell_type": "markdown",
   "id": "dca6577f",
   "metadata": {},
   "source": [
    "# Контрольная работа 1\n",
    "Колченко Ксения"
   ]
  },
  {
   "cell_type": "code",
   "execution_count": 1,
   "id": "5eb7d714",
   "metadata": {},
   "outputs": [],
   "source": [
    "import pandas as pd\n",
    "import numpy as np\n",
    "import statsmodels.formula.api as smf\n",
    "import statsmodels.api as sm"
   ]
  },
  {
   "cell_type": "markdown",
   "id": "062ee4b9",
   "metadata": {},
   "source": [
    "## Задача 1"
   ]
  },
  {
   "cell_type": "markdown",
   "id": "8b2c35be",
   "metadata": {},
   "source": [
    "Для датасета 'wage2' оценим регрессию **log(wage) на IQ, south**"
   ]
  },
  {
   "cell_type": "code",
   "execution_count": 4,
   "id": "b12aa80d",
   "metadata": {},
   "outputs": [
    {
     "data": {
      "text/html": [
       "<div>\n",
       "<style scoped>\n",
       "    .dataframe tbody tr th:only-of-type {\n",
       "        vertical-align: middle;\n",
       "    }\n",
       "\n",
       "    .dataframe tbody tr th {\n",
       "        vertical-align: top;\n",
       "    }\n",
       "\n",
       "    .dataframe thead th {\n",
       "        text-align: right;\n",
       "    }\n",
       "</style>\n",
       "<table border=\"1\" class=\"dataframe\">\n",
       "  <thead>\n",
       "    <tr style=\"text-align: right;\">\n",
       "      <th></th>\n",
       "      <th>wage</th>\n",
       "      <th>hours</th>\n",
       "      <th>IQ</th>\n",
       "      <th>KWW</th>\n",
       "      <th>educ</th>\n",
       "      <th>exper</th>\n",
       "      <th>tenure</th>\n",
       "      <th>age</th>\n",
       "      <th>married</th>\n",
       "      <th>black</th>\n",
       "      <th>south</th>\n",
       "      <th>urban</th>\n",
       "      <th>sibs</th>\n",
       "      <th>brthord</th>\n",
       "      <th>meduc</th>\n",
       "      <th>feduc</th>\n",
       "      <th>lwage</th>\n",
       "    </tr>\n",
       "  </thead>\n",
       "  <tbody>\n",
       "    <tr>\n",
       "      <th>0</th>\n",
       "      <td>769</td>\n",
       "      <td>40</td>\n",
       "      <td>93</td>\n",
       "      <td>35</td>\n",
       "      <td>12</td>\n",
       "      <td>11</td>\n",
       "      <td>2</td>\n",
       "      <td>31</td>\n",
       "      <td>1</td>\n",
       "      <td>0</td>\n",
       "      <td>0</td>\n",
       "      <td>1</td>\n",
       "      <td>1</td>\n",
       "      <td>2.0</td>\n",
       "      <td>8.0</td>\n",
       "      <td>8.0</td>\n",
       "      <td>6.645091</td>\n",
       "    </tr>\n",
       "    <tr>\n",
       "      <th>1</th>\n",
       "      <td>808</td>\n",
       "      <td>50</td>\n",
       "      <td>119</td>\n",
       "      <td>41</td>\n",
       "      <td>18</td>\n",
       "      <td>11</td>\n",
       "      <td>16</td>\n",
       "      <td>37</td>\n",
       "      <td>1</td>\n",
       "      <td>0</td>\n",
       "      <td>0</td>\n",
       "      <td>1</td>\n",
       "      <td>1</td>\n",
       "      <td>NaN</td>\n",
       "      <td>14.0</td>\n",
       "      <td>14.0</td>\n",
       "      <td>6.694562</td>\n",
       "    </tr>\n",
       "    <tr>\n",
       "      <th>2</th>\n",
       "      <td>825</td>\n",
       "      <td>40</td>\n",
       "      <td>108</td>\n",
       "      <td>46</td>\n",
       "      <td>14</td>\n",
       "      <td>11</td>\n",
       "      <td>9</td>\n",
       "      <td>33</td>\n",
       "      <td>1</td>\n",
       "      <td>0</td>\n",
       "      <td>0</td>\n",
       "      <td>1</td>\n",
       "      <td>1</td>\n",
       "      <td>2.0</td>\n",
       "      <td>14.0</td>\n",
       "      <td>14.0</td>\n",
       "      <td>6.715384</td>\n",
       "    </tr>\n",
       "    <tr>\n",
       "      <th>3</th>\n",
       "      <td>650</td>\n",
       "      <td>40</td>\n",
       "      <td>96</td>\n",
       "      <td>32</td>\n",
       "      <td>12</td>\n",
       "      <td>13</td>\n",
       "      <td>7</td>\n",
       "      <td>32</td>\n",
       "      <td>1</td>\n",
       "      <td>0</td>\n",
       "      <td>0</td>\n",
       "      <td>1</td>\n",
       "      <td>4</td>\n",
       "      <td>3.0</td>\n",
       "      <td>12.0</td>\n",
       "      <td>12.0</td>\n",
       "      <td>6.476973</td>\n",
       "    </tr>\n",
       "    <tr>\n",
       "      <th>4</th>\n",
       "      <td>562</td>\n",
       "      <td>40</td>\n",
       "      <td>74</td>\n",
       "      <td>27</td>\n",
       "      <td>11</td>\n",
       "      <td>14</td>\n",
       "      <td>5</td>\n",
       "      <td>34</td>\n",
       "      <td>1</td>\n",
       "      <td>0</td>\n",
       "      <td>0</td>\n",
       "      <td>1</td>\n",
       "      <td>10</td>\n",
       "      <td>6.0</td>\n",
       "      <td>6.0</td>\n",
       "      <td>11.0</td>\n",
       "      <td>6.331502</td>\n",
       "    </tr>\n",
       "  </tbody>\n",
       "</table>\n",
       "</div>"
      ],
      "text/plain": [
       "   wage  hours   IQ  KWW  educ  exper  tenure  age  married  black  south  \\\n",
       "0   769     40   93   35    12     11       2   31        1      0      0   \n",
       "1   808     50  119   41    18     11      16   37        1      0      0   \n",
       "2   825     40  108   46    14     11       9   33        1      0      0   \n",
       "3   650     40   96   32    12     13       7   32        1      0      0   \n",
       "4   562     40   74   27    11     14       5   34        1      0      0   \n",
       "\n",
       "   urban  sibs  brthord  meduc  feduc     lwage  \n",
       "0      1     1      2.0    8.0    8.0  6.645091  \n",
       "1      1     1      NaN   14.0   14.0  6.694562  \n",
       "2      1     1      2.0   14.0   14.0  6.715384  \n",
       "3      1     4      3.0   12.0   12.0  6.476973  \n",
       "4      1    10      6.0    6.0   11.0  6.331502  "
      ]
     },
     "execution_count": 4,
     "metadata": {},
     "output_type": "execute_result"
    }
   ],
   "source": [
    "df_wage = pd.read_csv('C:\\Users\\stud.LIMM\\Downloads\\Econometrica-master\\python-notebooks\\data-csv\\wage2.csv')\n",
    "df_wage.head()"
   ]
  },
  {
   "cell_type": "markdown",
   "id": "94961395",
   "metadata": {},
   "source": [
    "Найдем коэффиценты подогнанной модели"
   ]
  },
  {
   "cell_type": "code",
   "execution_count": 30,
   "id": "661887dc",
   "metadata": {},
   "outputs": [
    {
     "data": {
      "text/plain": [
       "Intercept    6.01\n",
       "IQ           0.01\n",
       "south       -0.12\n",
       "dtype: float64"
      ]
     },
     "execution_count": 30,
     "metadata": {},
     "output_type": "execute_result"
    }
   ],
   "source": [
    "# специфицируем модель через формулу\n",
    "wage_eq1 = smf.ols(formula='np.log(wage)~IQ+south', data=df_wage).fit()\n",
    "# Коэффициенты модели с округлением\n",
    "wage_eq1.params.round(2)"
   ]
  },
  {
   "cell_type": "markdown",
   "id": "3c5311f8",
   "metadata": {},
   "source": [
    "## Задача 2"
   ]
  },
  {
   "cell_type": "markdown",
   "id": "01491c14",
   "metadata": {},
   "source": [
    "Для датасета 'wage2' оценим регрессию **log(wage) на age, south, urban, married**"
   ]
  },
  {
   "cell_type": "code",
   "execution_count": 10,
   "id": "b373f570",
   "metadata": {},
   "outputs": [
    {
     "data": {
      "text/plain": [
       "Intercept    5.89\n",
       "age          0.02\n",
       "south       -0.15\n",
       "urban        0.18\n",
       "married      0.20\n",
       "dtype: float64"
      ]
     },
     "execution_count": 10,
     "metadata": {},
     "output_type": "execute_result"
    }
   ],
   "source": [
    "# специфицируем модель через формулу\n",
    "wage_eq2 = smf.ols(formula='np.log(wage)~age+south+urban+married', data=df_wage).fit()\n",
    "# Коэффициенты модели с округлением\n",
    "wage_eq2.params.round(2)"
   ]
  },
  {
   "cell_type": "markdown",
   "id": "cce9ff96",
   "metadata": {},
   "source": [
    "Вычислим $R^2$ и $R^2_{adj}$"
   ]
  },
  {
   "cell_type": "code",
   "execution_count": 12,
   "id": "975845e7",
   "metadata": {},
   "outputs": [
    {
     "name": "stdout",
     "output_type": "stream",
     "text": [
      "R2 = 0.118\n",
      "R2_adj = 0.114\n"
     ]
    }
   ],
   "source": [
    "R2 = wage_eq2.rsquared\n",
    "R2_adj = wage_eq2.rsquared_adj\n",
    "print(\"R2 =\", R2.round(3))\n",
    "print(\"R2_adj =\", R2_adj.round(3))"
   ]
  },
  {
   "cell_type": "markdown",
   "id": "c70afd43",
   "metadata": {},
   "source": [
    "## Задача 3"
   ]
  },
  {
   "cell_type": "markdown",
   "id": "0e4e425d",
   "metadata": {},
   "source": [
    "Для датасета 'Labour' оценим регрессию **log(output) на log(labour) & log(wage)**"
   ]
  },
  {
   "cell_type": "code",
   "execution_count": 17,
   "id": "0c6e62ef",
   "metadata": {},
   "outputs": [
    {
     "data": {
      "text/plain": [
       "Intercept        -5.97\n",
       "np.log(labour)    0.85\n",
       "np.log(wage)      1.07\n",
       "dtype: float64"
      ]
     },
     "execution_count": 17,
     "metadata": {},
     "output_type": "execute_result"
    }
   ],
   "source": [
    "df_labour = pd.read_csv('C:\\Users\\stud.LIMM\\Downloads\\Econometrica-master\\python-notebooks\\data-csv\\Labour.csv')\n",
    "# Подгонка модели\n",
    "labour_eq1 = smf.ols(formula='np.log(output)~np.log(labour)+np.log(wage)', data=df_labour).fit()\n",
    "labour_eq1.params.round(2)"
   ]
  },
  {
   "cell_type": "markdown",
   "id": "4c362417",
   "metadata": {},
   "source": [
    "Вычислим TSS, ESS, RSS"
   ]
  },
  {
   "cell_type": "code",
   "execution_count": 18,
   "id": "22314999",
   "metadata": {},
   "outputs": [
    {
     "name": "stdout",
     "output_type": "stream",
     "text": [
      "TSS = 797.67\n",
      "ESS = 692.45\n",
      "RSS = 105.22\n"
     ]
    }
   ],
   "source": [
    "TSS = labour_eq1.centered_tss\n",
    "ESS = labour_eq1.ess\n",
    "RSS = labour_eq1.ssr\n",
    "print(\"TSS =\", TSS.round(2))\n",
    "print(\"ESS =\", ESS.round(2))\n",
    "print(\"RSS =\", RSS.round(2))"
   ]
  },
  {
   "cell_type": "markdown",
   "id": "6b7c76e0",
   "metadata": {},
   "source": [
    "## Задача 4"
   ]
  },
  {
   "cell_type": "markdown",
   "id": "203b6f36",
   "metadata": {},
   "source": [
    "Для датасета 'Labour' оценим регрессию **log(output) на log(capital), log(labour), log(wage)**"
   ]
  },
  {
   "cell_type": "code",
   "execution_count": 25,
   "id": "202e8c87",
   "metadata": {},
   "outputs": [
    {
     "data": {
      "text/plain": [
       "Intercept         -5.01\n",
       "np.log(capital)    0.15\n",
       "np.log(labour)     0.72\n",
       "np.log(wage)       0.92\n",
       "dtype: float64"
      ]
     },
     "execution_count": 25,
     "metadata": {},
     "output_type": "execute_result"
    }
   ],
   "source": [
    "# Подгонка модели\n",
    "labour_eq2 = smf.ols(formula='np.log(output)~np.log(capital)+np.log(labour)+np.log(wage)', data=df_labour).fit()\n",
    "labour_eq2.params.round(2)"
   ]
  },
  {
   "cell_type": "markdown",
   "id": "1c4a7168",
   "metadata": {},
   "source": [
    "Для наблюдения с номером 464 найдем фактическое значение зависимой переменной, предсказанное значение и остаток"
   ]
  },
  {
   "cell_type": "code",
   "execution_count": 26,
   "id": "96a559ea",
   "metadata": {},
   "outputs": [
    {
     "data": {
      "text/plain": [
       "1.271"
      ]
     },
     "execution_count": 26,
     "metadata": {},
     "output_type": "execute_result"
    }
   ],
   "source": [
    "# Фактичечкое\n",
    "np.log(df_labour[\"output\"][466]).round(3)"
   ]
  },
  {
   "cell_type": "code",
   "execution_count": 27,
   "id": "0eceb648",
   "metadata": {},
   "outputs": [
    {
     "data": {
      "text/plain": [
       "1.342"
      ]
     },
     "execution_count": 27,
     "metadata": {},
     "output_type": "execute_result"
    }
   ],
   "source": [
    "# Предсказанное\n",
    "labour_eq2.fittedvalues[466].round(3)"
   ]
  },
  {
   "cell_type": "code",
   "execution_count": 28,
   "id": "3684ed40",
   "metadata": {},
   "outputs": [
    {
     "data": {
      "text/plain": [
       "-0.07"
      ]
     },
     "execution_count": 28,
     "metadata": {},
     "output_type": "execute_result"
    }
   ],
   "source": [
    "# Остаток\n",
    "labour_eq2.resid[466].round(3)"
   ]
  },
  {
   "cell_type": "markdown",
   "id": "4d39c837",
   "metadata": {},
   "source": [
    "## Задача 5"
   ]
  },
  {
   "cell_type": "markdown",
   "id": "2e9125ab",
   "metadata": {},
   "source": [
    "Для набора данных 'Labour' рассмотрим линейную регрессию **log(output) на log(capital), labour, wage**\n",
    "\n",
    "Оценим регрессию на данных\n",
    "\n",
    "Спецификация: $\\log(output)=\\beta_0+\\beta_1\\log(capital)+\\beta_2labour+\\beta_3wage+u$"
   ]
  },
  {
   "cell_type": "code",
   "execution_count": 31,
   "id": "a86cea0a",
   "metadata": {},
   "outputs": [
    {
     "data": {
      "text/plain": [
       "Intercept          0.58\n",
       "np.log(capital)    0.44\n",
       "labour             0.00\n",
       "wage               0.02\n",
       "dtype: float64"
      ]
     },
     "execution_count": 31,
     "metadata": {},
     "output_type": "execute_result"
    }
   ],
   "source": [
    "# Подгонка модели\n",
    "labour_eq3 = smf.ols(formula='np.log(output)~np.log(capital)+labour+wage', data=df_labour).fit()\n",
    "labour_eq3.params.round(2)"
   ]
  },
  {
   "cell_type": "markdown",
   "id": "8b59355a",
   "metadata": {},
   "source": [
    "Для наблюдений с номерами 2, 11, 24, 101, 349, 501 найдем фактическое значение зависимой переменной, предсказанное значение и остатки."
   ]
  },
  {
   "cell_type": "code",
   "execution_count": 36,
   "id": "ffdefe65",
   "metadata": {},
   "outputs": [
    {
     "data": {
      "text/html": [
       "<div>\n",
       "<style scoped>\n",
       "    .dataframe tbody tr th:only-of-type {\n",
       "        vertical-align: middle;\n",
       "    }\n",
       "\n",
       "    .dataframe tbody tr th {\n",
       "        vertical-align: top;\n",
       "    }\n",
       "\n",
       "    .dataframe thead th {\n",
       "        text-align: right;\n",
       "    }\n",
       "</style>\n",
       "<table border=\"1\" class=\"dataframe\">\n",
       "  <thead>\n",
       "    <tr style=\"text-align: right;\">\n",
       "      <th></th>\n",
       "      <th>i</th>\n",
       "      <th>Факт</th>\n",
       "      <th>Fitted</th>\n",
       "      <th>Остаток</th>\n",
       "    </tr>\n",
       "  </thead>\n",
       "  <tbody>\n",
       "    <tr>\n",
       "      <th>2</th>\n",
       "      <td>3</td>\n",
       "      <td>3.359733</td>\n",
       "      <td>2.861427</td>\n",
       "      <td>0.498307</td>\n",
       "    </tr>\n",
       "    <tr>\n",
       "      <th>19</th>\n",
       "      <td>20</td>\n",
       "      <td>0.748116</td>\n",
       "      <td>0.630456</td>\n",
       "      <td>0.117660</td>\n",
       "    </tr>\n",
       "    <tr>\n",
       "      <th>55</th>\n",
       "      <td>56</td>\n",
       "      <td>5.662240</td>\n",
       "      <td>6.553122</td>\n",
       "      <td>-0.890881</td>\n",
       "    </tr>\n",
       "    <tr>\n",
       "      <th>111</th>\n",
       "      <td>112</td>\n",
       "      <td>3.723433</td>\n",
       "      <td>3.358122</td>\n",
       "      <td>0.365311</td>\n",
       "    </tr>\n",
       "    <tr>\n",
       "      <th>350</th>\n",
       "      <td>351</td>\n",
       "      <td>0.748819</td>\n",
       "      <td>0.730315</td>\n",
       "      <td>0.018504</td>\n",
       "    </tr>\n",
       "    <tr>\n",
       "      <th>500</th>\n",
       "      <td>501</td>\n",
       "      <td>1.297354</td>\n",
       "      <td>2.281278</td>\n",
       "      <td>-0.983925</td>\n",
       "    </tr>\n",
       "  </tbody>\n",
       "</table>\n",
       "</div>"
      ],
      "text/plain": [
       "       i      Факт    Fitted   Остаток\n",
       "2      3  3.359733  2.861427  0.498307\n",
       "19    20  0.748116  0.630456  0.117660\n",
       "55    56  5.662240  6.553122 -0.890881\n",
       "111  112  3.723433  3.358122  0.365311\n",
       "350  351  0.748819  0.730315  0.018504\n",
       "500  501  1.297354  2.281278 -0.983925"
      ]
     },
     "execution_count": 36,
     "metadata": {},
     "output_type": "execute_result"
    }
   ],
   "source": [
    "ind = np.array([3, 20, 56, 112, 351, 501])-1\n",
    "df = pd.DataFrame({'i': ind + 1, 'Факт': np.log(df_labour[\"output\"][ind]), 'Fitted': labour_eq3.predict()[ind], 'Остаток': np.log(df_labour[\"output\"][ind]) - labour_eq3.predict()[ind]})\n",
    "df"
   ]
  },
  {
   "cell_type": "markdown",
   "id": "4c2328de",
   "metadata": {},
   "source": [
    "Вычислим TSS, ESS, RSS"
   ]
  },
  {
   "cell_type": "code",
   "execution_count": 39,
   "id": "ccb3c54f",
   "metadata": {},
   "outputs": [
    {
     "name": "stdout",
     "output_type": "stream",
     "text": [
      "TSS = 797.667\n",
      "ESS = 522.54\n",
      "RSS = 275.128\n"
     ]
    }
   ],
   "source": [
    "TSS = labour_eq3.centered_tss\n",
    "ESS = labour_eq3.ess\n",
    "RSS = labour_eq3.ssr\n",
    "print(\"TSS =\", TSS.round(3))\n",
    "print(\"ESS =\", ESS.round(3))\n",
    "print(\"RSS =\", RSS.round(3))"
   ]
  },
  {
   "cell_type": "markdown",
   "id": "606d3e6a",
   "metadata": {},
   "source": [
    "Вычислим $R^2$ и $R^2_{adj}$"
   ]
  },
  {
   "cell_type": "markdown",
   "id": "cee7f2f1",
   "metadata": {},
   "source": [
    "Вычислим стандартрую ошибку регрессии"
   ]
  },
  {
   "cell_type": "code",
   "execution_count": 42,
   "id": "c15b9b2f",
   "metadata": {},
   "outputs": [
    {
     "name": "stdout",
     "output_type": "stream",
     "text": [
      "s = 0.6978\n"
     ]
    }
   ],
   "source": [
    "n = len(df_labour[\"output\"])\n",
    "k = 3\n",
    "s = np.sqrt(RSS / (n - k - 1))\n",
    "print(\"s =\", s.round(4))"
   ]
  },
  {
   "cell_type": "markdown",
   "id": "1ec5736b",
   "metadata": {},
   "source": [
    "Спецификация: $\\log(output)=0.58+0.44*\\log(capital)+0*labour+0.02*wage+u$"
   ]
  },
  {
   "cell_type": "markdown",
   "id": "4152b886",
   "metadata": {},
   "source": [
    "### Интерпретация модели\n",
    "1) При увеличении капитала на 1%, выпуск увеличивается на 0.44%\n",
    "2) При увеличении зарплаты сотрудников на 1000 евро, выпуск возрастает на 0.02 млн евро при прочих равных условиях"
   ]
  }
 ],
 "metadata": {
  "kernelspec": {
   "display_name": "Python 3 (ipykernel)",
   "language": "python",
   "name": "python3"
  },
  "language_info": {
   "codemirror_mode": {
    "name": "ipython",
    "version": 3
   },
   "file_extension": ".py",
   "mimetype": "text/x-python",
   "name": "python",
   "nbconvert_exporter": "python",
   "pygments_lexer": "ipython3",
   "version": "3.9.16"
  }
 },
 "nbformat": 4,
 "nbformat_minor": 5
}
