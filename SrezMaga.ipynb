{
 "cells": [
  {
   "cell_type": "markdown",
   "id": "e78edff4",
   "metadata": {},
   "source": [
    "# Контрольная работа\n",
    "Хункаев Магомед"
   ]
  },
  {
   "cell_type": "code",
   "execution_count": 27,
   "id": "9e90e115",
   "metadata": {},
   "outputs": [],
   "source": [
    "import pandas as pd\n",
    "import numpy as np\n",
    "import statsmodels.formula.api as smf\n",
    "import statsmodels.api as sm\n",
    "import seaborn as sns"
   ]
  },
  {
   "cell_type": "markdown",
   "id": "5ce37085",
   "metadata": {},
   "source": [
    "Выгрузим данные в датафрейм и псомотрим на них"
   ]
  },
  {
   "cell_type": "code",
   "execution_count": 9,
   "id": "e5f005df",
   "metadata": {},
   "outputs": [
    {
     "data": {
      "text/html": [
       "<div>\n",
       "<style scoped>\n",
       "    .dataframe tbody tr th:only-of-type {\n",
       "        vertical-align: middle;\n",
       "    }\n",
       "\n",
       "    .dataframe tbody tr th {\n",
       "        vertical-align: top;\n",
       "    }\n",
       "\n",
       "    .dataframe thead th {\n",
       "        text-align: right;\n",
       "    }\n",
       "</style>\n",
       "<table border=\"1\" class=\"dataframe\">\n",
       "  <thead>\n",
       "    <tr style=\"text-align: right;\">\n",
       "      <th></th>\n",
       "      <th>price</th>\n",
       "      <th>area</th>\n",
       "      <th>bedrooms</th>\n",
       "      <th>bathrooms</th>\n",
       "      <th>stories</th>\n",
       "      <th>mainroad</th>\n",
       "      <th>guestroom</th>\n",
       "      <th>basement</th>\n",
       "      <th>hotwaterheating</th>\n",
       "      <th>airconditioning</th>\n",
       "      <th>parking</th>\n",
       "      <th>prefarea</th>\n",
       "      <th>furnishingstatus</th>\n",
       "    </tr>\n",
       "  </thead>\n",
       "  <tbody>\n",
       "    <tr>\n",
       "      <th>0</th>\n",
       "      <td>13300000</td>\n",
       "      <td>7420</td>\n",
       "      <td>4</td>\n",
       "      <td>2</td>\n",
       "      <td>3</td>\n",
       "      <td>yes</td>\n",
       "      <td>no</td>\n",
       "      <td>no</td>\n",
       "      <td>no</td>\n",
       "      <td>yes</td>\n",
       "      <td>2</td>\n",
       "      <td>yes</td>\n",
       "      <td>furnished</td>\n",
       "    </tr>\n",
       "    <tr>\n",
       "      <th>1</th>\n",
       "      <td>12250000</td>\n",
       "      <td>8960</td>\n",
       "      <td>4</td>\n",
       "      <td>4</td>\n",
       "      <td>4</td>\n",
       "      <td>yes</td>\n",
       "      <td>no</td>\n",
       "      <td>no</td>\n",
       "      <td>no</td>\n",
       "      <td>yes</td>\n",
       "      <td>3</td>\n",
       "      <td>no</td>\n",
       "      <td>furnished</td>\n",
       "    </tr>\n",
       "    <tr>\n",
       "      <th>2</th>\n",
       "      <td>12250000</td>\n",
       "      <td>9960</td>\n",
       "      <td>3</td>\n",
       "      <td>2</td>\n",
       "      <td>2</td>\n",
       "      <td>yes</td>\n",
       "      <td>no</td>\n",
       "      <td>yes</td>\n",
       "      <td>no</td>\n",
       "      <td>no</td>\n",
       "      <td>2</td>\n",
       "      <td>yes</td>\n",
       "      <td>semi-furnished</td>\n",
       "    </tr>\n",
       "    <tr>\n",
       "      <th>3</th>\n",
       "      <td>12215000</td>\n",
       "      <td>7500</td>\n",
       "      <td>4</td>\n",
       "      <td>2</td>\n",
       "      <td>2</td>\n",
       "      <td>yes</td>\n",
       "      <td>no</td>\n",
       "      <td>yes</td>\n",
       "      <td>no</td>\n",
       "      <td>yes</td>\n",
       "      <td>3</td>\n",
       "      <td>yes</td>\n",
       "      <td>furnished</td>\n",
       "    </tr>\n",
       "    <tr>\n",
       "      <th>4</th>\n",
       "      <td>11410000</td>\n",
       "      <td>7420</td>\n",
       "      <td>4</td>\n",
       "      <td>1</td>\n",
       "      <td>2</td>\n",
       "      <td>yes</td>\n",
       "      <td>yes</td>\n",
       "      <td>yes</td>\n",
       "      <td>no</td>\n",
       "      <td>yes</td>\n",
       "      <td>2</td>\n",
       "      <td>no</td>\n",
       "      <td>furnished</td>\n",
       "    </tr>\n",
       "  </tbody>\n",
       "</table>\n",
       "</div>"
      ],
      "text/plain": [
       "      price  area  bedrooms  bathrooms  stories mainroad guestroom basement  \\\n",
       "0  13300000  7420         4          2        3      yes        no       no   \n",
       "1  12250000  8960         4          4        4      yes        no       no   \n",
       "2  12250000  9960         3          2        2      yes        no      yes   \n",
       "3  12215000  7500         4          2        2      yes        no      yes   \n",
       "4  11410000  7420         4          1        2      yes       yes      yes   \n",
       "\n",
       "  hotwaterheating airconditioning  parking prefarea furnishingstatus  \n",
       "0              no             yes        2      yes        furnished  \n",
       "1              no             yes        3       no        furnished  \n",
       "2              no              no        2      yes   semi-furnished  \n",
       "3              no             yes        3      yes        furnished  \n",
       "4              no             yes        2       no        furnished  "
      ]
     },
     "execution_count": 9,
     "metadata": {},
     "output_type": "execute_result"
    }
   ],
   "source": [
    "df = pd.read_csv('/Users/kirillmirchevskiy/Downloads/Econometrica-master/python-notebooks/data-csv/12Housing.csv')\n",
    "df.head()"
   ]
  },
  {
   "cell_type": "code",
   "execution_count": 10,
   "id": "cb573c87",
   "metadata": {},
   "outputs": [
    {
     "data": {
      "text/plain": [
       "array(['yes', 'no'], dtype=object)"
      ]
     },
     "execution_count": 10,
     "metadata": {},
     "output_type": "execute_result"
    }
   ],
   "source": [
    "df[\"airconditioning\"].unique()"
   ]
  },
  {
   "cell_type": "markdown",
   "id": "f4dd00bc",
   "metadata": {},
   "source": [
    "Видим что банарная колонка airconditioning содержит данные в неудобном для применения моделей виде\n",
    "\n",
    "Заменим yes, no на 1, 0 соответственно"
   ]
  },
  {
   "cell_type": "code",
   "execution_count": 13,
   "id": "94ceb1fb",
   "metadata": {},
   "outputs": [
    {
     "data": {
      "text/html": [
       "<div>\n",
       "<style scoped>\n",
       "    .dataframe tbody tr th:only-of-type {\n",
       "        vertical-align: middle;\n",
       "    }\n",
       "\n",
       "    .dataframe tbody tr th {\n",
       "        vertical-align: top;\n",
       "    }\n",
       "\n",
       "    .dataframe thead th {\n",
       "        text-align: right;\n",
       "    }\n",
       "</style>\n",
       "<table border=\"1\" class=\"dataframe\">\n",
       "  <thead>\n",
       "    <tr style=\"text-align: right;\">\n",
       "      <th></th>\n",
       "      <th>price</th>\n",
       "      <th>area</th>\n",
       "      <th>bedrooms</th>\n",
       "      <th>bathrooms</th>\n",
       "      <th>stories</th>\n",
       "      <th>mainroad</th>\n",
       "      <th>guestroom</th>\n",
       "      <th>basement</th>\n",
       "      <th>hotwaterheating</th>\n",
       "      <th>airconditioning</th>\n",
       "      <th>parking</th>\n",
       "      <th>prefarea</th>\n",
       "      <th>furnishingstatus</th>\n",
       "    </tr>\n",
       "  </thead>\n",
       "  <tbody>\n",
       "    <tr>\n",
       "      <th>0</th>\n",
       "      <td>13300000</td>\n",
       "      <td>7420</td>\n",
       "      <td>4</td>\n",
       "      <td>2</td>\n",
       "      <td>3</td>\n",
       "      <td>yes</td>\n",
       "      <td>no</td>\n",
       "      <td>no</td>\n",
       "      <td>no</td>\n",
       "      <td>1</td>\n",
       "      <td>2</td>\n",
       "      <td>yes</td>\n",
       "      <td>furnished</td>\n",
       "    </tr>\n",
       "    <tr>\n",
       "      <th>1</th>\n",
       "      <td>12250000</td>\n",
       "      <td>8960</td>\n",
       "      <td>4</td>\n",
       "      <td>4</td>\n",
       "      <td>4</td>\n",
       "      <td>yes</td>\n",
       "      <td>no</td>\n",
       "      <td>no</td>\n",
       "      <td>no</td>\n",
       "      <td>1</td>\n",
       "      <td>3</td>\n",
       "      <td>no</td>\n",
       "      <td>furnished</td>\n",
       "    </tr>\n",
       "    <tr>\n",
       "      <th>2</th>\n",
       "      <td>12250000</td>\n",
       "      <td>9960</td>\n",
       "      <td>3</td>\n",
       "      <td>2</td>\n",
       "      <td>2</td>\n",
       "      <td>yes</td>\n",
       "      <td>no</td>\n",
       "      <td>yes</td>\n",
       "      <td>no</td>\n",
       "      <td>0</td>\n",
       "      <td>2</td>\n",
       "      <td>yes</td>\n",
       "      <td>semi-furnished</td>\n",
       "    </tr>\n",
       "    <tr>\n",
       "      <th>3</th>\n",
       "      <td>12215000</td>\n",
       "      <td>7500</td>\n",
       "      <td>4</td>\n",
       "      <td>2</td>\n",
       "      <td>2</td>\n",
       "      <td>yes</td>\n",
       "      <td>no</td>\n",
       "      <td>yes</td>\n",
       "      <td>no</td>\n",
       "      <td>1</td>\n",
       "      <td>3</td>\n",
       "      <td>yes</td>\n",
       "      <td>furnished</td>\n",
       "    </tr>\n",
       "    <tr>\n",
       "      <th>4</th>\n",
       "      <td>11410000</td>\n",
       "      <td>7420</td>\n",
       "      <td>4</td>\n",
       "      <td>1</td>\n",
       "      <td>2</td>\n",
       "      <td>yes</td>\n",
       "      <td>yes</td>\n",
       "      <td>yes</td>\n",
       "      <td>no</td>\n",
       "      <td>1</td>\n",
       "      <td>2</td>\n",
       "      <td>no</td>\n",
       "      <td>furnished</td>\n",
       "    </tr>\n",
       "  </tbody>\n",
       "</table>\n",
       "</div>"
      ],
      "text/plain": [
       "      price  area  bedrooms  bathrooms  stories mainroad guestroom basement  \\\n",
       "0  13300000  7420         4          2        3      yes        no       no   \n",
       "1  12250000  8960         4          4        4      yes        no       no   \n",
       "2  12250000  9960         3          2        2      yes        no      yes   \n",
       "3  12215000  7500         4          2        2      yes        no      yes   \n",
       "4  11410000  7420         4          1        2      yes       yes      yes   \n",
       "\n",
       "  hotwaterheating  airconditioning  parking prefarea furnishingstatus  \n",
       "0              no                1        2      yes        furnished  \n",
       "1              no                1        3       no        furnished  \n",
       "2              no                0        2      yes   semi-furnished  \n",
       "3              no                1        3      yes        furnished  \n",
       "4              no                1        2       no        furnished  "
      ]
     },
     "execution_count": 13,
     "metadata": {},
     "output_type": "execute_result"
    }
   ],
   "source": [
    "cleanup_nums = {\"airconditioning\": {\"yes\": 1, \"no\": 0}}\n",
    "df = df.replace(cleanup_nums)\n",
    "df.head()"
   ]
  },
  {
   "cell_type": "markdown",
   "id": "9edcd252",
   "metadata": {},
   "source": [
    "Для набора данных '12Housing.csv' рассмотрим регрессию **log(price) на area & airconditioning.**\n",
    "\n",
    "Спецификация: $\\log(price)=\\beta_0+\\beta_1area+\\beta_2airconditioning+u$\n",
    "\n",
    "Подгоним модель и найдем параметры регрессии"
   ]
  },
  {
   "cell_type": "code",
   "execution_count": 18,
   "id": "c4eb02b6",
   "metadata": {},
   "outputs": [
    {
     "data": {
      "text/plain": [
       "Intercept          14.807\n",
       "area                0.000\n",
       "airconditioning     0.281\n",
       "dtype: float64"
      ]
     },
     "execution_count": 18,
     "metadata": {},
     "output_type": "execute_result"
    }
   ],
   "source": [
    "# Подгонка модели\n",
    "price_eq = smf.ols(formula='np.log(price)~area+airconditioning', data=df).fit()\n",
    "price_eq.params.round(3)"
   ]
  },
  {
   "cell_type": "markdown",
   "id": "00e4bcaf",
   "metadata": {},
   "source": [
    "Вычислим основные параметры регрессии: TSS, ESS, RSS"
   ]
  },
  {
   "cell_type": "code",
   "execution_count": 19,
   "id": "60efad3e",
   "metadata": {},
   "outputs": [
    {
     "name": "stdout",
     "output_type": "stream",
     "text": [
      "TSS = 75.348\n",
      "ESS = 31.097\n",
      "RSS = 44.251\n"
     ]
    }
   ],
   "source": [
    "TSS = price_eq.centered_tss\n",
    "ESS = price_eq.ess\n",
    "RSS = price_eq.ssr\n",
    "print(\"TSS =\", TSS.round(3))\n",
    "print(\"ESS =\", ESS.round(3))\n",
    "print(\"RSS =\", RSS.round(3))"
   ]
  },
  {
   "cell_type": "markdown",
   "id": "6f98fbc9",
   "metadata": {},
   "source": [
    "Вычислим $R^2$ и $R^2_{adj}$"
   ]
  },
  {
   "cell_type": "code",
   "execution_count": 22,
   "id": "22d4e9c2",
   "metadata": {},
   "outputs": [
    {
     "name": "stdout",
     "output_type": "stream",
     "text": [
      "R2 = 0.413\n",
      "R2_adj = 0.411\n"
     ]
    }
   ],
   "source": [
    "R2 = price_eq.rsquared\n",
    "R2_adj = price_eq.rsquared_adj\n",
    "print(\"R2 =\", R2.round(3))\n",
    "print(\"R2_adj =\", R2_adj.round(3))"
   ]
  },
  {
   "cell_type": "markdown",
   "id": "98d425cd",
   "metadata": {},
   "source": [
    "Вычислим стандартрую ошибку регрессии"
   ]
  },
  {
   "cell_type": "code",
   "execution_count": 24,
   "id": "42a8b15b",
   "metadata": {},
   "outputs": [
    {
     "name": "stdout",
     "output_type": "stream",
     "text": [
      "s = 0.286\n"
     ]
    }
   ],
   "source": [
    "n = len(df[\"price\"])\n",
    "k = 2\n",
    "s = np.sqrt(RSS / (n - k - 1))\n",
    "print(\"s =\", s.round(3))"
   ]
  },
  {
   "cell_type": "markdown",
   "id": "27506c9f",
   "metadata": {},
   "source": [
    "Спецификация: $\\log(price)=14.807+0*area+0.281*airconditioning+u$"
   ]
  },
  {
   "cell_type": "markdown",
   "id": "6732272b",
   "metadata": {},
   "source": [
    "### Интерпретация модели\n",
    "1) При  изменение окруженяи, цена не меняется\n",
    "2) Наличие кондиционера увеличивает стоимость на 0.281%"
   ]
  },
  {
   "cell_type": "markdown",
   "id": "5ee0f2a0",
   "metadata": {},
   "source": [
    "Значимые коэффиценты - **airconditioning**"
   ]
  },
  {
   "cell_type": "markdown",
   "id": "86f73e22",
   "metadata": {},
   "source": [
    "### Построим графики линии тренда для различных наборов значений"
   ]
  },
  {
   "cell_type": "markdown",
   "id": "5bc5470f",
   "metadata": {},
   "source": [
    "График **price~area**"
   ]
  },
  {
   "cell_type": "code",
   "execution_count": 35,
   "id": "451c6301",
   "metadata": {},
   "outputs": [
    {
     "data": {
      "text/plain": [
       "<Axes: xlabel='price', ylabel='area'>"
      ]
     },
     "execution_count": 35,
     "metadata": {},
     "output_type": "execute_result"
    },
    {
     "data": {
      "image/png": "[encoded data removed]",
      "text/plain": [
       "<Figure size 640x480 with 1 Axes>"
      ]
     },
     "metadata": {},
     "output_type": "display_data"
    }
   ],
   "source": [
    "sns.regplot(data=df, x=np.log(df['price']), y='area', ci=None, line_kws={\"color\": \"b\"}, color = \"C1\")"
   ]
  },
  {
   "cell_type": "markdown",
   "id": "a47edf78",
   "metadata": {},
   "source": [
    "График **price~airconditioning**"
   ]
  },
  {
   "cell_type": "code",
   "execution_count": 30,
   "id": "7d7fd288",
   "metadata": {},
   "outputs": [
    {
     "data": {
      "text/plain": [
       "<Axes: xlabel='price', ylabel='airconditioning'>"
      ]
     },
     "execution_count": 30,
     "metadata": {},
     "output_type": "execute_result"
    },
    {
     "data": {
      "image/png": "[encoded data removed]",
      "text/plain": [
       "<Figure size 640x480 with 1 Axes>"
      ]
     },
     "metadata": {},
     "output_type": "display_data"
    }
   ],
   "source": [
    "sns.regplot(data=df, x=np.log(df['price']), y='airconditioning', ci=None, line_kws={\"color\": \"r\"}, color = \"g\")"
   ]
  },
  {
   "cell_type": "markdown",
   "id": "7d5a4652",
   "metadata": {},
   "source": [
    "Вывод:"
   ]
  },
  {
   "cell_type": "markdown",
   "id": "292be2d0",
   "metadata": {},
   "source": [
    "Рассмотрим регрессию без константы"
   ]
  },
  {
   "cell_type": "code",
   "execution_count": 32,
   "id": "9a84e796",
   "metadata": {},
   "outputs": [
    {
     "data": {
      "text/plain": [
       "area               0.002\n",
       "airconditioning    1.039\n",
       "dtype: float64"
      ]
     },
     "execution_count": 32,
     "metadata": {},
     "output_type": "execute_result"
    }
   ],
   "source": [
    "price_eq2 = smf.ols(formula='np.log(price)~-1+area+airconditioning', data=df).fit()\n",
    "price_eq2.params.round(3)"
   ]
  },
  {
   "cell_type": "markdown",
   "id": "5cb42a43",
   "metadata": {},
   "source": [
    "Вычислим $R^2$"
   ]
  },
  {
   "cell_type": "code",
   "execution_count": 33,
   "id": "0b5eb618",
   "metadata": {},
   "outputs": [
    {
     "name": "stdout",
     "output_type": "stream",
     "text": [
      "R2 = 0.859\n"
     ]
    }
   ],
   "source": [
    "R2 = price_eq2.rsquared\n",
    "print(\"R2 =\", R2.round(3))"
   ]
  },
  {
   "cell_type": "markdown",
   "id": "0cc17428",
   "metadata": {},
   "source": [
    "Сравним с предыдущем значением $R^2$ = 0.413"
   ]
  },
  {
   "cell_type": "markdown",
   "id": "585bb32e",
   "metadata": {},
   "source": [
    "В моделе без константы значение получилось больше, следовательно переменная отклика лучше объясняется предикторной переменной"
   ]
  }
 ],
 "metadata": {
  "kernelspec": {
   "display_name": "Python 3 (ipykernel)",
   "language": "python",
   "name": "python3"
  },
  "language_info": {
   "codemirror_mode": {
    "name": "ipython",
    "version": 3
   },
   "file_extension": ".py",
   "mimetype": "text/x-python",
   "name": "python",
   "nbconvert_exporter": "python",
   "pygments_lexer": "ipython3",
   "version": "3.9.16"
  }
 },
 "nbformat": 4,
 "nbformat_minor": 5
}
