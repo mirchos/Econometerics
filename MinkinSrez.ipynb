{
 "cells": [
  {
   "cell_type": "markdown",
   "id": "a64987bf",
   "metadata": {},
   "source": [
    "# Контрольная работа\n",
    "Владислав Минкин"
   ]
  },
  {
   "cell_type": "code",
   "execution_count": 30,
   "id": "d338452b",
   "metadata": {},
   "outputs": [],
   "source": [
    "import pandas as pd\n",
    "import numpy as np\n",
    "import statsmodels.formula.api as smf\n",
    "import statsmodels.api as sm"
   ]
  },
  {
   "cell_type": "code",
   "execution_count": 31,
   "id": "691920c9",
   "metadata": {},
   "outputs": [],
   "source": [
    "df = pd.read_csv('C:\\Users\\stud.LIMM\\Downloads\\Econometrica-master\\python-notebooks\\data-csv\\sleep75.csv')"
   ]
  },
  {
   "cell_type": "markdown",
   "id": "829da78f",
   "metadata": {},
   "source": [
    "## Задача 1"
   ]
  },
  {
   "cell_type": "code",
   "execution_count": 32,
   "id": "337af6f1",
   "metadata": {},
   "outputs": [
    {
     "data": {
      "text/plain": [
       "Intercept    3573.20\n",
       "totwrk         -0.17\n",
       "male           88.84\n",
       "dtype: float64"
      ]
     },
     "execution_count": 32,
     "metadata": {},
     "output_type": "execute_result"
    }
   ],
   "source": [
    "# специфицируем модель через формулу\n",
    "sleep_eq1 = smf.ols(formula='sleep~totwrk+male', data=df).fit()\n",
    "# Коэфициенты модели с округление\n",
    "sleep_eq1.params.round(2)"
   ]
  },
  {
   "cell_type": "markdown",
   "id": "f92b7d7e",
   "metadata": {},
   "source": [
    "## Задача 2"
   ]
  },
  {
   "cell_type": "code",
   "execution_count": 33,
   "id": "e2b86e3c",
   "metadata": {},
   "outputs": [
    {
     "data": {
      "text/plain": [
       "Intercept    3147.01\n",
       "age             3.69\n",
       "male          -32.49\n",
       "smsa          -48.31\n",
       "south          76.04\n",
       "dtype: float64"
      ]
     },
     "execution_count": 33,
     "metadata": {},
     "output_type": "execute_result"
    }
   ],
   "source": [
    "sleep_eq2 = smf.ols(formula='sleep~age+male+smsa+south', data=df).fit()\n",
    "sleep_eq2.params.round(2)"
   ]
  },
  {
   "cell_type": "code",
   "execution_count": 34,
   "id": "82047fac",
   "metadata": {},
   "outputs": [
    {
     "name": "stdout",
     "output_type": "stream",
     "text": [
      "R2 = 0.019\n",
      "R2_adj = 0.013\n"
     ]
    }
   ],
   "source": [
    "R2 = sleep_eq2.rsquared\n",
    "R2_adj = sleep_eq2.rsquared_adj\n",
    "print(\"R2 =\", R2.round(3))\n",
    "print(\"R2_adj =\", R2_adj.round(3))"
   ]
  },
  {
   "cell_type": "markdown",
   "id": "b3b13284",
   "metadata": {},
   "source": [
    "## Задача 3"
   ]
  },
  {
   "cell_type": "code",
   "execution_count": 35,
   "id": "b69de647",
   "metadata": {},
   "outputs": [
    {
     "data": {
      "text/plain": [
       "Intercept         -1.94\n",
       "np.log(capital)    0.51\n",
       "np.log(wage)       0.88\n",
       "dtype: float64"
      ]
     },
     "execution_count": 35,
     "metadata": {},
     "output_type": "execute_result"
    }
   ],
   "source": [
    "df_labour = pd.read_csv('C:\\Users\\stud.LIMM\\Downloads\\Econometrica-master\\python-notebooks\\data-csv\\Labour.csv')\n",
    "# Подгонка модели\n",
    "labour_eq = smf.ols(formula='np.log(output)~np.log(capital)+np.log(wage)', data=df_labour).fit()\n",
    "labour_eq.params.round(2)"
   ]
  },
  {
   "cell_type": "code",
   "execution_count": 36,
   "id": "ec70d03d",
   "metadata": {},
   "outputs": [
    {
     "name": "stdout",
     "output_type": "stream",
     "text": [
      "TSS = 797.67\n",
      "ESS = 487.23\n",
      "RSS = 310.43\n"
     ]
    }
   ],
   "source": [
    "TSS = labour_eq.centered_tss\n",
    "ESS = labour_eq.ess\n",
    "RSS = labour_eq.ssr\n",
    "print(\"TSS =\", TSS.round(2))\n",
    "print(\"ESS =\", ESS.round(2))\n",
    "print(\"RSS =\", RSS.round(2))"
   ]
  },
  {
   "cell_type": "markdown",
   "id": "67a0f9bc",
   "metadata": {},
   "source": [
    "## Задача 4"
   ]
  },
  {
   "cell_type": "code",
   "execution_count": 37,
   "id": "75541db8",
   "metadata": {},
   "outputs": [
    {
     "data": {
      "text/plain": [
       "Intercept         -5.01\n",
       "np.log(capital)    0.15\n",
       "np.log(labour)     0.72\n",
       "np.log(wage)       0.92\n",
       "dtype: float64"
      ]
     },
     "execution_count": 37,
     "metadata": {},
     "output_type": "execute_result"
    }
   ],
   "source": [
    "# Подгонка модели\n",
    "labour_eq2 = smf.ols(formula='np.log(output)~np.log(capital)+np.log(labour)+np.log(wage)', data=df_labour).fit()\n",
    "labour_eq2.params.round(2)"
   ]
  },
  {
   "cell_type": "code",
   "execution_count": 38,
   "id": "65fe4e66",
   "metadata": {},
   "outputs": [
    {
     "data": {
      "text/plain": [
       "-0.297"
      ]
     },
     "execution_count": 38,
     "metadata": {},
     "output_type": "execute_result"
    }
   ],
   "source": [
    "# Фактичечкое\n",
    "np.log(df_labour[\"output\"][243]).round(3)"
   ]
  },
  {
   "cell_type": "code",
   "execution_count": 39,
   "id": "17954704",
   "metadata": {},
   "outputs": [
    {
     "data": {
      "text/plain": [
       "0.938"
      ]
     },
     "execution_count": 39,
     "metadata": {},
     "output_type": "execute_result"
    }
   ],
   "source": [
    "# Предсказанные\n",
    "labour_eq2.predict()[243].round(3)"
   ]
  },
  {
   "cell_type": "code",
   "execution_count": 40,
   "id": "1072a9eb",
   "metadata": {},
   "outputs": [
    {
     "data": {
      "text/plain": [
       "-1.235"
      ]
     },
     "execution_count": 40,
     "metadata": {},
     "output_type": "execute_result"
    }
   ],
   "source": [
    "# Остатки\n",
    "labour_eq2.resid[243].round(3)"
   ]
  },
  {
   "cell_type": "markdown",
   "id": "bad8a2bb",
   "metadata": {},
   "source": [
    "## Задача 5"
   ]
  },
  {
   "cell_type": "code",
   "execution_count": 41,
   "id": "de4d3e0c",
   "metadata": {},
   "outputs": [
    {
     "data": {
      "text/plain": [
       "Intercept          0.58\n",
       "np.log(capital)    0.44\n",
       "labour             0.00\n",
       "wage               0.02\n",
       "dtype: float64"
      ]
     },
     "execution_count": 41,
     "metadata": {},
     "output_type": "execute_result"
    }
   ],
   "source": [
    "# Подгонка модели\n",
    "labour_eq3 = smf.ols(formula='np.log(output)~np.log(capital)+labour+wage', data=df_labour).fit()\n",
    "labour_eq3.params.round(2)"
   ]
  },
  {
   "cell_type": "markdown",
   "id": "a6ac5433",
   "metadata": {},
   "source": [
    "Для наблюдений с номерами 2, 11, 24, 101, 349, 501 найдем фактическое значение зависимой переменной, предсказанное значение и остатки."
   ]
  },
  {
   "cell_type": "code",
   "execution_count": 42,
   "id": "6aaba49d",
   "metadata": {},
   "outputs": [
    {
     "data": {
      "text/html": [
       "<div>\n",
       "<style scoped>\n",
       "    .dataframe tbody tr th:only-of-type {\n",
       "        vertical-align: middle;\n",
       "    }\n",
       "\n",
       "    .dataframe tbody tr th {\n",
       "        vertical-align: top;\n",
       "    }\n",
       "\n",
       "    .dataframe thead th {\n",
       "        text-align: right;\n",
       "    }\n",
       "</style>\n",
       "<table border=\"1\" class=\"dataframe\">\n",
       "  <thead>\n",
       "    <tr style=\"text-align: right;\">\n",
       "      <th></th>\n",
       "      <th>i</th>\n",
       "      <th>Факт</th>\n",
       "      <th>Fitted</th>\n",
       "      <th>Остаток</th>\n",
       "    </tr>\n",
       "  </thead>\n",
       "  <tbody>\n",
       "    <tr>\n",
       "      <th>1</th>\n",
       "      <td>2</td>\n",
       "      <td>1.298640</td>\n",
       "      <td>1.194242</td>\n",
       "      <td>0.104398</td>\n",
       "    </tr>\n",
       "    <tr>\n",
       "      <th>10</th>\n",
       "      <td>11</td>\n",
       "      <td>1.177308</td>\n",
       "      <td>1.020305</td>\n",
       "      <td>0.157003</td>\n",
       "    </tr>\n",
       "    <tr>\n",
       "      <th>23</th>\n",
       "      <td>24</td>\n",
       "      <td>0.980694</td>\n",
       "      <td>1.527047</td>\n",
       "      <td>-0.546354</td>\n",
       "    </tr>\n",
       "    <tr>\n",
       "      <th>100</th>\n",
       "      <td>101</td>\n",
       "      <td>0.779641</td>\n",
       "      <td>1.422958</td>\n",
       "      <td>-0.643317</td>\n",
       "    </tr>\n",
       "    <tr>\n",
       "      <th>348</th>\n",
       "      <td>349</td>\n",
       "      <td>1.460262</td>\n",
       "      <td>1.433350</td>\n",
       "      <td>0.026912</td>\n",
       "    </tr>\n",
       "    <tr>\n",
       "      <th>500</th>\n",
       "      <td>501</td>\n",
       "      <td>1.297354</td>\n",
       "      <td>2.281278</td>\n",
       "      <td>-0.983925</td>\n",
       "    </tr>\n",
       "  </tbody>\n",
       "</table>\n",
       "</div>"
      ],
      "text/plain": [
       "       i      Факт    Fitted   Остаток\n",
       "1      2  1.298640  1.194242  0.104398\n",
       "10    11  1.177308  1.020305  0.157003\n",
       "23    24  0.980694  1.527047 -0.546354\n",
       "100  101  0.779641  1.422958 -0.643317\n",
       "348  349  1.460262  1.433350  0.026912\n",
       "500  501  1.297354  2.281278 -0.983925"
      ]
     },
     "execution_count": 42,
     "metadata": {},
     "output_type": "execute_result"
    }
   ],
   "source": [
    "ind = np.array([2, 11, 24, 101, 349, 501])-1\n",
    "df = pd.DataFrame({'i': ind + 1, 'Факт': np.log(df_labour[\"output\"][ind]), 'Fitted': labour_eq3.predict()[ind], 'Остаток': np.log(df_labour[\"output\"][ind]) - labour_eq3.predict()[ind]})\n",
    "df"
   ]
  },
  {
   "cell_type": "markdown",
   "id": "d3df03a4",
   "metadata": {},
   "source": [
    "Вычислим TSS, ESS, RSS"
   ]
  },
  {
   "cell_type": "code",
   "execution_count": 43,
   "id": "87bf8b08",
   "metadata": {},
   "outputs": [
    {
     "name": "stdout",
     "output_type": "stream",
     "text": [
      "TSS = 797.6674045328446\n",
      "ESS = 522.5398122424083\n",
      "RSS = 275.1275922904363\n"
     ]
    }
   ],
   "source": [
    "TSS = labour_eq3.centered_tss\n",
    "ESS = labour_eq3.ess\n",
    "RSS = labour_eq3.ssr\n",
    "print(\"TSS =\", TSS)\n",
    "print(\"ESS =\", ESS)\n",
    "print(\"RSS =\", RSS)"
   ]
  },
  {
   "cell_type": "markdown",
   "id": "96632859",
   "metadata": {},
   "source": [
    "Вычислим $R^2$ и $R^2_{adj}$"
   ]
  },
  {
   "cell_type": "code",
   "execution_count": 44,
   "id": "a1622f9d",
   "metadata": {},
   "outputs": [
    {
     "name": "stdout",
     "output_type": "stream",
     "text": [
      "R2 = 0.6108232977683121\n",
      "R2_adj = 0.6094481150749139\n"
     ]
    }
   ],
   "source": [
    "R2 = labour_eq.rsquared\n",
    "R2_adj = labour_eq.rsquared_adj\n",
    "print(\"R2 =\", R2)\n",
    "print(\"R2_adj =\", R2_adj)"
   ]
  },
  {
   "cell_type": "markdown",
   "id": "461b8d6e",
   "metadata": {},
   "source": [
    "Вычислим стандартрую ошибку регрессии"
   ]
  },
  {
   "cell_type": "code",
   "execution_count": 47,
   "id": "a4bda914",
   "metadata": {},
   "outputs": [
    {
     "name": "stdout",
     "output_type": "stream",
     "text": [
      "s = 0.6984\n"
     ]
    }
   ],
   "source": [
    "n = len(df_labour[\"output\"])\n",
    "k = 4\n",
    "s = np.sqrt(RSS / (n - k - 1))\n",
    "print(\"s =\", s.round(4))"
   ]
  },
  {
   "cell_type": "markdown",
   "id": "5612df29",
   "metadata": {},
   "source": [
    "### Интерпретация модели\n",
    "1) При увеличении капитала на 1%, выпуск не меняется\n",
    "2) При увеличении количества рабочих на 1%, выпуска возрастает на 0.02 при прочих равных условиях"
   ]
  }
 ],
 "metadata": {
  "kernelspec": {
   "display_name": "Python 3 (ipykernel)",
   "language": "python",
   "name": "python3"
  },
  "language_info": {
   "codemirror_mode": {
    "name": "ipython",
    "version": 3
   },
   "file_extension": ".py",
   "mimetype": "text/x-python",
   "name": "python",
   "nbconvert_exporter": "python",
   "pygments_lexer": "ipython3",
   "version": "3.9.16"
  }
 },
 "nbformat": 4,
 "nbformat_minor": 5
}
